{
 "cells": [
  {
   "cell_type": "code",
   "execution_count": null,
   "metadata": {},
   "outputs": [],
   "source": [
    "# coding=utf-8\n",
    "# Copyright 2023 Frank Latos AC8P\n",
    "#\n",
    "# Licensed under the Apache License, Version 2.0 (the \"License\");\n",
    "# you may not use this file except in compliance with the License.\n",
    "# You may obtain a copy of the License at\n",
    "#\n",
    "#     http://www.apache.org/licenses/LICENSE-2.0\n",
    "#\n",
    "# Unless required by applicable law or agreed to in writing, software\n",
    "# distributed under the License is distributed on an \"AS IS\" BASIS,\n",
    "# WITHOUT WARRANTIES OR CONDITIONS OF ANY KIND, either express or implied.\n",
    "# See the License for the specific language governing permissions and\n",
    "# limitations under the License.\n",
    "\n",
    "#\n",
    "# Much appreciation to the Pymoo project for providing the optimization framework used herein:\n",
    "#\n",
    "# pymoo: Multi-objective Optimization in Python\n",
    "# https://github.com/anyoptimization/pymoo\n",
    "# https://pymoo.org/index.html\n",
    "#\n"
   ]
  },
  {
   "cell_type": "markdown",
   "metadata": {},
   "source": [
    "# Design Optimization with Constraints, Part 2:  Mixed Parameter Types\n",
    "\n",
    "\n",
    "A repeat of the wire-length-minimization problem from the previous notebook, but with one added parameter: an (integer) variable representing the number of parallel wires in the 'cage' section of the element.\n",
    "\n",
    "The design parameters are now:\n",
    "* x[0]    overall length    (float)\n",
    "* x[1]    vee angle         (float)\n",
    "* x[2]    length of 'cage' portion as fraction of overall length    (float)\n",
    "* x[3]    number of parallel wires in cage      (integer)\n"
   ]
  },
  {
   "cell_type": "code",
   "execution_count": 22,
   "metadata": {},
   "outputs": [],
   "source": [
    "\n",
    "\n",
    "import numpy as np\n",
    "from pymoo.core.problem import Problem\n",
    "from necutil import nec5_sim_stdio3, make_linear_element, gen_nec5_str, plot_vswr_2\n",
    "from necutil import wire_ant_visualize, rot_x, translate, make_cage_element, total_wire_len\n",
    "\n",
    "# \n",
    "# Basically unchanged from previous version -\n",
    "#  the way we're defining our variables has changed (see next section)\n",
    "#\n",
    "class DipoleConstrainedSingleOptMixedProblem(Problem):\n",
    "    \n",
    "    # Added 'n_ieq_constr' parameter: number of inequality constraints\n",
    "    def __init__(self, variables, n_ieq_constr, segs_per_m, radius, f_min, f_max, z, f_num=9, **kwargs):\n",
    "\n",
    "        super().__init__(vars=variables,\n",
    "                         n_obj=1,\n",
    "                         n_ieq_constr=n_ieq_constr,\n",
    "                         **kwargs)\n",
    "\n",
    "\n",
    "        self.f_min = f_min              # Frequency band of interest: min, max, # of points\n",
    "        self.f_max = f_max\n",
    "        self.f_num = f_num        \n",
    "        self.freqs = np.linspace(f_min, f_max, num=f_num)       # Freqs of interest as an array\n",
    "        self.f_center = np.mean([f_min,f_max])                  # Center freq\n",
    "        self.z0 = 50                    # TL impedance\n",
    "        self.z = z                      # z dimension (height of antenna)\n",
    "        self.segs_per_m = segs_per_m    # NEC secgents per meter \n",
    "        self.radius = radius            # Wire radius (m)\n",
    "        \n",
    "        # NEC5 design deck template\n",
    "        # GX: mirror across xz plane\n",
    "        # EX: feedpoint specified as tag=1, segment=1, near end (1)\n",
    "        # GD: Some typical MININEC ground parameters\n",
    "        self.necpre = 'CE Dipole\\n'             # Obligatory comment line\n",
    "        self.necpost = f\"\"\"GX 100 010\n",
    "GE 1 0\n",
    "GD 0 0 0 0 13 0.005 0 0\n",
    "EX 4 1 1 1 1.0 0.0\n",
    "FR 0 {f_num} 0 0 {f_min} {(f_max-f_min)/(f_num-1)}\n",
    "XQ 0\n",
    "EN\n",
    "\"\"\"\n",
    " \n",
    "    def _make_nec5_design(self, design):\n",
    "        nec_str = gen_nec5_str(design, self.segs_per_m, self.radius)        # Convert to a string of NEC cards\n",
    "        return self.necpre + nec_str + self.necpost                         # Return as complete NEC deck\n",
    "\n",
    "\n",
    "    # In this mixed-variable problem, 'X' is now an array of dictionaries containing the variables we defined\n",
    "    def _evaluate(self, X, out, *args, **kwargs):\n",
    "        designs = [self._make_design(x) for x in X]                 # Make antenna designs based on params in X\n",
    "        necdecks = [self._make_nec5_design(d) for d in designs]     # Convert to NEC decks (strings)\n",
    "\n",
    "        res = nec5_sim_stdio3(necdecks, timelimit=10000.0)          # Run the simulations\n",
    "\n",
    "        # Extracts feedpoint complex z for each design --> complex array of shape (#designs, #freqs)\n",
    "        zs = np.array([[freq[1] for freq in des[0][0]] for des in res])\n",
    "\n",
    "        # Each row in 'vswr_curves' is the vswr curve across the band for one of the designs\n",
    "        abs_refl_coef = np.abs((zs - self.z0) / (zs + self.z0))         # Reflection coefs\n",
    "        vswr_curves = (1 + abs_refl_coef) / (1 - abs_refl_coef)         # Vswr\n",
    "        max_vswr = np.max(vswr_curves, axis=1)[:,None]                  # Max vswr within band for each design (as column vector)\n",
    "\n",
    "        # Provide _compute_objective() to calculate single objective to be minimize\n",
    "        out[\"F\"] = self._compute_objective(X, designs, zs, vswr_curves, max_vswr)\n",
    "\n",
    "        # Provide _compute_constraints() to calculate one or more constraints (must be < 0 to meet constraint)\n",
    "        out[\"G\"] = self._compute_constraints(X, designs, zs, vswr_curves, max_vswr)\n",
    "\n",
    "        # You can also attach other data to the population of designs\n",
    "        # We'll save the vswr curves for each\n",
    "        out[\"VSWR\"] = vswr_curves\n",
    "\n",
    "\n",
    "\n",
    "\n"
   ]
  },
  {
   "cell_type": "code",
   "execution_count": 39,
   "metadata": {},
   "outputs": [
    {
     "name": "stdout",
     "output_type": "stream",
     "text": [
      "=================================================================================\n",
      "n_gen  |  n_eval  |     cv_min    |     cv_avg    |     f_avg     |     f_min    \n",
      "=================================================================================\n",
      "     1 |      200 |  0.000000E+00 |  4.3741603904 |  1.162662E+02 |  3.904295E+01\n",
      "     2 |      300 |  0.000000E+00 |  1.3668997725 |  1.147830E+02 |  3.904295E+01\n",
      "     3 |      400 |  0.000000E+00 |  0.6391063528 |  1.183815E+02 |  3.904295E+01\n",
      "     4 |      500 |  0.000000E+00 |  0.2850062749 |  1.225561E+02 |  3.904295E+01\n",
      "     5 |      600 |  0.000000E+00 |  0.1296478932 |  1.270646E+02 |  3.904295E+01\n",
      "     6 |      700 |  0.000000E+00 |  0.0567616553 |  1.261190E+02 |  3.904295E+01\n",
      "     7 |      800 |  0.000000E+00 |  0.0106243295 |  1.265932E+02 |  3.904295E+01\n",
      "     8 |      900 |  0.000000E+00 |  0.000000E+00 |  1.236796E+02 |  3.904295E+01\n",
      "     9 |     1000 |  0.000000E+00 |  0.000000E+00 |  1.081056E+02 |  3.900638E+01\n",
      "    10 |     1100 |  0.000000E+00 |  0.000000E+00 |  9.776049E+01 |  3.900638E+01\n",
      "    11 |     1200 |  0.000000E+00 |  0.000000E+00 |  9.037247E+01 |  3.900638E+01\n",
      "    12 |     1300 |  0.000000E+00 |  0.000000E+00 |  8.306887E+01 |  3.900638E+01\n",
      "    13 |     1400 |  0.000000E+00 |  0.000000E+00 |  7.737796E+01 |  3.900638E+01\n",
      "    14 |     1500 |  0.000000E+00 |  0.000000E+00 |  7.304769E+01 |  3.900638E+01\n",
      "    15 |     1600 |  0.000000E+00 |  0.000000E+00 |  6.860694E+01 |  3.900638E+01\n",
      "    16 |     1700 |  0.000000E+00 |  0.000000E+00 |  6.613684E+01 |  3.900638E+01\n",
      "    17 |     1800 |  0.000000E+00 |  0.000000E+00 |  6.405072E+01 |  3.900638E+01\n",
      "    18 |     1900 |  0.000000E+00 |  0.000000E+00 |  6.189092E+01 |  3.900638E+01\n",
      "    19 |     2000 |  0.000000E+00 |  0.000000E+00 |  5.870414E+01 |  3.862028E+01\n",
      "    20 |     2100 |  0.000000E+00 |  0.000000E+00 |  5.672367E+01 |  3.862028E+01\n",
      "    21 |     2200 |  0.000000E+00 |  0.000000E+00 |  5.546737E+01 |  3.862028E+01\n",
      "    22 |     2300 |  0.000000E+00 |  0.000000E+00 |  5.462090E+01 |  3.862028E+01\n",
      "    23 |     2400 |  0.000000E+00 |  0.000000E+00 |  5.398994E+01 |  3.862028E+01\n",
      "    24 |     2500 |  0.000000E+00 |  0.000000E+00 |  5.278907E+01 |  3.862028E+01\n",
      "    25 |     2600 |  0.000000E+00 |  0.000000E+00 |  5.209307E+01 |  3.862028E+01\n",
      "    26 |     2700 |  0.000000E+00 |  0.000000E+00 |  5.110985E+01 |  3.862028E+01\n",
      "    27 |     2800 |  0.000000E+00 |  0.000000E+00 |  4.979428E+01 |  3.862028E+01\n",
      "    28 |     2900 |  0.000000E+00 |  0.000000E+00 |  4.890266E+01 |  3.862028E+01\n",
      "    29 |     3000 |  0.000000E+00 |  0.000000E+00 |  4.773463E+01 |  3.862028E+01\n",
      "    30 |     3100 |  0.000000E+00 |  0.000000E+00 |  4.668217E+01 |  3.862028E+01\n",
      "    31 |     3200 |  0.000000E+00 |  0.000000E+00 |  4.568720E+01 |  3.861454E+01\n",
      "    32 |     3300 |  0.000000E+00 |  0.000000E+00 |  4.419776E+01 |  3.861454E+01\n",
      "    33 |     3400 |  0.000000E+00 |  0.000000E+00 |  4.313799E+01 |  3.861454E+01\n",
      "    34 |     3500 |  0.000000E+00 |  0.000000E+00 |  4.143603E+01 |  3.861454E+01\n",
      "    35 |     3600 |  0.000000E+00 |  0.000000E+00 |  4.008418E+01 |  3.861298E+01\n",
      "    36 |     3700 |  0.000000E+00 |  0.000000E+00 |  3.971448E+01 |  3.861298E+01\n",
      "    37 |     3800 |  0.000000E+00 |  0.000000E+00 |  3.962882E+01 |  3.861298E+01\n",
      "    38 |     3900 |  0.000000E+00 |  0.000000E+00 |  3.955449E+01 |  3.861298E+01\n",
      "    39 |     4000 |  0.000000E+00 |  0.000000E+00 |  3.950240E+01 |  3.861298E+01\n",
      "    40 |     4100 |  0.000000E+00 |  0.000000E+00 |  3.943898E+01 |  3.844930E+01\n",
      "    41 |     4200 |  0.000000E+00 |  0.000000E+00 |  3.938383E+01 |  3.844930E+01\n",
      "    42 |     4300 |  0.000000E+00 |  0.000000E+00 |  3.931862E+01 |  3.844930E+01\n",
      "    43 |     4400 |  0.000000E+00 |  0.000000E+00 |  3.927071E+01 |  3.844930E+01\n",
      "    44 |     4500 |  0.000000E+00 |  0.000000E+00 |  3.922478E+01 |  3.842854E+01\n",
      "    45 |     4600 |  0.000000E+00 |  0.000000E+00 |  3.915495E+01 |  3.717204E+01\n",
      "    46 |     4700 |  0.000000E+00 |  0.000000E+00 |  3.911869E+01 |  3.717204E+01\n",
      "    47 |     4800 |  0.000000E+00 |  0.000000E+00 |  3.906493E+01 |  3.717204E+01\n",
      "    48 |     4900 |  0.000000E+00 |  0.000000E+00 |  3.900639E+01 |  3.717204E+01\n",
      "    49 |     5000 |  0.000000E+00 |  0.000000E+00 |  3.894757E+01 |  3.717204E+01\n",
      "    50 |     5100 |  0.000000E+00 |  0.000000E+00 |  3.891112E+01 |  3.717204E+01\n",
      "Optimum length 22.8m, angle -18.4deg, cage fraction 0.57, # wires 2, wire length 37.17\n"
     ]
    },
    {
     "data": {
      "application/vnd.plotly.v1+json": {
       "config": {
        "plotlyServerURL": "https://plot.ly"
       },
       "data": [
        {
         "cmax": 1,
         "cmin": 0,
         "colorscale": [
          [
           0,
           "rgb(247,252,245)"
          ],
          [
           0.125,
           "rgb(229,245,224)"
          ],
          [
           0.25,
           "rgb(199,233,192)"
          ],
          [
           0.375,
           "rgb(161,217,155)"
          ],
          [
           0.5,
           "rgb(116,196,118)"
          ],
          [
           0.625,
           "rgb(65,171,93)"
          ],
          [
           0.75,
           "rgb(35,139,69)"
          ],
          [
           0.875,
           "rgb(0,109,44)"
          ],
          [
           1,
           "rgb(0,68,27)"
          ]
         ],
         "showscale": false,
         "surfacecolor": [
          [
           0.69,
           0.69
          ],
          [
           0.69,
           0.69
          ]
         ],
         "type": "surface",
         "x": [
          -22,
          22
         ],
         "y": [
          -22,
          22
         ],
         "z": [
          [
           0,
           0
          ],
          [
           0,
           0
          ]
         ]
        },
        {
         "color": "lightpink",
         "hoverinfo": "skip",
         "i": [
          0,
          0
         ],
         "j": [
          1,
          2
         ],
         "k": [
          2,
          3
         ],
         "opacity": 0.1,
         "type": "mesh3d",
         "x": [
          -22,
          -22,
          22,
          22
         ],
         "y": [
          0,
          0,
          0,
          0
         ],
         "z": [
          0,
          45,
          45,
          0
         ]
        },
        {
         "line": {
          "color": "darkblue",
          "width": 2
         },
         "marker": {
          "color": "red",
          "size": 2
         },
         "name": "",
         "showlegend": false,
         "type": "scatter3d",
         "x": [
          0,
          0
         ],
         "y": [
          0,
          0.47431240729696234
         ],
         "z": [
          40,
          39.841798418831665
         ]
        },
        {
         "line": {
          "color": "darkblue",
          "width": 2
         },
         "marker": {
          "color": "red",
          "size": 2
         },
         "name": "",
         "showlegend": false,
         "type": "scatter3d",
         "x": [
          0,
          0,
          0,
          0
         ],
         "y": [
          0.47431240729696234,
          0.8222389513840799,
          12.836109896208573,
          12.867633277959023
         ],
         "z": [
          39.841798418831665,
          40.252830193661296,
          36.2457383483207,
          35.70814530855641
         ]
        },
        {
         "line": {
          "color": "darkblue",
          "width": 2
         },
         "marker": {
          "color": "red",
          "size": 2
         },
         "name": "",
         "showlegend": false,
         "type": "scatter3d",
         "x": [
          0,
          6.123233995736766e-17,
          6.123233995736766e-17,
          0
         ],
         "y": [
          0.47431240729696234,
          0.5058357890474147,
          12.519706733871907,
          12.867633277959023
         ],
         "z": [
          39.841798418831665,
          39.30420537906737,
          35.29711353372678,
          35.70814530855641
         ]
        },
        {
         "line": {
          "color": "darkblue",
          "width": 2
         },
         "marker": {
          "color": "red",
          "size": 2
         },
         "name": "",
         "showlegend": false,
         "type": "scatter3d",
         "x": [
          0,
          0
         ],
         "y": [
          12.867633277959023,
          21.58449831771546
         ],
         "z": [
          35.70814530855641,
          32.80073278696695
         ]
        },
        {
         "line": {
          "color": "darkblue",
          "width": 2
         },
         "marker": {
          "color": "red",
          "size": 2
         },
         "name": "",
         "showlegend": false,
         "type": "scatter3d",
         "x": [
          0,
          0
         ],
         "y": [
          0,
          -0.47431240729696234
         ],
         "z": [
          40,
          39.841798418831665
         ]
        },
        {
         "line": {
          "color": "darkblue",
          "width": 2
         },
         "marker": {
          "color": "red",
          "size": 2
         },
         "name": "",
         "showlegend": false,
         "type": "scatter3d",
         "x": [
          0,
          0,
          0,
          0
         ],
         "y": [
          -0.47431240729696234,
          -0.8222389513840799,
          -12.836109896208573,
          -12.867633277959023
         ],
         "z": [
          39.841798418831665,
          40.252830193661296,
          36.2457383483207,
          35.70814530855641
         ]
        },
        {
         "line": {
          "color": "darkblue",
          "width": 2
         },
         "marker": {
          "color": "red",
          "size": 2
         },
         "name": "",
         "showlegend": false,
         "type": "scatter3d",
         "x": [
          0,
          -6.123233995736766e-17,
          -6.123233995736766e-17,
          0
         ],
         "y": [
          -0.47431240729696234,
          -0.5058357890474147,
          -12.519706733871907,
          -12.867633277959023
         ],
         "z": [
          39.841798418831665,
          39.30420537906737,
          35.29711353372678,
          35.70814530855641
         ]
        },
        {
         "line": {
          "color": "darkblue",
          "width": 2
         },
         "marker": {
          "color": "red",
          "size": 2
         },
         "name": "",
         "showlegend": false,
         "type": "scatter3d",
         "x": [
          0,
          0
         ],
         "y": [
          -12.867633277959023,
          -21.58449831771546
         ],
         "z": [
          35.70814530855641,
          32.80073278696695
         ]
        }
       ],
       "layout": {
        "autosize": false,
        "height": 700,
        "scene": {
         "aspectmode": "manual",
         "aspectratio": {
          "x": 1,
          "y": 1,
          "z": 1
         },
         "camera": {
          "eye": {
           "x": 1,
           "y": 0.3,
           "z": 0.3
          },
          "up": {
           "x": 0,
           "y": 0,
           "z": 1
          }
         },
         "xaxis": {
          "range": [
           -22,
           22
          ],
          "showbackground": false
         },
         "yaxis": {
          "range": [
           -22,
           22
          ],
          "showbackground": false
         },
         "zaxis": {
          "range": [
           0,
           45
          ],
          "showbackground": false
         }
        },
        "template": {
         "data": {
          "bar": [
           {
            "error_x": {
             "color": "#2a3f5f"
            },
            "error_y": {
             "color": "#2a3f5f"
            },
            "marker": {
             "line": {
              "color": "#E5ECF6",
              "width": 0.5
             },
             "pattern": {
              "fillmode": "overlay",
              "size": 10,
              "solidity": 0.2
             }
            },
            "type": "bar"
           }
          ],
          "barpolar": [
           {
            "marker": {
             "line": {
              "color": "#E5ECF6",
              "width": 0.5
             },
             "pattern": {
              "fillmode": "overlay",
              "size": 10,
              "solidity": 0.2
             }
            },
            "type": "barpolar"
           }
          ],
          "carpet": [
           {
            "aaxis": {
             "endlinecolor": "#2a3f5f",
             "gridcolor": "white",
             "linecolor": "white",
             "minorgridcolor": "white",
             "startlinecolor": "#2a3f5f"
            },
            "baxis": {
             "endlinecolor": "#2a3f5f",
             "gridcolor": "white",
             "linecolor": "white",
             "minorgridcolor": "white",
             "startlinecolor": "#2a3f5f"
            },
            "type": "carpet"
           }
          ],
          "choropleth": [
           {
            "colorbar": {
             "outlinewidth": 0,
             "ticks": ""
            },
            "type": "choropleth"
           }
          ],
          "contour": [
           {
            "colorbar": {
             "outlinewidth": 0,
             "ticks": ""
            },
            "colorscale": [
             [
              0,
              "#0d0887"
             ],
             [
              0.1111111111111111,
              "#46039f"
             ],
             [
              0.2222222222222222,
              "#7201a8"
             ],
             [
              0.3333333333333333,
              "#9c179e"
             ],
             [
              0.4444444444444444,
              "#bd3786"
             ],
             [
              0.5555555555555556,
              "#d8576b"
             ],
             [
              0.6666666666666666,
              "#ed7953"
             ],
             [
              0.7777777777777778,
              "#fb9f3a"
             ],
             [
              0.8888888888888888,
              "#fdca26"
             ],
             [
              1,
              "#f0f921"
             ]
            ],
            "type": "contour"
           }
          ],
          "contourcarpet": [
           {
            "colorbar": {
             "outlinewidth": 0,
             "ticks": ""
            },
            "type": "contourcarpet"
           }
          ],
          "heatmap": [
           {
            "colorbar": {
             "outlinewidth": 0,
             "ticks": ""
            },
            "colorscale": [
             [
              0,
              "#0d0887"
             ],
             [
              0.1111111111111111,
              "#46039f"
             ],
             [
              0.2222222222222222,
              "#7201a8"
             ],
             [
              0.3333333333333333,
              "#9c179e"
             ],
             [
              0.4444444444444444,
              "#bd3786"
             ],
             [
              0.5555555555555556,
              "#d8576b"
             ],
             [
              0.6666666666666666,
              "#ed7953"
             ],
             [
              0.7777777777777778,
              "#fb9f3a"
             ],
             [
              0.8888888888888888,
              "#fdca26"
             ],
             [
              1,
              "#f0f921"
             ]
            ],
            "type": "heatmap"
           }
          ],
          "heatmapgl": [
           {
            "colorbar": {
             "outlinewidth": 0,
             "ticks": ""
            },
            "colorscale": [
             [
              0,
              "#0d0887"
             ],
             [
              0.1111111111111111,
              "#46039f"
             ],
             [
              0.2222222222222222,
              "#7201a8"
             ],
             [
              0.3333333333333333,
              "#9c179e"
             ],
             [
              0.4444444444444444,
              "#bd3786"
             ],
             [
              0.5555555555555556,
              "#d8576b"
             ],
             [
              0.6666666666666666,
              "#ed7953"
             ],
             [
              0.7777777777777778,
              "#fb9f3a"
             ],
             [
              0.8888888888888888,
              "#fdca26"
             ],
             [
              1,
              "#f0f921"
             ]
            ],
            "type": "heatmapgl"
           }
          ],
          "histogram": [
           {
            "marker": {
             "pattern": {
              "fillmode": "overlay",
              "size": 10,
              "solidity": 0.2
             }
            },
            "type": "histogram"
           }
          ],
          "histogram2d": [
           {
            "colorbar": {
             "outlinewidth": 0,
             "ticks": ""
            },
            "colorscale": [
             [
              0,
              "#0d0887"
             ],
             [
              0.1111111111111111,
              "#46039f"
             ],
             [
              0.2222222222222222,
              "#7201a8"
             ],
             [
              0.3333333333333333,
              "#9c179e"
             ],
             [
              0.4444444444444444,
              "#bd3786"
             ],
             [
              0.5555555555555556,
              "#d8576b"
             ],
             [
              0.6666666666666666,
              "#ed7953"
             ],
             [
              0.7777777777777778,
              "#fb9f3a"
             ],
             [
              0.8888888888888888,
              "#fdca26"
             ],
             [
              1,
              "#f0f921"
             ]
            ],
            "type": "histogram2d"
           }
          ],
          "histogram2dcontour": [
           {
            "colorbar": {
             "outlinewidth": 0,
             "ticks": ""
            },
            "colorscale": [
             [
              0,
              "#0d0887"
             ],
             [
              0.1111111111111111,
              "#46039f"
             ],
             [
              0.2222222222222222,
              "#7201a8"
             ],
             [
              0.3333333333333333,
              "#9c179e"
             ],
             [
              0.4444444444444444,
              "#bd3786"
             ],
             [
              0.5555555555555556,
              "#d8576b"
             ],
             [
              0.6666666666666666,
              "#ed7953"
             ],
             [
              0.7777777777777778,
              "#fb9f3a"
             ],
             [
              0.8888888888888888,
              "#fdca26"
             ],
             [
              1,
              "#f0f921"
             ]
            ],
            "type": "histogram2dcontour"
           }
          ],
          "mesh3d": [
           {
            "colorbar": {
             "outlinewidth": 0,
             "ticks": ""
            },
            "type": "mesh3d"
           }
          ],
          "parcoords": [
           {
            "line": {
             "colorbar": {
              "outlinewidth": 0,
              "ticks": ""
             }
            },
            "type": "parcoords"
           }
          ],
          "pie": [
           {
            "automargin": true,
            "type": "pie"
           }
          ],
          "scatter": [
           {
            "fillpattern": {
             "fillmode": "overlay",
             "size": 10,
             "solidity": 0.2
            },
            "type": "scatter"
           }
          ],
          "scatter3d": [
           {
            "line": {
             "colorbar": {
              "outlinewidth": 0,
              "ticks": ""
             }
            },
            "marker": {
             "colorbar": {
              "outlinewidth": 0,
              "ticks": ""
             }
            },
            "type": "scatter3d"
           }
          ],
          "scattercarpet": [
           {
            "marker": {
             "colorbar": {
              "outlinewidth": 0,
              "ticks": ""
             }
            },
            "type": "scattercarpet"
           }
          ],
          "scattergeo": [
           {
            "marker": {
             "colorbar": {
              "outlinewidth": 0,
              "ticks": ""
             }
            },
            "type": "scattergeo"
           }
          ],
          "scattergl": [
           {
            "marker": {
             "colorbar": {
              "outlinewidth": 0,
              "ticks": ""
             }
            },
            "type": "scattergl"
           }
          ],
          "scattermapbox": [
           {
            "marker": {
             "colorbar": {
              "outlinewidth": 0,
              "ticks": ""
             }
            },
            "type": "scattermapbox"
           }
          ],
          "scatterpolar": [
           {
            "marker": {
             "colorbar": {
              "outlinewidth": 0,
              "ticks": ""
             }
            },
            "type": "scatterpolar"
           }
          ],
          "scatterpolargl": [
           {
            "marker": {
             "colorbar": {
              "outlinewidth": 0,
              "ticks": ""
             }
            },
            "type": "scatterpolargl"
           }
          ],
          "scatterternary": [
           {
            "marker": {
             "colorbar": {
              "outlinewidth": 0,
              "ticks": ""
             }
            },
            "type": "scatterternary"
           }
          ],
          "surface": [
           {
            "colorbar": {
             "outlinewidth": 0,
             "ticks": ""
            },
            "colorscale": [
             [
              0,
              "#0d0887"
             ],
             [
              0.1111111111111111,
              "#46039f"
             ],
             [
              0.2222222222222222,
              "#7201a8"
             ],
             [
              0.3333333333333333,
              "#9c179e"
             ],
             [
              0.4444444444444444,
              "#bd3786"
             ],
             [
              0.5555555555555556,
              "#d8576b"
             ],
             [
              0.6666666666666666,
              "#ed7953"
             ],
             [
              0.7777777777777778,
              "#fb9f3a"
             ],
             [
              0.8888888888888888,
              "#fdca26"
             ],
             [
              1,
              "#f0f921"
             ]
            ],
            "type": "surface"
           }
          ],
          "table": [
           {
            "cells": {
             "fill": {
              "color": "#EBF0F8"
             },
             "line": {
              "color": "white"
             }
            },
            "header": {
             "fill": {
              "color": "#C8D4E3"
             },
             "line": {
              "color": "white"
             }
            },
            "type": "table"
           }
          ]
         },
         "layout": {
          "annotationdefaults": {
           "arrowcolor": "#2a3f5f",
           "arrowhead": 0,
           "arrowwidth": 1
          },
          "autotypenumbers": "strict",
          "coloraxis": {
           "colorbar": {
            "outlinewidth": 0,
            "ticks": ""
           }
          },
          "colorscale": {
           "diverging": [
            [
             0,
             "#8e0152"
            ],
            [
             0.1,
             "#c51b7d"
            ],
            [
             0.2,
             "#de77ae"
            ],
            [
             0.3,
             "#f1b6da"
            ],
            [
             0.4,
             "#fde0ef"
            ],
            [
             0.5,
             "#f7f7f7"
            ],
            [
             0.6,
             "#e6f5d0"
            ],
            [
             0.7,
             "#b8e186"
            ],
            [
             0.8,
             "#7fbc41"
            ],
            [
             0.9,
             "#4d9221"
            ],
            [
             1,
             "#276419"
            ]
           ],
           "sequential": [
            [
             0,
             "#0d0887"
            ],
            [
             0.1111111111111111,
             "#46039f"
            ],
            [
             0.2222222222222222,
             "#7201a8"
            ],
            [
             0.3333333333333333,
             "#9c179e"
            ],
            [
             0.4444444444444444,
             "#bd3786"
            ],
            [
             0.5555555555555556,
             "#d8576b"
            ],
            [
             0.6666666666666666,
             "#ed7953"
            ],
            [
             0.7777777777777778,
             "#fb9f3a"
            ],
            [
             0.8888888888888888,
             "#fdca26"
            ],
            [
             1,
             "#f0f921"
            ]
           ],
           "sequentialminus": [
            [
             0,
             "#0d0887"
            ],
            [
             0.1111111111111111,
             "#46039f"
            ],
            [
             0.2222222222222222,
             "#7201a8"
            ],
            [
             0.3333333333333333,
             "#9c179e"
            ],
            [
             0.4444444444444444,
             "#bd3786"
            ],
            [
             0.5555555555555556,
             "#d8576b"
            ],
            [
             0.6666666666666666,
             "#ed7953"
            ],
            [
             0.7777777777777778,
             "#fb9f3a"
            ],
            [
             0.8888888888888888,
             "#fdca26"
            ],
            [
             1,
             "#f0f921"
            ]
           ]
          },
          "colorway": [
           "#636efa",
           "#EF553B",
           "#00cc96",
           "#ab63fa",
           "#FFA15A",
           "#19d3f3",
           "#FF6692",
           "#B6E880",
           "#FF97FF",
           "#FECB52"
          ],
          "font": {
           "color": "#2a3f5f"
          },
          "geo": {
           "bgcolor": "white",
           "lakecolor": "white",
           "landcolor": "#E5ECF6",
           "showlakes": true,
           "showland": true,
           "subunitcolor": "white"
          },
          "hoverlabel": {
           "align": "left"
          },
          "hovermode": "closest",
          "mapbox": {
           "style": "light"
          },
          "paper_bgcolor": "white",
          "plot_bgcolor": "#E5ECF6",
          "polar": {
           "angularaxis": {
            "gridcolor": "white",
            "linecolor": "white",
            "ticks": ""
           },
           "bgcolor": "#E5ECF6",
           "radialaxis": {
            "gridcolor": "white",
            "linecolor": "white",
            "ticks": ""
           }
          },
          "scene": {
           "xaxis": {
            "backgroundcolor": "#E5ECF6",
            "gridcolor": "white",
            "gridwidth": 2,
            "linecolor": "white",
            "showbackground": true,
            "ticks": "",
            "zerolinecolor": "white"
           },
           "yaxis": {
            "backgroundcolor": "#E5ECF6",
            "gridcolor": "white",
            "gridwidth": 2,
            "linecolor": "white",
            "showbackground": true,
            "ticks": "",
            "zerolinecolor": "white"
           },
           "zaxis": {
            "backgroundcolor": "#E5ECF6",
            "gridcolor": "white",
            "gridwidth": 2,
            "linecolor": "white",
            "showbackground": true,
            "ticks": "",
            "zerolinecolor": "white"
           }
          },
          "shapedefaults": {
           "line": {
            "color": "#2a3f5f"
           }
          },
          "ternary": {
           "aaxis": {
            "gridcolor": "white",
            "linecolor": "white",
            "ticks": ""
           },
           "baxis": {
            "gridcolor": "white",
            "linecolor": "white",
            "ticks": ""
           },
           "bgcolor": "#E5ECF6",
           "caxis": {
            "gridcolor": "white",
            "linecolor": "white",
            "ticks": ""
           }
          },
          "title": {
           "x": 0.05
          },
          "xaxis": {
           "automargin": true,
           "gridcolor": "white",
           "linecolor": "white",
           "ticks": "",
           "title": {
            "standoff": 15
           },
           "zerolinecolor": "white",
           "zerolinewidth": 2
          },
          "yaxis": {
           "automargin": true,
           "gridcolor": "white",
           "linecolor": "white",
           "ticks": "",
           "title": {
            "standoff": 15
           },
           "zerolinecolor": "white",
           "zerolinewidth": 2
          }
         }
        },
        "width": 800
       }
      }
     },
     "metadata": {},
     "output_type": "display_data"
    },
    {
     "data": {
      "image/png": "[encoded data removed]",
      "text/plain": [
       "<Figure size 500x270 with 1 Axes>"
      ]
     },
     "metadata": {},
     "output_type": "display_data"
    }
   ],
   "source": [
    "\n",
    "\n",
    "from pymoo.termination import get_termination\n",
    "from pymoo.optimize import minimize\n",
    "from pymoo.core.mixed import MixedVariableGA\n",
    "from pymoo.core.variable import Real, Integer, Choice, Binary\n",
    "\n",
    "\n",
    "AWG14RADIUS = 1.628/1000/2              # 1.628mm dia\n",
    "SEGS_PER_M = 10/20.0                    # NEC segments: around 10 for the half-element\n",
    "\n",
    "class MinWireCageVeeProblem(DipoleConstrainedSingleOptMixedProblem):\n",
    "\n",
    "    # 'x' is a dictionary containing our parameters 'length','angle','cage_frac','par_wires' \n",
    "    def _make_design(self, x):\n",
    "        half_el = make_linear_element((0,0,0),(0,0.5,0))\n",
    "        half_el.extend( make_cage_element(0.5, x['length']*x['cage_frac']+0.5, .2, .5, x['par_wires']) )\n",
    "        half_el.extend( make_linear_element((0,x['length']*x['cage_frac']+0.5,0),(0,x['length'],0)) )\n",
    "        half_el = rot_x(half_el, np.deg2rad(x['angle']))\n",
    "        half_el = translate(half_el, (0,0,self.z))\n",
    "        return half_el\n",
    "\n",
    "    # Objective to minimize: total wire length\n",
    "    # Sum total wire length for each design, return as column vector\n",
    "    def _compute_objective(self, X, designs, zs, vswr_curves, max_vswr):\n",
    "        return np.array([ total_wire_len(design) for design in designs ])[:,None]\n",
    "        \n",
    "    # Constraint: max VSWR must be < 2.0 across freq range\n",
    "    #  (constraint val must be < 0)\n",
    "    def _compute_constraints(self, X, designs, zs, vswr_curves, max_vswr):\n",
    "        return (max_vswr - 2.0)\n",
    "\n",
    "\n",
    "variables = dict()\n",
    "variables['length'] = Real(bounds=(20.0, 26.0))\n",
    "variables['angle'] = Real(bounds=(-45.0, 0.0))\n",
    "variables['cage_frac'] = Real(bounds=(0.1, 1.0))\n",
    "variables['par_wires'] = Integer(bounds=(2, 10))\n",
    "\n",
    "mwcvproblem = MinWireCageVeeProblem(variables=variables, n_ieq_constr=1, f_min=3.5, f_max=3.7, z=40,\n",
    "                                segs_per_m=SEGS_PER_M, radius=AWG14RADIUS)\n",
    "termination = get_termination(\"n_gen\", 50)\n",
    "algorithm = MixedVariableGA(pop_size=200, n_offsprings=100)\n",
    "\n",
    "res = minimize(mwcvproblem, algorithm, termination, save_history=False, verbose=True)\n",
    "\n",
    "print(f\"Optimum length {res.X['length']:.1f}m, angle {res.X['angle']:.1f}deg, cage fraction {res.X['cage_frac']:.2f}, # wires {res.X['par_wires']}, wire length {res.F[0]:.2f}\")\n",
    "vswr_curve = res.pop.get('VSWR')[0]\n",
    "plot_vswr_2([zip(mwcvproblem.freqs, vswr_curve)], tags=['80m Cage Vee'])\n",
    "\n",
    "design = mwcvproblem._make_design(res.X)\n",
    "wire_ant_visualize(design,(-22,22),(-22,22),(0,45))\n"
   ]
  },
  {
   "cell_type": "markdown",
   "metadata": {},
   "source": [
    "Result:  total wire length 37.17m versus 46.44m for previous 4-wire cage dipole\n",
    "![Graph](img/CageVee3_opt.png)"
   ]
  },
  {
   "cell_type": "code",
   "execution_count": null,
   "metadata": {},
   "outputs": [],
   "source": []
  },
  {
   "cell_type": "code",
   "execution_count": null,
   "metadata": {},
   "outputs": [],
   "source": []
  }
 ],
 "metadata": {
  "kernelspec": {
   "display_name": "may_2023",
   "language": "python",
   "name": "python3"
  },
  "language_info": {
   "codemirror_mode": {
    "name": "ipython",
    "version": 3
   },
   "file_extension": ".py",
   "mimetype": "text/x-python",
   "name": "python",
   "nbconvert_exporter": "python",
   "pygments_lexer": "ipython3",
   "version": "3.10.10"
  }
 },
 "nbformat": 4,
 "nbformat_minor": 2
}
