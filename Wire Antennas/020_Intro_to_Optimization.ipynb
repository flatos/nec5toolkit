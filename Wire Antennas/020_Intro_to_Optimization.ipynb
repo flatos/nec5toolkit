{
 "cells": [
  {
   "cell_type": "code",
   "execution_count": 1,
   "metadata": {},
   "outputs": [],
   "source": [
    "# coding=utf-8\n",
    "# Copyright 2023 Frank Latos AC8P\n",
    "#\n",
    "# Licensed under the Apache License, Version 2.0 (the \"License\");\n",
    "# you may not use this file except in compliance with the License.\n",
    "# You may obtain a copy of the License at\n",
    "#\n",
    "#     http://www.apache.org/licenses/LICENSE-2.0\n",
    "#\n",
    "# Unless required by applicable law or agreed to in writing, software\n",
    "# distributed under the License is distributed on an \"AS IS\" BASIS,\n",
    "# WITHOUT WARRANTIES OR CONDITIONS OF ANY KIND, either express or implied.\n",
    "# See the License for the specific language governing permissions and\n",
    "# limitations under the License.\n",
    "\n",
    "#\n",
    "# Much appreciation to the Pymoo project for providing the optimization framework used herein:\n",
    "#\n",
    "# pymoo: Multi-objective Optimization in Python\n",
    "# https://github.com/anyoptimization/pymoo\n",
    "# https://pymoo.org/index.html\n",
    "#\n"
   ]
  },
  {
   "cell_type": "markdown",
   "metadata": {},
   "source": [
    "# Wire Antenna Basics:  Design Optimization"
   ]
  },
  {
   "cell_type": "markdown",
   "metadata": {},
   "source": [
    "## Optimizing for minimum peak VSWR within a band of interest\n",
    "\n",
    "This page demonstrates the most basic sort of antenna optimization: adjusting an antenna's dimensions to produce the lowest peak VSWR within some band of frequencies. For the moment we won't be taking into account any matching schemes, just direct feedline connection to the antenna. Some examples using series section matching, for example, will be presented in subsequent files.\n",
    "\n",
    "We'll be using the excellent Pymoo optimization library [https://pymoo.org](https://pymoo.org).\n",
    "\n",
    "This library contains a host of optimization algorithms, but at the moment we'll only be using a simple single-objective genetic algorithm. Elsewhere on this site we'll have examples of more advanced tasks, e.g. multi-objective optimization to explore trade-offs between forward gain, F/B, and bandwidth in Yagi design.\n",
    "\n",
    "\n",
    "\n",
    "### Example 1: A Simple Dipole\n",
    "\n",
    "Find the optimum length for a dipole antenna to minimize the peak VSWR within a frequency range.\n",
    "\n",
    "Pymoo requires the creation of a Problem class that encapsulates the details of the problem to be solved. You should be able to reuse this code with only minor modification for your own similar designs.\n",
    "\n"
   ]
  },
  {
   "cell_type": "code",
   "execution_count": 7,
   "metadata": {},
   "outputs": [],
   "source": [
    "import numpy as np\n",
    "from pymoo.core.problem import Problem\n",
    "from necutil import nec5_sim_stdio3, make_linear_element, gen_nec5_str, plot_vswr_2, wire_ant_visualize, rot_x, translate\n",
    "\n",
    "\n",
    "#\n",
    "# A base class for simple single-objective problems (e.g. minimize dipole vswr within a band)\n",
    "#\n",
    "class DipoleSingleOptProblem(Problem):\n",
    "    \n",
    "    # Initialization:\n",
    "    #   n_var       number of variables (parameters)...only one in this case (antenna length)\n",
    "    #   segs_per_m  NEC segments per meter of wire length...used when generating NEC cards for simulation\n",
    "    #   radius      wire radius (in meters, as are all other dimensions)\n",
    "    #   f_min,f_max,f_num   freq range of interest (lower/upper limits, number of points)\n",
    "    #\n",
    "    def __init__(self, n_var, segs_per_m, radius, f_min, f_max, z, f_num=9, **kwargs):\n",
    "        super().__init__(n_var=n_var,\n",
    "                         n_obj=1,\n",
    "                         n_ieq_constr=0,\n",
    "                         **kwargs)\n",
    "\n",
    "        # Save various data in your Problem object\n",
    "        self.f_min = f_min              # Frequency band of interest: min, max, # of points\n",
    "        self.f_max = f_max\n",
    "        self.f_num = f_num        \n",
    "        self.freqs = np.linspace(f_min, f_max, num=f_num)       # Freqs of interest as an array\n",
    "        self.f_center = np.mean([f_min,f_max])                  # Center freq\n",
    "        self.z0 = 50                    # TL impedance\n",
    "        self.z = z                      # z dimension (height of antenna)\n",
    "        self.segs_per_m = segs_per_m    # NEC secgents per meter \n",
    "        self.radius = radius            # Wire radius (m)\n",
    "        \n",
    "        # NEC5 design deck template\n",
    "        #   GX: mirror across xz plane\n",
    "        #   EX: feedpoint specified as tag=1, segment=1, near end (1)\n",
    "        #   GD: Some typical MININEC ground parameters\n",
    "        self.necpre = 'CE Dipole\\n'             # Obligatory comment line\n",
    "        self.necpost = f\"\"\"GX 100 010\n",
    "GE 1 0\n",
    "GD 0 0 0 0 13 0.005 0 0\n",
    "EX 4 1 1 1 1.0 0.0\n",
    "FR 0 {f_num} 0 0 {f_min} {(f_max-f_min)/(f_num-1)}\n",
    "XQ 0\n",
    "EN\n",
    "\"\"\"\n",
    " \n",
    "    #\n",
    "    # Take the parameters for a single antenna design and generate a NEC card deck for simulation\n",
    "    # Since we have only one parameter, 'x' is an array with only one element (half-length of dipole)\n",
    "    # *** You'll write your own version of _make_design() to customize this for your specific problem\n",
    "    #\n",
    "    def _make_nec5_design(self, x):\n",
    "        design = self._make_design(x)                                   # The design as array of endpoints\n",
    "        nec_str = gen_nec5_str(design, self.segs_per_m, self.radius)    # Convert to a string of NEC cards\n",
    "        return self.necpre + nec_str + self.necpost                     # Return as complete NEC deck\n",
    "\n",
    "\n",
    "    # \n",
    "    # _evaluate() is called by pymoo for every new generation of designs ('offspring') \n",
    "    #   \n",
    "    # Evaluate the designs in X, an array of shape (population_size, number_of_variables)\n",
    "    # Return values for the objectives(s) to be minimized, and constraints to be met, in dictionary 'out'\n",
    "    #\n",
    "    def _evaluate(self, X, out, *args, **kwargs):\n",
    "\n",
    "        # Customize _make_nec5_design() for your specific problem\n",
    "        designs = [self._make_nec5_design(x) for x in X]             # Make a list of NEC decks, one per row of X\n",
    "\n",
    "        res = nec5_sim_stdio3(designs, timelimit=10000.0)           # Run the simulations\n",
    "\n",
    "        # Our 'XQ' card produces feedpoint impedances that look like:\n",
    "        #  res[design#][0][0] = \n",
    "                    # [[28.0, (18.156-28.716j)],\n",
    "                    # [28.05, (18.262-26.878j)],\n",
    "                    # [28.1, (18.338-25.051j)],\n",
    "                    # [28.15, (18.383-23.23j)],\n",
    "                    # [28.2, (18.396-21.412j)],\n",
    "                    # [28.25, (18.377-19.592j)],\n",
    "                    # [28.3, (18.325-17.767j)],\n",
    "                    # [28.35, (18.243-15.933j)],\n",
    "                    # [28.4, (18.129-14.086j)]]\n",
    "\n",
    "        # See the file 'Basics/020_Understanding_Response_Format.ipynb' for details on the data returned by th simulation\n",
    "\n",
    "\n",
    "        # Extracts feedpoint complex z for each design --> complex array of shape (#designs, #freqs)\n",
    "        zs = np.array([[freq[1] for freq in des[0][0]] for des in res])\n",
    "\n",
    "        # Each row in 'vswr_curves' is the vswr curve across the band for one of the designs\n",
    "        abs_refl_coef = np.abs((zs - self.z0) / (zs + self.z0))         # Reflection coefs\n",
    "        vswr_curves = (1 + abs_refl_coef) / (1 - abs_refl_coef)         # Vswr\n",
    "        max_vswr = np.max(vswr_curves, axis=1)[:,None]                  # Max vswr within band for each design (as column vector)\n",
    "\n",
    "        # Return the objective value we're minimizing (simply the max vswr in this case)\n",
    "        out[\"F\"] = max_vswr\n",
    "\n",
    "        # You can also attach other data to the population of designs\n",
    "        # This isn't used in the optimization, but you can examine it later\n",
    "        # We'll save the vswr curves for each\n",
    "        out[\"VSWR\"] = vswr_curves\n",
    "\n",
    "\n"
   ]
  },
  {
   "cell_type": "markdown",
   "metadata": {},
   "source": [
    "\n",
    "The above code will be reused for various similar problems.\n",
    "The following code is all we need to write to define our specific problem:"
   ]
  },
  {
   "cell_type": "code",
   "execution_count": 2,
   "metadata": {},
   "outputs": [],
   "source": [
    "AWG14RADIUS = 1.628/1000/2              # 1.628mm dia\n",
    "SEGS_PER_M = 10/20.0                    # NEC segments: around 10 for the half-element\n",
    "#\n",
    "# Create a class to represent your problem,\n",
    "#  and write a function _make_design() to construct your antenna from the given parameter(s)\n",
    "#\n",
    "class SimpleDipoleProblem(DipoleSingleOptProblem):\n",
    "    \n",
    "    # This is where you 'draw' your antenna for the specified design parameters\n",
    "    # 'x' is a vector with the params; since our only param is the dipole half-length\n",
    "    #  it contains only that value (in meters)\n",
    "\n",
    "    # As explained in '010_Wire_Antennas.ipynb', we describe the antenna as a list of one or more numpy arrays\n",
    "    # The viewer also uses this format to display your creation\n",
    "    def _make_design(self, x):\n",
    "        return make_linear_element((0,0,self.z),(0,x[0],self.z))    # A single segment between two points\n",
    "\n",
    "# Create a Problem object that specifies your freq range, z (elevation), etc.\n",
    "# 'xl' and 'xh' give the lower and upper limits of the design parameters (only one in this case)\n",
    "sdproblem = SimpleDipoleProblem(n_var=1, f_min=3.5, f_max=3.6, z=40,\n",
    "                                segs_per_m=SEGS_PER_M, radius=AWG14RADIUS,\n",
    "                                xl=np.array([18.0]),\n",
    "                                xu=np.array([22.0]))\n"
   ]
  },
  {
   "cell_type": "code",
   "execution_count": 4,
   "metadata": {},
   "outputs": [
    {
     "name": "stdout",
     "output_type": "stream",
     "text": [
      "=================================================\n",
      "n_gen  |  n_eval  |     f_avg     |     f_min    \n",
      "=================================================\n",
      "     1 |      200 |  8.5497649102 |  1.7631565897\n",
      "     2 |      300 |  3.2246902380 |  1.7631565897\n",
      "     3 |      400 |  2.3735390367 |  1.7631565897\n",
      "     4 |      500 |  2.0616068965 |  1.7631565897\n",
      "     5 |      600 |  1.9348312684 |  1.7631565897\n",
      "     6 |      700 |  1.8627802127 |  1.7631565897\n",
      "     7 |      800 |  1.8329750101 |  1.7626124646\n",
      "     8 |      900 |  1.8152423998 |  1.7626124646\n",
      "     9 |     1000 |  1.7996165416 |  1.7626124646\n",
      "    10 |     1100 |  1.7882001441 |  1.7625222708\n",
      "    11 |     1200 |  1.7811990601 |  1.7625222708\n",
      "    12 |     1300 |  1.7757574467 |  1.7625222708\n",
      "    13 |     1400 |  1.7733716605 |  1.7625222708\n",
      "    14 |     1500 |  1.7714114548 |  1.7625222708\n",
      "    15 |     1600 |  1.7695333093 |  1.7624359082\n",
      "    16 |     1700 |  1.7679667450 |  1.7624359082\n",
      "    17 |     1800 |  1.7660650249 |  1.7624359082\n",
      "    18 |     1900 |  1.7648307788 |  1.7624359082\n",
      "    19 |     2000 |  1.7641252015 |  1.7624359082\n",
      "    20 |     2100 |  1.7637214024 |  1.7624359082\n",
      "    21 |     2200 |  1.7635216255 |  1.7624359082\n",
      "    22 |     2300 |  1.7633270026 |  1.7624359082\n",
      "    23 |     2400 |  1.7631873461 |  1.7624359082\n",
      "    24 |     2500 |  1.7630704995 |  1.7624178732\n",
      "    25 |     2600 |  1.7629869429 |  1.7624178732\n",
      "    26 |     2700 |  1.7629007823 |  1.7624178732\n",
      "    27 |     2800 |  1.7627991557 |  1.7624178732\n",
      "    28 |     2900 |  1.7627048565 |  1.7624178732\n",
      "    29 |     3000 |  1.7626290652 |  1.7624178732\n",
      "    30 |     3100 |  1.7625573738 |  1.7624178732\n",
      "    31 |     3200 |  1.7625104618 |  1.7624178732\n",
      "    32 |     3300 |  1.7624815618 |  1.7624178732\n",
      "    33 |     3400 |  1.7624692083 |  1.7624178732\n",
      "    34 |     3500 |  1.7624534826 |  1.7624178732\n",
      "    35 |     3600 |  1.7624456475 |  1.7624178732\n",
      "    36 |     3700 |  1.7624426716 |  1.7624178732\n",
      "    37 |     3800 |  1.7624405975 |  1.7624178732\n",
      "    38 |     3900 |  1.7624377118 |  1.7624178732\n",
      "    39 |     4000 |  1.7624339244 |  1.7624178732\n",
      "    40 |     4100 |  1.7624323914 |  1.7623818050\n",
      "    41 |     4200 |  1.7624311289 |  1.7623818050\n",
      "    42 |     4300 |  1.7624299567 |  1.7623818050\n",
      "    43 |     4400 |  1.7624277925 |  1.7623818050\n",
      "    44 |     4500 |  1.7624251774 |  1.7623818050\n",
      "    45 |     4600 |  1.7624219311 |  1.7623818050\n",
      "    46 |     4700 |  1.7624184143 |  1.7623818050\n",
      "    47 |     4800 |  1.7624152583 |  1.7623818050\n",
      "    48 |     4900 |  1.7624147172 |  1.7623818050\n",
      "    49 |     5000 |  1.7624135450 |  1.7623818050\n",
      "    50 |     5100 |  1.7624120121 |  1.7623818050\n"
     ]
    }
   ],
   "source": [
    "from pymoo.termination import get_termination\n",
    "from pymoo.optimize import minimize\n",
    "from pymoo.algorithms.soo.nonconvex.ga import GA\n",
    "\n",
    "# For the sake of simplicity we're just going to run the optimization for 50 generations\n",
    "# Pymoo has a variety of more-sophisticated termination criteria based on changes in the design variables\n",
    "#  and objective values that would shorten the run time considerably....\n",
    "termination = get_termination(\"n_gen\", 50)\n",
    "\n",
    "# Pymoo provides many optimization algorithms but we're just going to use the simplest genetic algorithm 'GA'\n",
    "#  with an initial population of 200 designs and 100 offspring in each subsequent generation\n",
    "algorithm = GA(pop_size=200, n_offsprings=100)\n",
    "\n",
    "# Finally, run the optimization...\n",
    "res = minimize(sdproblem,\n",
    "               algorithm,\n",
    "               termination,\n",
    "               save_history=False,\n",
    "               verbose=True)"
   ]
  },
  {
   "cell_type": "code",
   "execution_count": 5,
   "metadata": {},
   "outputs": [
    {
     "name": "stdout",
     "output_type": "stream",
     "text": [
      "Optimum length 20.9m, max VSWR 1.76\n"
     ]
    },
    {
     "data": {
      "image/png": "[encoded data removed]",
      "text/plain": [
       "<Figure size 500x270 with 1 Axes>"
      ]
     },
     "metadata": {},
     "output_type": "display_data"
    }
   ],
   "source": [
    "\n",
    "# Upon completion, the following data are returned:\n",
    "#   res.X       parameters of the optimum design (just the length of half-dipole in this case)\n",
    "#   res.F       the objective value we minimized (VSWR in our frequency band)\n",
    "\n",
    "# We can retrieve the vswr curves we attached to our population of designs like this:\n",
    "#   res.pop.get('VSWR')\n",
    "\n",
    "print(f'Optimum length {res.X[0]:.1f}m, max VSWR {res.F[0]:.2f}')\n",
    "vswr_curve = res.pop.get('VSWR')[0]\n",
    "plot_vswr_2([zip(sdproblem.freqs, vswr_curve)], tags=['80m Dipole'])\n",
    "\n"
   ]
  },
  {
   "cell_type": "markdown",
   "metadata": {},
   "source": [
    "Visualize your resulting antenna:\n",
    "\n",
    "![Graph](img/Dipole_opt.png)"
   ]
  },
  {
   "cell_type": "code",
   "execution_count": 6,
   "metadata": {},
   "outputs": [
    {
     "data": {
      "application/vnd.plotly.v1+json": {
       "config": {
        "plotlyServerURL": "https://plot.ly"
       },
       "data": [
        {
         "cmax": 1,
         "cmin": 0,
         "colorscale": [
          [
           0,
           "rgb(247,252,245)"
          ],
          [
           0.125,
           "rgb(229,245,224)"
          ],
          [
           0.25,
           "rgb(199,233,192)"
          ],
          [
           0.375,
           "rgb(161,217,155)"
          ],
          [
           0.5,
           "rgb(116,196,118)"
          ],
          [
           0.625,
           "rgb(65,171,93)"
          ],
          [
           0.75,
           "rgb(35,139,69)"
          ],
          [
           0.875,
           "rgb(0,109,44)"
          ],
          [
           1,
           "rgb(0,68,27)"
          ]
         ],
         "showscale": false,
         "surfacecolor": [
          [
           0.69,
           0.69
          ],
          [
           0.69,
           0.69
          ]
         ],
         "type": "surface",
         "x": [
          -22,
          22
         ],
         "y": [
          -22,
          22
         ],
         "z": [
          [
           0,
           0
          ],
          [
           0,
           0
          ]
         ]
        },
        {
         "color": "lightpink",
         "hoverinfo": "skip",
         "i": [
          0,
          0
         ],
         "j": [
          1,
          2
         ],
         "k": [
          2,
          3
         ],
         "opacity": 0.1,
         "type": "mesh3d",
         "x": [
          -22,
          -22,
          22,
          22
         ],
         "y": [
          0,
          0,
          0,
          0
         ],
         "z": [
          0,
          45,
          45,
          0
         ]
        },
        {
         "line": {
          "color": "darkblue",
          "width": 2
         },
         "marker": {
          "color": "red",
          "size": 2
         },
         "name": "",
         "showlegend": false,
         "type": "scatter3d",
         "x": [
          0,
          0
         ],
         "y": [
          0,
          20.90017897620306
         ],
         "z": [
          40,
          40
         ]
        },
        {
         "line": {
          "color": "darkblue",
          "width": 2
         },
         "marker": {
          "color": "red",
          "size": 2
         },
         "name": "",
         "showlegend": false,
         "type": "scatter3d",
         "x": [
          0,
          0
         ],
         "y": [
          0,
          -20.90017897620306
         ],
         "z": [
          40,
          40
         ]
        }
       ],
       "layout": {
        "autosize": false,
        "height": 400,
        "scene": {
         "aspectmode": "manual",
         "aspectratio": {
          "x": 1,
          "y": 1,
          "z": 1
         },
         "camera": {
          "eye": {
           "x": 1,
           "y": 0.3,
           "z": 0.3
          },
          "up": {
           "x": 0,
           "y": 0,
           "z": 1
          }
         },
         "xaxis": {
          "range": [
           -22,
           22
          ],
          "showbackground": false
         },
         "yaxis": {
          "range": [
           -22,
           22
          ],
          "showbackground": false
         },
         "zaxis": {
          "range": [
           0,
           45
          ],
          "showbackground": false
         }
        },
        "template": {
         "data": {
          "bar": [
           {
            "error_x": {
             "color": "#2a3f5f"
            },
            "error_y": {
             "color": "#2a3f5f"
            },
            "marker": {
             "line": {
              "color": "#E5ECF6",
              "width": 0.5
             },
             "pattern": {
              "fillmode": "overlay",
              "size": 10,
              "solidity": 0.2
             }
            },
            "type": "bar"
           }
          ],
          "barpolar": [
           {
            "marker": {
             "line": {
              "color": "#E5ECF6",
              "width": 0.5
             },
             "pattern": {
              "fillmode": "overlay",
              "size": 10,
              "solidity": 0.2
             }
            },
            "type": "barpolar"
           }
          ],
          "carpet": [
           {
            "aaxis": {
             "endlinecolor": "#2a3f5f",
             "gridcolor": "white",
             "linecolor": "white",
             "minorgridcolor": "white",
             "startlinecolor": "#2a3f5f"
            },
            "baxis": {
             "endlinecolor": "#2a3f5f",
             "gridcolor": "white",
             "linecolor": "white",
             "minorgridcolor": "white",
             "startlinecolor": "#2a3f5f"
            },
            "type": "carpet"
           }
          ],
          "choropleth": [
           {
            "colorbar": {
             "outlinewidth": 0,
             "ticks": ""
            },
            "type": "choropleth"
           }
          ],
          "contour": [
           {
            "colorbar": {
             "outlinewidth": 0,
             "ticks": ""
            },
            "colorscale": [
             [
              0,
              "#0d0887"
             ],
             [
              0.1111111111111111,
              "#46039f"
             ],
             [
              0.2222222222222222,
              "#7201a8"
             ],
             [
              0.3333333333333333,
              "#9c179e"
             ],
             [
              0.4444444444444444,
              "#bd3786"
             ],
             [
              0.5555555555555556,
              "#d8576b"
             ],
             [
              0.6666666666666666,
              "#ed7953"
             ],
             [
              0.7777777777777778,
              "#fb9f3a"
             ],
             [
              0.8888888888888888,
              "#fdca26"
             ],
             [
              1,
              "#f0f921"
             ]
            ],
            "type": "contour"
           }
          ],
          "contourcarpet": [
           {
            "colorbar": {
             "outlinewidth": 0,
             "ticks": ""
            },
            "type": "contourcarpet"
           }
          ],
          "heatmap": [
           {
            "colorbar": {
             "outlinewidth": 0,
             "ticks": ""
            },
            "colorscale": [
             [
              0,
              "#0d0887"
             ],
             [
              0.1111111111111111,
              "#46039f"
             ],
             [
              0.2222222222222222,
              "#7201a8"
             ],
             [
              0.3333333333333333,
              "#9c179e"
             ],
             [
              0.4444444444444444,
              "#bd3786"
             ],
             [
              0.5555555555555556,
              "#d8576b"
             ],
             [
              0.6666666666666666,
              "#ed7953"
             ],
             [
              0.7777777777777778,
              "#fb9f3a"
             ],
             [
              0.8888888888888888,
              "#fdca26"
             ],
             [
              1,
              "#f0f921"
             ]
            ],
            "type": "heatmap"
           }
          ],
          "heatmapgl": [
           {
            "colorbar": {
             "outlinewidth": 0,
             "ticks": ""
            },
            "colorscale": [
             [
              0,
              "#0d0887"
             ],
             [
              0.1111111111111111,
              "#46039f"
             ],
             [
              0.2222222222222222,
              "#7201a8"
             ],
             [
              0.3333333333333333,
              "#9c179e"
             ],
             [
              0.4444444444444444,
              "#bd3786"
             ],
             [
              0.5555555555555556,
              "#d8576b"
             ],
             [
              0.6666666666666666,
              "#ed7953"
             ],
             [
              0.7777777777777778,
              "#fb9f3a"
             ],
             [
              0.8888888888888888,
              "#fdca26"
             ],
             [
              1,
              "#f0f921"
             ]
            ],
            "type": "heatmapgl"
           }
          ],
          "histogram": [
           {
            "marker": {
             "pattern": {
              "fillmode": "overlay",
              "size": 10,
              "solidity": 0.2
             }
            },
            "type": "histogram"
           }
          ],
          "histogram2d": [
           {
            "colorbar": {
             "outlinewidth": 0,
             "ticks": ""
            },
            "colorscale": [
             [
              0,
              "#0d0887"
             ],
             [
              0.1111111111111111,
              "#46039f"
             ],
             [
              0.2222222222222222,
              "#7201a8"
             ],
             [
              0.3333333333333333,
              "#9c179e"
             ],
             [
              0.4444444444444444,
              "#bd3786"
             ],
             [
              0.5555555555555556,
              "#d8576b"
             ],
             [
              0.6666666666666666,
              "#ed7953"
             ],
             [
              0.7777777777777778,
              "#fb9f3a"
             ],
             [
              0.8888888888888888,
              "#fdca26"
             ],
             [
              1,
              "#f0f921"
             ]
            ],
            "type": "histogram2d"
           }
          ],
          "histogram2dcontour": [
           {
            "colorbar": {
             "outlinewidth": 0,
             "ticks": ""
            },
            "colorscale": [
             [
              0,
              "#0d0887"
             ],
             [
              0.1111111111111111,
              "#46039f"
             ],
             [
              0.2222222222222222,
              "#7201a8"
             ],
             [
              0.3333333333333333,
              "#9c179e"
             ],
             [
              0.4444444444444444,
              "#bd3786"
             ],
             [
              0.5555555555555556,
              "#d8576b"
             ],
             [
              0.6666666666666666,
              "#ed7953"
             ],
             [
              0.7777777777777778,
              "#fb9f3a"
             ],
             [
              0.8888888888888888,
              "#fdca26"
             ],
             [
              1,
              "#f0f921"
             ]
            ],
            "type": "histogram2dcontour"
           }
          ],
          "mesh3d": [
           {
            "colorbar": {
             "outlinewidth": 0,
             "ticks": ""
            },
            "type": "mesh3d"
           }
          ],
          "parcoords": [
           {
            "line": {
             "colorbar": {
              "outlinewidth": 0,
              "ticks": ""
             }
            },
            "type": "parcoords"
           }
          ],
          "pie": [
           {
            "automargin": true,
            "type": "pie"
           }
          ],
          "scatter": [
           {
            "fillpattern": {
             "fillmode": "overlay",
             "size": 10,
             "solidity": 0.2
            },
            "type": "scatter"
           }
          ],
          "scatter3d": [
           {
            "line": {
             "colorbar": {
              "outlinewidth": 0,
              "ticks": ""
             }
            },
            "marker": {
             "colorbar": {
              "outlinewidth": 0,
              "ticks": ""
             }
            },
            "type": "scatter3d"
           }
          ],
          "scattercarpet": [
           {
            "marker": {
             "colorbar": {
              "outlinewidth": 0,
              "ticks": ""
             }
            },
            "type": "scattercarpet"
           }
          ],
          "scattergeo": [
           {
            "marker": {
             "colorbar": {
              "outlinewidth": 0,
              "ticks": ""
             }
            },
            "type": "scattergeo"
           }
          ],
          "scattergl": [
           {
            "marker": {
             "colorbar": {
              "outlinewidth": 0,
              "ticks": ""
             }
            },
            "type": "scattergl"
           }
          ],
          "scattermapbox": [
           {
            "marker": {
             "colorbar": {
              "outlinewidth": 0,
              "ticks": ""
             }
            },
            "type": "scattermapbox"
           }
          ],
          "scatterpolar": [
           {
            "marker": {
             "colorbar": {
              "outlinewidth": 0,
              "ticks": ""
             }
            },
            "type": "scatterpolar"
           }
          ],
          "scatterpolargl": [
           {
            "marker": {
             "colorbar": {
              "outlinewidth": 0,
              "ticks": ""
             }
            },
            "type": "scatterpolargl"
           }
          ],
          "scatterternary": [
           {
            "marker": {
             "colorbar": {
              "outlinewidth": 0,
              "ticks": ""
             }
            },
            "type": "scatterternary"
           }
          ],
          "surface": [
           {
            "colorbar": {
             "outlinewidth": 0,
             "ticks": ""
            },
            "colorscale": [
             [
              0,
              "#0d0887"
             ],
             [
              0.1111111111111111,
              "#46039f"
             ],
             [
              0.2222222222222222,
              "#7201a8"
             ],
             [
              0.3333333333333333,
              "#9c179e"
             ],
             [
              0.4444444444444444,
              "#bd3786"
             ],
             [
              0.5555555555555556,
              "#d8576b"
             ],
             [
              0.6666666666666666,
              "#ed7953"
             ],
             [
              0.7777777777777778,
              "#fb9f3a"
             ],
             [
              0.8888888888888888,
              "#fdca26"
             ],
             [
              1,
              "#f0f921"
             ]
            ],
            "type": "surface"
           }
          ],
          "table": [
           {
            "cells": {
             "fill": {
              "color": "#EBF0F8"
             },
             "line": {
              "color": "white"
             }
            },
            "header": {
             "fill": {
              "color": "#C8D4E3"
             },
             "line": {
              "color": "white"
             }
            },
            "type": "table"
           }
          ]
         },
         "layout": {
          "annotationdefaults": {
           "arrowcolor": "#2a3f5f",
           "arrowhead": 0,
           "arrowwidth": 1
          },
          "autotypenumbers": "strict",
          "coloraxis": {
           "colorbar": {
            "outlinewidth": 0,
            "ticks": ""
           }
          },
          "colorscale": {
           "diverging": [
            [
             0,
             "#8e0152"
            ],
            [
             0.1,
             "#c51b7d"
            ],
            [
             0.2,
             "#de77ae"
            ],
            [
             0.3,
             "#f1b6da"
            ],
            [
             0.4,
             "#fde0ef"
            ],
            [
             0.5,
             "#f7f7f7"
            ],
            [
             0.6,
             "#e6f5d0"
            ],
            [
             0.7,
             "#b8e186"
            ],
            [
             0.8,
             "#7fbc41"
            ],
            [
             0.9,
             "#4d9221"
            ],
            [
             1,
             "#276419"
            ]
           ],
           "sequential": [
            [
             0,
             "#0d0887"
            ],
            [
             0.1111111111111111,
             "#46039f"
            ],
            [
             0.2222222222222222,
             "#7201a8"
            ],
            [
             0.3333333333333333,
             "#9c179e"
            ],
            [
             0.4444444444444444,
             "#bd3786"
            ],
            [
             0.5555555555555556,
             "#d8576b"
            ],
            [
             0.6666666666666666,
             "#ed7953"
            ],
            [
             0.7777777777777778,
             "#fb9f3a"
            ],
            [
             0.8888888888888888,
             "#fdca26"
            ],
            [
             1,
             "#f0f921"
            ]
           ],
           "sequentialminus": [
            [
             0,
             "#0d0887"
            ],
            [
             0.1111111111111111,
             "#46039f"
            ],
            [
             0.2222222222222222,
             "#7201a8"
            ],
            [
             0.3333333333333333,
             "#9c179e"
            ],
            [
             0.4444444444444444,
             "#bd3786"
            ],
            [
             0.5555555555555556,
             "#d8576b"
            ],
            [
             0.6666666666666666,
             "#ed7953"
            ],
            [
             0.7777777777777778,
             "#fb9f3a"
            ],
            [
             0.8888888888888888,
             "#fdca26"
            ],
            [
             1,
             "#f0f921"
            ]
           ]
          },
          "colorway": [
           "#636efa",
           "#EF553B",
           "#00cc96",
           "#ab63fa",
           "#FFA15A",
           "#19d3f3",
           "#FF6692",
           "#B6E880",
           "#FF97FF",
           "#FECB52"
          ],
          "font": {
           "color": "#2a3f5f"
          },
          "geo": {
           "bgcolor": "white",
           "lakecolor": "white",
           "landcolor": "#E5ECF6",
           "showlakes": true,
           "showland": true,
           "subunitcolor": "white"
          },
          "hoverlabel": {
           "align": "left"
          },
          "hovermode": "closest",
          "mapbox": {
           "style": "light"
          },
          "paper_bgcolor": "white",
          "plot_bgcolor": "#E5ECF6",
          "polar": {
           "angularaxis": {
            "gridcolor": "white",
            "linecolor": "white",
            "ticks": ""
           },
           "bgcolor": "#E5ECF6",
           "radialaxis": {
            "gridcolor": "white",
            "linecolor": "white",
            "ticks": ""
           }
          },
          "scene": {
           "xaxis": {
            "backgroundcolor": "#E5ECF6",
            "gridcolor": "white",
            "gridwidth": 2,
            "linecolor": "white",
            "showbackground": true,
            "ticks": "",
            "zerolinecolor": "white"
           },
           "yaxis": {
            "backgroundcolor": "#E5ECF6",
            "gridcolor": "white",
            "gridwidth": 2,
            "linecolor": "white",
            "showbackground": true,
            "ticks": "",
            "zerolinecolor": "white"
           },
           "zaxis": {
            "backgroundcolor": "#E5ECF6",
            "gridcolor": "white",
            "gridwidth": 2,
            "linecolor": "white",
            "showbackground": true,
            "ticks": "",
            "zerolinecolor": "white"
           }
          },
          "shapedefaults": {
           "line": {
            "color": "#2a3f5f"
           }
          },
          "ternary": {
           "aaxis": {
            "gridcolor": "white",
            "linecolor": "white",
            "ticks": ""
           },
           "baxis": {
            "gridcolor": "white",
            "linecolor": "white",
            "ticks": ""
           },
           "bgcolor": "#E5ECF6",
           "caxis": {
            "gridcolor": "white",
            "linecolor": "white",
            "ticks": ""
           }
          },
          "title": {
           "x": 0.05
          },
          "xaxis": {
           "automargin": true,
           "gridcolor": "white",
           "linecolor": "white",
           "ticks": "",
           "title": {
            "standoff": 15
           },
           "zerolinecolor": "white",
           "zerolinewidth": 2
          },
          "yaxis": {
           "automargin": true,
           "gridcolor": "white",
           "linecolor": "white",
           "ticks": "",
           "title": {
            "standoff": 15
           },
           "zerolinecolor": "white",
           "zerolinewidth": 2
          }
         }
        },
        "width": 400
       }
      }
     },
     "metadata": {},
     "output_type": "display_data"
    }
   ],
   "source": [
    "# Convert parameters into format used by 3D visualizer\n",
    "design = sdproblem._make_design(res.X)\n",
    "wire_ant_visualize(design,(-22,22),(-22,22),(0,45),width=400, height=400)"
   ]
  },
  {
   "cell_type": "markdown",
   "metadata": {},
   "source": [
    "\n",
    "\n",
    "### Example 2: Inverted Vee\n",
    "\n",
    "Now we'll repeat the same problem but with an inverted vee, which has two parameters (length, droop angle) instead of one:"
   ]
  },
  {
   "cell_type": "code",
   "execution_count": 9,
   "metadata": {},
   "outputs": [
    {
     "name": "stdout",
     "output_type": "stream",
     "text": [
      "=================================================\n",
      "n_gen  |  n_eval  |     f_avg     |     f_min    \n",
      "=================================================\n",
      "     1 |      200 |  1.165639E+01 |  2.4321657280\n",
      "     2 |      300 |  4.7269959541 |  2.3539279983\n",
      "     3 |      400 |  3.4094624954 |  2.3539279983\n",
      "     4 |      500 |  2.9021687239 |  2.3539279983\n",
      "     5 |      600 |  2.6998338255 |  2.3539279983\n",
      "     6 |      700 |  2.5926446878 |  2.3450677408\n",
      "     7 |      800 |  2.5101201437 |  2.3450677408\n",
      "     8 |      900 |  2.4591768821 |  2.3450677408\n",
      "     9 |     1000 |  2.4283100452 |  2.3423243166\n",
      "    10 |     1100 |  2.4117286290 |  2.3423243166\n",
      "    11 |     1200 |  2.3995624196 |  2.3423243166\n",
      "    12 |     1300 |  2.3866429369 |  2.3367730817\n",
      "    13 |     1400 |  2.3801162804 |  2.3351670692\n",
      "    14 |     1500 |  2.3750473185 |  2.3351670692\n",
      "    15 |     1600 |  2.3676751034 |  2.3351670692\n",
      "    16 |     1700 |  2.3639926326 |  2.3351670692\n",
      "    17 |     1800 |  2.3599948130 |  2.3351670692\n",
      "    18 |     1900 |  2.3566196259 |  2.3351670692\n",
      "    19 |     2000 |  2.3536168734 |  2.3351670692\n",
      "    20 |     2100 |  2.3512361805 |  2.3343070245\n",
      "    21 |     2200 |  2.3493552638 |  2.3343070245\n",
      "    22 |     2300 |  2.3471761832 |  2.3343070245\n",
      "    23 |     2400 |  2.3458900751 |  2.3343070245\n",
      "    24 |     2500 |  2.3441647331 |  2.3343070245\n",
      "    25 |     2600 |  2.3431404616 |  2.3343070245\n",
      "    26 |     2700 |  2.3417476592 |  2.3343070245\n",
      "    27 |     2800 |  2.3410538619 |  2.3343070245\n",
      "    28 |     2900 |  2.3403390848 |  2.3343070245\n",
      "    29 |     3000 |  2.3396130525 |  2.3343070245\n",
      "    30 |     3100 |  2.3389237528 |  2.3343070245\n",
      "    31 |     3200 |  2.3385313408 |  2.3343070245\n",
      "    32 |     3300 |  2.3379174418 |  2.3343070245\n",
      "    33 |     3400 |  2.3373596038 |  2.3343070245\n",
      "    34 |     3500 |  2.3370065851 |  2.3343070245\n",
      "    35 |     3600 |  2.3367268822 |  2.3343070245\n",
      "    36 |     3700 |  2.3364249705 |  2.3343070245\n",
      "    37 |     3800 |  2.3362527910 |  2.3343070245\n",
      "    38 |     3900 |  2.3360109300 |  2.3343070245\n",
      "    39 |     4000 |  2.3358815487 |  2.3343070245\n",
      "    40 |     4100 |  2.3357873768 |  2.3343070245\n",
      "    41 |     4200 |  2.3357053179 |  2.3343070245\n",
      "    42 |     4300 |  2.3356220300 |  2.3343070245\n",
      "    43 |     4400 |  2.3355566336 |  2.3343070245\n",
      "    44 |     4500 |  2.3355011911 |  2.3343070245\n",
      "    45 |     4600 |  2.3354519553 |  2.3343070245\n",
      "    46 |     4700 |  2.3353824821 |  2.3343070245\n",
      "    47 |     4800 |  2.3353488218 |  2.3343070245\n",
      "    48 |     4900 |  2.3353262182 |  2.3343070245\n",
      "    49 |     5000 |  2.3352898295 |  2.3343070245\n",
      "    50 |     5100 |  2.3352461430 |  2.3343070245\n",
      "Optimum length 20.7m, angle -28.7deg, max VSWR 2.33\n"
     ]
    },
    {
     "data": {
      "application/vnd.plotly.v1+json": {
       "config": {
        "plotlyServerURL": "https://plot.ly"
       },
       "data": [
        {
         "cmax": 1,
         "cmin": 0,
         "colorscale": [
          [
           0,
           "rgb(247,252,245)"
          ],
          [
           0.125,
           "rgb(229,245,224)"
          ],
          [
           0.25,
           "rgb(199,233,192)"
          ],
          [
           0.375,
           "rgb(161,217,155)"
          ],
          [
           0.5,
           "rgb(116,196,118)"
          ],
          [
           0.625,
           "rgb(65,171,93)"
          ],
          [
           0.75,
           "rgb(35,139,69)"
          ],
          [
           0.875,
           "rgb(0,109,44)"
          ],
          [
           1,
           "rgb(0,68,27)"
          ]
         ],
         "showscale": false,
         "surfacecolor": [
          [
           0.69,
           0.69
          ],
          [
           0.69,
           0.69
          ]
         ],
         "type": "surface",
         "x": [
          -22,
          22
         ],
         "y": [
          -22,
          22
         ],
         "z": [
          [
           0,
           0
          ],
          [
           0,
           0
          ]
         ]
        },
        {
         "color": "lightpink",
         "hoverinfo": "skip",
         "i": [
          0,
          0
         ],
         "j": [
          1,
          2
         ],
         "k": [
          2,
          3
         ],
         "opacity": 0.1,
         "type": "mesh3d",
         "x": [
          -22,
          -22,
          22,
          22
         ],
         "y": [
          0,
          0,
          0,
          0
         ],
         "z": [
          0,
          45,
          45,
          0
         ]
        },
        {
         "line": {
          "color": "darkblue",
          "width": 2
         },
         "marker": {
          "color": "red",
          "size": 2
         },
         "name": "",
         "showlegend": false,
         "type": "scatter3d",
         "x": [
          0,
          0
         ],
         "y": [
          0,
          18.157993803368147
         ],
         "z": [
          40,
          30.050543410242206
         ]
        },
        {
         "line": {
          "color": "darkblue",
          "width": 2
         },
         "marker": {
          "color": "red",
          "size": 2
         },
         "name": "",
         "showlegend": false,
         "type": "scatter3d",
         "x": [
          0,
          0
         ],
         "y": [
          0,
          -18.157993803368147
         ],
         "z": [
          40,
          30.050543410242206
         ]
        }
       ],
       "layout": {
        "autosize": false,
        "height": 400,
        "scene": {
         "aspectmode": "manual",
         "aspectratio": {
          "x": 1,
          "y": 1,
          "z": 1
         },
         "camera": {
          "eye": {
           "x": 1,
           "y": 0.3,
           "z": 0.3
          },
          "up": {
           "x": 0,
           "y": 0,
           "z": 1
          }
         },
         "xaxis": {
          "range": [
           -22,
           22
          ],
          "showbackground": false
         },
         "yaxis": {
          "range": [
           -22,
           22
          ],
          "showbackground": false
         },
         "zaxis": {
          "range": [
           0,
           45
          ],
          "showbackground": false
         }
        },
        "template": {
         "data": {
          "bar": [
           {
            "error_x": {
             "color": "#2a3f5f"
            },
            "error_y": {
             "color": "#2a3f5f"
            },
            "marker": {
             "line": {
              "color": "#E5ECF6",
              "width": 0.5
             },
             "pattern": {
              "fillmode": "overlay",
              "size": 10,
              "solidity": 0.2
             }
            },
            "type": "bar"
           }
          ],
          "barpolar": [
           {
            "marker": {
             "line": {
              "color": "#E5ECF6",
              "width": 0.5
             },
             "pattern": {
              "fillmode": "overlay",
              "size": 10,
              "solidity": 0.2
             }
            },
            "type": "barpolar"
           }
          ],
          "carpet": [
           {
            "aaxis": {
             "endlinecolor": "#2a3f5f",
             "gridcolor": "white",
             "linecolor": "white",
             "minorgridcolor": "white",
             "startlinecolor": "#2a3f5f"
            },
            "baxis": {
             "endlinecolor": "#2a3f5f",
             "gridcolor": "white",
             "linecolor": "white",
             "minorgridcolor": "white",
             "startlinecolor": "#2a3f5f"
            },
            "type": "carpet"
           }
          ],
          "choropleth": [
           {
            "colorbar": {
             "outlinewidth": 0,
             "ticks": ""
            },
            "type": "choropleth"
           }
          ],
          "contour": [
           {
            "colorbar": {
             "outlinewidth": 0,
             "ticks": ""
            },
            "colorscale": [
             [
              0,
              "#0d0887"
             ],
             [
              0.1111111111111111,
              "#46039f"
             ],
             [
              0.2222222222222222,
              "#7201a8"
             ],
             [
              0.3333333333333333,
              "#9c179e"
             ],
             [
              0.4444444444444444,
              "#bd3786"
             ],
             [
              0.5555555555555556,
              "#d8576b"
             ],
             [
              0.6666666666666666,
              "#ed7953"
             ],
             [
              0.7777777777777778,
              "#fb9f3a"
             ],
             [
              0.8888888888888888,
              "#fdca26"
             ],
             [
              1,
              "#f0f921"
             ]
            ],
            "type": "contour"
           }
          ],
          "contourcarpet": [
           {
            "colorbar": {
             "outlinewidth": 0,
             "ticks": ""
            },
            "type": "contourcarpet"
           }
          ],
          "heatmap": [
           {
            "colorbar": {
             "outlinewidth": 0,
             "ticks": ""
            },
            "colorscale": [
             [
              0,
              "#0d0887"
             ],
             [
              0.1111111111111111,
              "#46039f"
             ],
             [
              0.2222222222222222,
              "#7201a8"
             ],
             [
              0.3333333333333333,
              "#9c179e"
             ],
             [
              0.4444444444444444,
              "#bd3786"
             ],
             [
              0.5555555555555556,
              "#d8576b"
             ],
             [
              0.6666666666666666,
              "#ed7953"
             ],
             [
              0.7777777777777778,
              "#fb9f3a"
             ],
             [
              0.8888888888888888,
              "#fdca26"
             ],
             [
              1,
              "#f0f921"
             ]
            ],
            "type": "heatmap"
           }
          ],
          "heatmapgl": [
           {
            "colorbar": {
             "outlinewidth": 0,
             "ticks": ""
            },
            "colorscale": [
             [
              0,
              "#0d0887"
             ],
             [
              0.1111111111111111,
              "#46039f"
             ],
             [
              0.2222222222222222,
              "#7201a8"
             ],
             [
              0.3333333333333333,
              "#9c179e"
             ],
             [
              0.4444444444444444,
              "#bd3786"
             ],
             [
              0.5555555555555556,
              "#d8576b"
             ],
             [
              0.6666666666666666,
              "#ed7953"
             ],
             [
              0.7777777777777778,
              "#fb9f3a"
             ],
             [
              0.8888888888888888,
              "#fdca26"
             ],
             [
              1,
              "#f0f921"
             ]
            ],
            "type": "heatmapgl"
           }
          ],
          "histogram": [
           {
            "marker": {
             "pattern": {
              "fillmode": "overlay",
              "size": 10,
              "solidity": 0.2
             }
            },
            "type": "histogram"
           }
          ],
          "histogram2d": [
           {
            "colorbar": {
             "outlinewidth": 0,
             "ticks": ""
            },
            "colorscale": [
             [
              0,
              "#0d0887"
             ],
             [
              0.1111111111111111,
              "#46039f"
             ],
             [
              0.2222222222222222,
              "#7201a8"
             ],
             [
              0.3333333333333333,
              "#9c179e"
             ],
             [
              0.4444444444444444,
              "#bd3786"
             ],
             [
              0.5555555555555556,
              "#d8576b"
             ],
             [
              0.6666666666666666,
              "#ed7953"
             ],
             [
              0.7777777777777778,
              "#fb9f3a"
             ],
             [
              0.8888888888888888,
              "#fdca26"
             ],
             [
              1,
              "#f0f921"
             ]
            ],
            "type": "histogram2d"
           }
          ],
          "histogram2dcontour": [
           {
            "colorbar": {
             "outlinewidth": 0,
             "ticks": ""
            },
            "colorscale": [
             [
              0,
              "#0d0887"
             ],
             [
              0.1111111111111111,
              "#46039f"
             ],
             [
              0.2222222222222222,
              "#7201a8"
             ],
             [
              0.3333333333333333,
              "#9c179e"
             ],
             [
              0.4444444444444444,
              "#bd3786"
             ],
             [
              0.5555555555555556,
              "#d8576b"
             ],
             [
              0.6666666666666666,
              "#ed7953"
             ],
             [
              0.7777777777777778,
              "#fb9f3a"
             ],
             [
              0.8888888888888888,
              "#fdca26"
             ],
             [
              1,
              "#f0f921"
             ]
            ],
            "type": "histogram2dcontour"
           }
          ],
          "mesh3d": [
           {
            "colorbar": {
             "outlinewidth": 0,
             "ticks": ""
            },
            "type": "mesh3d"
           }
          ],
          "parcoords": [
           {
            "line": {
             "colorbar": {
              "outlinewidth": 0,
              "ticks": ""
             }
            },
            "type": "parcoords"
           }
          ],
          "pie": [
           {
            "automargin": true,
            "type": "pie"
           }
          ],
          "scatter": [
           {
            "fillpattern": {
             "fillmode": "overlay",
             "size": 10,
             "solidity": 0.2
            },
            "type": "scatter"
           }
          ],
          "scatter3d": [
           {
            "line": {
             "colorbar": {
              "outlinewidth": 0,
              "ticks": ""
             }
            },
            "marker": {
             "colorbar": {
              "outlinewidth": 0,
              "ticks": ""
             }
            },
            "type": "scatter3d"
           }
          ],
          "scattercarpet": [
           {
            "marker": {
             "colorbar": {
              "outlinewidth": 0,
              "ticks": ""
             }
            },
            "type": "scattercarpet"
           }
          ],
          "scattergeo": [
           {
            "marker": {
             "colorbar": {
              "outlinewidth": 0,
              "ticks": ""
             }
            },
            "type": "scattergeo"
           }
          ],
          "scattergl": [
           {
            "marker": {
             "colorbar": {
              "outlinewidth": 0,
              "ticks": ""
             }
            },
            "type": "scattergl"
           }
          ],
          "scattermapbox": [
           {
            "marker": {
             "colorbar": {
              "outlinewidth": 0,
              "ticks": ""
             }
            },
            "type": "scattermapbox"
           }
          ],
          "scatterpolar": [
           {
            "marker": {
             "colorbar": {
              "outlinewidth": 0,
              "ticks": ""
             }
            },
            "type": "scatterpolar"
           }
          ],
          "scatterpolargl": [
           {
            "marker": {
             "colorbar": {
              "outlinewidth": 0,
              "ticks": ""
             }
            },
            "type": "scatterpolargl"
           }
          ],
          "scatterternary": [
           {
            "marker": {
             "colorbar": {
              "outlinewidth": 0,
              "ticks": ""
             }
            },
            "type": "scatterternary"
           }
          ],
          "surface": [
           {
            "colorbar": {
             "outlinewidth": 0,
             "ticks": ""
            },
            "colorscale": [
             [
              0,
              "#0d0887"
             ],
             [
              0.1111111111111111,
              "#46039f"
             ],
             [
              0.2222222222222222,
              "#7201a8"
             ],
             [
              0.3333333333333333,
              "#9c179e"
             ],
             [
              0.4444444444444444,
              "#bd3786"
             ],
             [
              0.5555555555555556,
              "#d8576b"
             ],
             [
              0.6666666666666666,
              "#ed7953"
             ],
             [
              0.7777777777777778,
              "#fb9f3a"
             ],
             [
              0.8888888888888888,
              "#fdca26"
             ],
             [
              1,
              "#f0f921"
             ]
            ],
            "type": "surface"
           }
          ],
          "table": [
           {
            "cells": {
             "fill": {
              "color": "#EBF0F8"
             },
             "line": {
              "color": "white"
             }
            },
            "header": {
             "fill": {
              "color": "#C8D4E3"
             },
             "line": {
              "color": "white"
             }
            },
            "type": "table"
           }
          ]
         },
         "layout": {
          "annotationdefaults": {
           "arrowcolor": "#2a3f5f",
           "arrowhead": 0,
           "arrowwidth": 1
          },
          "autotypenumbers": "strict",
          "coloraxis": {
           "colorbar": {
            "outlinewidth": 0,
            "ticks": ""
           }
          },
          "colorscale": {
           "diverging": [
            [
             0,
             "#8e0152"
            ],
            [
             0.1,
             "#c51b7d"
            ],
            [
             0.2,
             "#de77ae"
            ],
            [
             0.3,
             "#f1b6da"
            ],
            [
             0.4,
             "#fde0ef"
            ],
            [
             0.5,
             "#f7f7f7"
            ],
            [
             0.6,
             "#e6f5d0"
            ],
            [
             0.7,
             "#b8e186"
            ],
            [
             0.8,
             "#7fbc41"
            ],
            [
             0.9,
             "#4d9221"
            ],
            [
             1,
             "#276419"
            ]
           ],
           "sequential": [
            [
             0,
             "#0d0887"
            ],
            [
             0.1111111111111111,
             "#46039f"
            ],
            [
             0.2222222222222222,
             "#7201a8"
            ],
            [
             0.3333333333333333,
             "#9c179e"
            ],
            [
             0.4444444444444444,
             "#bd3786"
            ],
            [
             0.5555555555555556,
             "#d8576b"
            ],
            [
             0.6666666666666666,
             "#ed7953"
            ],
            [
             0.7777777777777778,
             "#fb9f3a"
            ],
            [
             0.8888888888888888,
             "#fdca26"
            ],
            [
             1,
             "#f0f921"
            ]
           ],
           "sequentialminus": [
            [
             0,
             "#0d0887"
            ],
            [
             0.1111111111111111,
             "#46039f"
            ],
            [
             0.2222222222222222,
             "#7201a8"
            ],
            [
             0.3333333333333333,
             "#9c179e"
            ],
            [
             0.4444444444444444,
             "#bd3786"
            ],
            [
             0.5555555555555556,
             "#d8576b"
            ],
            [
             0.6666666666666666,
             "#ed7953"
            ],
            [
             0.7777777777777778,
             "#fb9f3a"
            ],
            [
             0.8888888888888888,
             "#fdca26"
            ],
            [
             1,
             "#f0f921"
            ]
           ]
          },
          "colorway": [
           "#636efa",
           "#EF553B",
           "#00cc96",
           "#ab63fa",
           "#FFA15A",
           "#19d3f3",
           "#FF6692",
           "#B6E880",
           "#FF97FF",
           "#FECB52"
          ],
          "font": {
           "color": "#2a3f5f"
          },
          "geo": {
           "bgcolor": "white",
           "lakecolor": "white",
           "landcolor": "#E5ECF6",
           "showlakes": true,
           "showland": true,
           "subunitcolor": "white"
          },
          "hoverlabel": {
           "align": "left"
          },
          "hovermode": "closest",
          "mapbox": {
           "style": "light"
          },
          "paper_bgcolor": "white",
          "plot_bgcolor": "#E5ECF6",
          "polar": {
           "angularaxis": {
            "gridcolor": "white",
            "linecolor": "white",
            "ticks": ""
           },
           "bgcolor": "#E5ECF6",
           "radialaxis": {
            "gridcolor": "white",
            "linecolor": "white",
            "ticks": ""
           }
          },
          "scene": {
           "xaxis": {
            "backgroundcolor": "#E5ECF6",
            "gridcolor": "white",
            "gridwidth": 2,
            "linecolor": "white",
            "showbackground": true,
            "ticks": "",
            "zerolinecolor": "white"
           },
           "yaxis": {
            "backgroundcolor": "#E5ECF6",
            "gridcolor": "white",
            "gridwidth": 2,
            "linecolor": "white",
            "showbackground": true,
            "ticks": "",
            "zerolinecolor": "white"
           },
           "zaxis": {
            "backgroundcolor": "#E5ECF6",
            "gridcolor": "white",
            "gridwidth": 2,
            "linecolor": "white",
            "showbackground": true,
            "ticks": "",
            "zerolinecolor": "white"
           }
          },
          "shapedefaults": {
           "line": {
            "color": "#2a3f5f"
           }
          },
          "ternary": {
           "aaxis": {
            "gridcolor": "white",
            "linecolor": "white",
            "ticks": ""
           },
           "baxis": {
            "gridcolor": "white",
            "linecolor": "white",
            "ticks": ""
           },
           "bgcolor": "#E5ECF6",
           "caxis": {
            "gridcolor": "white",
            "linecolor": "white",
            "ticks": ""
           }
          },
          "title": {
           "x": 0.05
          },
          "xaxis": {
           "automargin": true,
           "gridcolor": "white",
           "linecolor": "white",
           "ticks": "",
           "title": {
            "standoff": 15
           },
           "zerolinecolor": "white",
           "zerolinewidth": 2
          },
          "yaxis": {
           "automargin": true,
           "gridcolor": "white",
           "linecolor": "white",
           "ticks": "",
           "title": {
            "standoff": 15
           },
           "zerolinecolor": "white",
           "zerolinewidth": 2
          }
         }
        },
        "width": 400
       }
      }
     },
     "metadata": {},
     "output_type": "display_data"
    },
    {
     "data": {
      "image/png": "[encoded data removed]",
      "text/plain": [
       "<Figure size 500x270 with 1 Axes>"
      ]
     },
     "metadata": {},
     "output_type": "display_data"
    }
   ],
   "source": [
    "\n",
    "# The only significant change required is to write a new version of _make_design()\n",
    "#  that draws the inverted vee with the required length and angle.\n",
    "# 'x' is now a vector of two values:\n",
    "#   x[0]    half-dipole length (meters)\n",
    "#   x[1]    droop angle (degrees, a negative value)\n",
    "class InvVeeProblem(DipoleSingleOptProblem):\n",
    "    \n",
    "    def _make_design(self, x):\n",
    "        half_el = make_linear_element((0,0,0),(0,x[0],0))       # Draw the element along the y axis\n",
    "        half_el = rot_x(half_el, np.deg2rad(x[1]))              # Rotate around x axis\n",
    "        half_el = translate(half_el, (0,0,self.z))              # Move up to desired z coordinate\n",
    "        return half_el\n",
    "\n",
    "# xl,xu specify valid ranges of parameter values:  length (18, 22) meters, angle (-45, 0) degrees\n",
    "ivproblem = InvVeeProblem(n_var=2, f_min=3.5, f_max=3.7, z=40,\n",
    "                                segs_per_m=SEGS_PER_M, radius=AWG14RADIUS,\n",
    "                                xl=np.array([18.0, -45.0]),\n",
    "                                xu=np.array([22.0, 0.0]))\n",
    "res = minimize(ivproblem, algorithm, termination, save_history=False, verbose=True)\n",
    "\n",
    "print(f'Optimum length {res.X[0]:.1f}m, angle {res.X[1]:.1f}deg, max VSWR {res.F[0]:.2f}')\n",
    "vswr_curve = res.pop.get('VSWR')[0]\n",
    "plot_vswr_2([zip(ivproblem.freqs, vswr_curve)], tags=['80m InvVee'])\n",
    "\n",
    "design = ivproblem._make_design(res.X)\n",
    "wire_ant_visualize(design,(-22,22),(-22,22),(0,45),width=400, height=400)\n"
   ]
  },
  {
   "cell_type": "markdown",
   "metadata": {},
   "source": [
    "![Graph](img/InvVee_opt.png)"
   ]
  },
  {
   "cell_type": "code",
   "execution_count": null,
   "metadata": {},
   "outputs": [],
   "source": []
  }
 ],
 "metadata": {
  "kernelspec": {
   "display_name": "may_2023",
   "language": "python",
   "name": "python3"
  },
  "language_info": {
   "codemirror_mode": {
    "name": "ipython",
    "version": 3
   },
   "file_extension": ".py",
   "mimetype": "text/x-python",
   "name": "python",
   "nbconvert_exporter": "python",
   "pygments_lexer": "ipython3",
   "version": "3.10.10"
  }
 },
 "nbformat": 4,
 "nbformat_minor": 2
}
