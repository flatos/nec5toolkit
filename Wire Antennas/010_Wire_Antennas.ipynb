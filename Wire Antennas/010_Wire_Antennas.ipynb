{
 "cells": [
  {
   "cell_type": "code",
   "execution_count": null,
   "metadata": {},
   "outputs": [],
   "source": [
    "# coding=utf-8\n",
    "# Copyright 2023 Frank Latos AC8P\n",
    "#\n",
    "# Licensed under the Apache License, Version 2.0 (the \"License\");\n",
    "# you may not use this file except in compliance with the License.\n",
    "# You may obtain a copy of the License at\n",
    "#\n",
    "#     http://www.apache.org/licenses/LICENSE-2.0\n",
    "#\n",
    "# Unless required by applicable law or agreed to in writing, software\n",
    "# distributed under the License is distributed on an \"AS IS\" BASIS,\n",
    "# WITHOUT WARRANTIES OR CONDITIONS OF ANY KIND, either express or implied.\n",
    "# See the License for the specific language governing permissions and\n",
    "# limitations under the License."
   ]
  },
  {
   "cell_type": "markdown",
   "metadata": {},
   "source": [
    "# Wire Antenna Basics\n",
    "Design, Visualization, Simulation"
   ]
  },
  {
   "cell_type": "markdown",
   "metadata": {},
   "source": [
    "## Specifying a wire antenna design\n",
    "In the following pages we're going to specify wire antenna designs using lists of numpy arrays,\n",
    "one row per endpoint:\n",
    "```\n",
    "my_ant = [np.array([[x0,y0,z0], \n",
    "                    [x1,y1,z1], \n",
    "                    [x2,y2,z2], \n",
    "                     ..... ])]\n",
    "```\n",
    "Most designs will need only one array of serially-connected segments, but some (see the cage dipole below) will require a list of several arrays.\n",
    "\n",
    "We're adopting the convention that antenna elements run parallel to the y axis, and that NEC will mirror elements across the x-z plane, so a simple 40 meter dipole at an elevation of 20 meters would be specified as:\n",
    "```\n",
    "my_40m_dipole = [np.array([[0,0,20], [0,10,20]])]\n",
    "```"
   ]
  }
 ],
 "metadata": {
  "language_info": {
   "name": "python"
  }
 },
 "nbformat": 4,
 "nbformat_minor": 2
}
