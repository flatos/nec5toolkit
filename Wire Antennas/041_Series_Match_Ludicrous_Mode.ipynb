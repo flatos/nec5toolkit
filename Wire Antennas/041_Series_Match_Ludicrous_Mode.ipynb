{
 "cells": [
  {
   "cell_type": "code",
   "execution_count": null,
   "metadata": {},
   "outputs": [],
   "source": [
    "# coding=utf-8\n",
    "# Copyright 2023 Frank Latos AC8P\n",
    "#\n",
    "# Licensed under the Apache License, Version 2.0 (the \"License\");\n",
    "# you may not use this file except in compliance with the License.\n",
    "# You may obtain a copy of the License at\n",
    "#\n",
    "#     http://www.apache.org/licenses/LICENSE-2.0\n",
    "#\n",
    "# Unless required by applicable law or agreed to in writing, software\n",
    "# distributed under the License is distributed on an \"AS IS\" BASIS,\n",
    "# WITHOUT WARRANTIES OR CONDITIONS OF ANY KIND, either express or implied.\n",
    "# See the License for the specific language governing permissions and\n",
    "# limitations under the License.\n",
    "\n",
    "#\n",
    "# Much appreciation to the Pymoo project for providing the optimization framework used herein:\n",
    "#\n",
    "# pymoo: Multi-objective Optimization in Python\n",
    "# https://github.com/anyoptimization/pymoo\n",
    "# https://pymoo.org/index.html\n",
    "#\n"
   ]
  },
  {
   "cell_type": "markdown",
   "metadata": {},
   "source": [
    "\n",
    "Series section matching: Ludicrous Mode\n"
   ]
  },
  {
   "cell_type": "code",
   "execution_count": 48,
   "metadata": {},
   "outputs": [
    {
     "name": "stdout",
     "output_type": "stream",
     "text": [
      "Device: gpu:0\n"
     ]
    }
   ],
   "source": [
    "import numpy as np\n",
    "from numba import njit\n",
    "\n",
    "import jax\n",
    "import jax.numpy as jnp\n",
    "from jax import grad, jit, vmap\n",
    "from jax import device_put\n",
    "print(\"Device:\", jax.devices()[0])\n"
   ]
  },
  {
   "cell_type": "code",
   "execution_count": 49,
   "metadata": {},
   "outputs": [],
   "source": [
    "\n",
    "# Precompute arrays A,B,C,D to speed impedance transformation calculations (lossless TL)\n",
    "#   zoa     z of first matching section (connected to antenna)\n",
    "#   zob     z of second matching section\n",
    "#   flow, fhigh, nfreq      freq band of interest\n",
    "#\n",
    "#   Usage:  precompute A,B,C,D once for specified parameters\n",
    "#       A,B,C,D = series_match_precompute(zoa=50,zob=75,nfreq=9,flow=3.5,fhigh=4.0)\n",
    "#\n",
    "#       z = (zs*A[a,b] + B[a,b]) / ((1j)*zs*C[a,b] + D[a,b])\n",
    "#           where   zs is a row vector of complex zs, shape (1,nfreq)\n",
    "#                   a,b   lengths of zoa,zob matching section (degrees)\n",
    "#\n",
    "@njit\n",
    "def series_match_precompute(zoa=50,zob=75,nfreq=9,flow=3.5,fhigh=4.0):\n",
    "    # Scale phase delay for freqs across band of interest\n",
    "    phscale = (np.linspace(flow,fhigh,num=nfreq) / ((fhigh+flow)/2))[None,:]\n",
    "    A = np.empty((181,181,nfreq))\n",
    "    B = np.empty((181,181,nfreq), dtype=np.complex128)\n",
    "    C = np.empty((181,181,nfreq))\n",
    "    D = np.empty((181,181,nfreq))\n",
    "    for a in range(181):\n",
    "        tana = np.tan(np.deg2rad(a*phscale))\n",
    "        for b in range(181):\n",
    "            tanb = np.tan(np.deg2rad(b*phscale))\n",
    "            A[a,b] = zoa*zob - zob**2 * tana * tanb\n",
    "            B[a,b] = zoa*zob*(zoa*tana + zob*tanb)*(1j)\n",
    "            C[a,b] = zob*tana + zoa*tanb\n",
    "            D[a,b] = zoa*(zob - zoa * tana * tanb)\n",
    "    return A,B,C,D\n",
    "\n",
    "A,B,C,D = series_match_precompute(zoa=50,zob=75,nfreq=9,flow=3.5,fhigh=4.0)\n",
    "Aj = device_put(A)\n",
    "Bj = device_put(B)\n",
    "Cj = device_put(C)\n",
    "Dj = device_put(D)"
   ]
  },
  {
   "cell_type": "code",
   "execution_count": 51,
   "metadata": {},
   "outputs": [],
   "source": [
    "\n",
    "# Generate 100 random feedpoint impedance curves (9 freqs)\n",
    "zs = np.random.rand(100,9)*100 + (np.random.rand(100,9)*200 - 100)*(1j)\n",
    "\n",
    "\n",
    "def transform_z(zr):\n",
    "    return (zr*Aj + Bj) / ((1j)*zr*Cj + Dj)\n",
    "\n",
    "zt = vmap(transform_z)(zs)\n"
   ]
  },
  {
   "cell_type": "code",
   "execution_count": 56,
   "metadata": {},
   "outputs": [
    {
     "data": {
      "text/plain": [
       "(Array([ 57, 118,   0, 134, 127, 146,  15, 134, 114,  74, 144, 152,  38,\n",
       "        147,  45, 127,  49,  43, 101,  91, 115, 149,  10,  35, 117, 147,\n",
       "        168,  30, 163,  35, 179, 154, 176, 153, 157, 167, 149,   7,  32,\n",
       "         36, 101,  37, 156,  26,  25,  55, 103, 165,  28, 165, 169,  82,\n",
       "         30, 157, 180,  22,  61, 160,  52, 155, 177,  89,  27,   1, 143,\n",
       "         27,  11,   7, 124,  16, 128,  60, 138,  29,  33, 161, 131, 167,\n",
       "         29,  34, 141, 156, 173,  49, 127, 177,   1,   0, 130,  19, 104,\n",
       "         85,  30,  29,   9,  27, 154, 180,  90,  12], dtype=int32),\n",
       " Array([ 85, 148,  15,  91,  29,  88,  31,  85, 141,  26,  65, 133,  88,\n",
       "         89, 139, 129,  40,  36, 110,  37,  32,  92, 123,  37,  38,  95,\n",
       "        119, 169, 159,  61, 120,  92,  86,  66,  96,  98, 120,  47,  97,\n",
       "        180,  15,  86,  58,  85,  45,  91, 177,  37,  85,  88,  46, 174,\n",
       "        119, 166, 100, 103,  91,  96, 110, 134, 180, 174,  87, 112,  84,\n",
       "         88, 158, 118, 139, 141,  85, 172, 100,  96,  88,  96,  85, 161,\n",
       "         27,  84,  85,  94,  23, 138,  94, 149,  69,  53, 146, 129,  90,\n",
       "        133,  86,  97, 159,  35,  36, 118,  51,  22], dtype=int32))"
      ]
     },
     "execution_count": 56,
     "metadata": {},
     "output_type": "execute_result"
    }
   ],
   "source": [
    "\n",
    "def find_min_vswr(zr, z0=50):\n",
    "    zt = (zr*Aj + Bj) / ((1j)*zr*Cj + Dj)       # Transformed impedances for all segment length combinations\n",
    "    refl_coef = jnp.abs((zt + z0) / (zt - z0))\n",
    "    vswr = (1 - refl_coef) / (1 + refl_coef)\n",
    "    max_vswr = jnp.max(vswr, axis=-1)\n",
    "\n",
    "    idx = jnp.argmin(max_vswr)                           # Flat index\n",
    "    return jnp.unravel_index(idx, max_vswr.shape)        \n",
    "\n",
    "# zs = np.ones((100,9)) * (35-10j)\n",
    "zs = np.random.rand(100,9)*100 + (np.random.rand(100,9)*200 - 100)*(1j)\n",
    "\n",
    "vfunc = vmap(find_min_vswr)\n",
    "seg_lens = vfunc(zs)\n",
    "seg_lens\n"
   ]
  },
  {
   "cell_type": "code",
   "execution_count": 57,
   "metadata": {},
   "outputs": [
    {
     "name": "stdout",
     "output_type": "stream",
     "text": [
      "22.3 ms ± 143 µs per loop (mean ± std. dev. of 7 runs, 10 loops each)\n"
     ]
    }
   ],
   "source": [
    "%%timeit\n",
    "seg_lens = vfunc(zs)\n"
   ]
  },
  {
   "cell_type": "code",
   "execution_count": 58,
   "metadata": {},
   "outputs": [],
   "source": [
    "@njit\n",
    "def series_match_scan(zs, A,B,C,D, step=1, z0=50.0):\n",
    "    aopt, bopt, vswr_max_opt, vswr_curve_opt = (0, 0, 99999.0, None)\n",
    "    for a in range(0,A.shape[0],step):\n",
    "        for b in range(0,A.shape[1],step):\n",
    "\n",
    "            z = (zs*A[a,b] + B[a,b]) / ((1j)*zs*C[a,b] + D[a,b])\n",
    "            arf = np.abs((z - z0) / (z + z0))         # Reflection coefs\n",
    "            vswr_curve = (1 + arf) / (1 - arf)\n",
    "            vswr_max = np.max(vswr_curve)\n",
    "            if vswr_max < vswr_max_opt:\n",
    "                vswr_max_opt = vswr_max\n",
    "                aopt = a\n",
    "                bopt = b\n",
    "                vswr_curve_opt = vswr_curve\n",
    "    return aopt,bopt,vswr_curve_opt,vswr_max_opt\n",
    "\n",
    "@njit\n",
    "def series_match_array(zs):\n",
    "    res = np.empty((zs.shape[0],2))\n",
    "    for i in range(zs.shape[0]):\n",
    "        a,b,_,_ = series_match_scan(zs[i:i+1], A,B,C,D)\n",
    "        res[i,:] = (a,b)\n",
    "    return res\n"
   ]
  },
  {
   "cell_type": "code",
   "execution_count": 62,
   "metadata": {},
   "outputs": [
    {
     "name": "stdout",
     "output_type": "stream",
     "text": [
      "2.32 s ± 8.42 ms per loop (mean ± std. dev. of 7 runs, 1 loop each)\n"
     ]
    }
   ],
   "source": [
    "%%timeit\n",
    "series_match_array(zs)"
   ]
  },
  {
   "cell_type": "code",
   "execution_count": 65,
   "metadata": {},
   "outputs": [
    {
     "name": "stdout",
     "output_type": "stream",
     "text": [
      "26.8 ms ± 3.2 ms per loop (mean ± std. dev. of 7 runs, 10 loops each)\n"
     ]
    }
   ],
   "source": [
    "%%timeit\n",
    "series_match_scan(zs[0:1], A,B,C,D)"
   ]
  },
  {
   "cell_type": "code",
   "execution_count": 66,
   "metadata": {},
   "outputs": [
    {
     "data": {
      "text/plain": [
       "(100, 9)"
      ]
     },
     "execution_count": 66,
     "metadata": {},
     "output_type": "execute_result"
    }
   ],
   "source": [
    "zs.shape"
   ]
  },
  {
   "cell_type": "code",
   "execution_count": null,
   "metadata": {},
   "outputs": [],
   "source": []
  }
 ],
 "metadata": {
  "kernelspec": {
   "display_name": "may_2023",
   "language": "python",
   "name": "python3"
  },
  "language_info": {
   "codemirror_mode": {
    "name": "ipython",
    "version": 3
   },
   "file_extension": ".py",
   "mimetype": "text/x-python",
   "name": "python",
   "nbconvert_exporter": "python",
   "pygments_lexer": "ipython3",
   "version": "3.10.10"
  }
 },
 "nbformat": 4,
 "nbformat_minor": 2
}
