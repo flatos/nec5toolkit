{
 "cells": [
  {
   "cell_type": "code",
   "execution_count": null,
   "metadata": {},
   "outputs": [],
   "source": [
    "# coding=utf-8\n",
    "# Copyright 2023 Frank Latos AC8P\n",
    "#\n",
    "# Licensed under the Apache License, Version 2.0 (the \"License\");\n",
    "# you may not use this file except in compliance with the License.\n",
    "# You may obtain a copy of the License at\n",
    "#\n",
    "#     http://www.apache.org/licenses/LICENSE-2.0\n",
    "#\n",
    "# Unless required by applicable law or agreed to in writing, software\n",
    "# distributed under the License is distributed on an \"AS IS\" BASIS,\n",
    "# WITHOUT WARRANTIES OR CONDITIONS OF ANY KIND, either express or implied.\n",
    "# See the License for the specific language governing permissions and\n",
    "# limitations under the License.\n",
    "\n",
    "#\n",
    "# Much appreciation to the Pymoo project for providing the optimization framework used herein:\n",
    "#\n",
    "# pymoo: Multi-objective Optimization in Python\n",
    "# https://github.com/anyoptimization/pymoo\n",
    "# https://pymoo.org/index.html\n",
    "#\n"
   ]
  },
  {
   "cell_type": "markdown",
   "metadata": {},
   "source": [
    "\n",
    "# A Look at Some Broadband 80 Meter Antenna Ideas\n",
    "\n",
    "It's well known that a standard dipole antenna can't provide a low VSWR over the entire frequency range of the 80 meter band. This notebook looks at some published designs that improve on the dipole's bandwidth. Some of the code presented in previous notebooks is used to optimize antenna geometries and feedline matching arrangements to extract maximum frequency coverage from the designs.\n",
    "\n",
    "Note that I haven't built or tested any of these antennas - this is merely a demonstration of simulation and optimization.\n",
    "\n",
    "Thanks to the authors of the various articles referenced herein.\n"
   ]
  },
  {
   "cell_type": "markdown",
   "metadata": {},
   "source": [
    "\n",
    "## Baseline for Comparison: A Simple Dipole\n",
    "\n",
    "Let's look at the characteristics of a simple dipole trimmed for the center of the band (3.75 MHz). In this and subsequent sections I've chosen an arbitrary height of 30 meters (98.4 ft) for the antenna feedpoint."
   ]
  },
  {
   "cell_type": "code",
   "execution_count": 1,
   "metadata": {},
   "outputs": [
    {
     "name": "stdout",
     "output_type": "stream",
     "text": [
      "Half element length (m): 19.67\n",
      "Impedance at midpoint: [3.75, (94.945-0.15595j)]\n",
      "Bandwidth for VSWR <= 2.0 (MHz): 0.087\n"
     ]
    },
    {
     "data": {
      "image/png": "[encoded data removed]",
      "text/plain": [
       "<Figure size 500x270 with 1 Axes>"
      ]
     },
     "metadata": {},
     "output_type": "display_data"
    }
   ],
   "source": [
    "from necutil import nec5_sim_stdio3,plot_vswr,trim_res_freq,find_vswr_bw\n",
    "\n",
    "# Simple dipole template, height = 30 meters\n",
    "AWG14RADIUS = 1.628/1000/2              # 1.628mm dia\n",
    "necstr = \"\"\"CE Dipole\n",
    "GW 1 10 0 0 30 0 {len} 30 0.000814\n",
    "GX 100 010\n",
    "GE 1 0\n",
    "GD 0 0 0 0 13 0.005 0 0\n",
    "EX 4 1 1 1 1.0 0.0\n",
    "FR 0 {fnum} 0 0 {flow} {fstep}\n",
    "XQ 0\n",
    "EN\n",
    "\"\"\"\n",
    "\n",
    "freq = 3.75\n",
    "y_est = 142.646 / freq / 2                  # Estimated half-dipole length (m)\n",
    "y = trim_res_freq(necstr, freq, y_est, tol=0.001)\n",
    "print(f'Half element length (m): {y:.2f}')\n",
    "\n",
    "res = nec5_sim_stdio3([necstr.format(len=y, fnum=101, flow=3.5, fstep=0.005)])\n",
    "zs = res[0][0][0]         # freqs, zs\n",
    "print(f'Impedance at midpoint: {zs[50]}')\n",
    "s = necstr.format(len=y, fnum='{fnum}', flow='{flow}', fstep='{fstep}')\n",
    "bw = find_vswr_bw(s, 2.0, 3.5, 4.0, fnum=11, tol=0.001)\n",
    "print(f'Bandwidth for VSWR <= 2.0 (MHz): {bw:.3f}')\n",
    "plot_vswr([zs], tags=['80m dipole'])\n",
    "\n",
    "\n"
   ]
  },
  {
   "cell_type": "markdown",
   "metadata": {},
   "source": [
    "\n",
    "## Add Series Section Matching\n",
    "\n",
    "Next we'll add series section matching to minimize the VSWR at the band's midpoint. This scheme is described in the Regier paper refereced below and in many other sources, e.g.:\n",
    "\n",
    "* Regier, F., \"Impedance Matching  with a Series Transmission Line Section\", *Proc. IEEE*, Vol. 59, No. 7, July 1971, pp.1133-1134\n",
    "* Cebik, L.B. \"Series Matching: A Review\" [http://www.antentop.org/w4rnl.001/ser.html](http://www.antentop.org/w4rnl.001/ser.html)\n",
    "\n"
   ]
  },
  {
   "cell_type": "code",
   "execution_count": null,
   "metadata": {},
   "outputs": [],
   "source": [
    "\n"
   ]
  },
  {
   "cell_type": "code",
   "execution_count": 4,
   "metadata": {},
   "outputs": [
    {
     "data": {
      "text/plain": [
       "[3.75, (94.945-0.15595j)]"
      ]
     },
     "execution_count": 4,
     "metadata": {},
     "output_type": "execute_result"
    }
   ],
   "source": [
    "zs[50]"
   ]
  },
  {
   "cell_type": "markdown",
   "metadata": {},
   "source": [
    "\n",
    "![Graph](../Cad/Series_Section_Match_1.svg)\n"
   ]
  },
  {
   "cell_type": "markdown",
   "metadata": {},
   "source": [
    "\n",
    "<!-- <img src=\"../Cad/Series_Section_Match_1.svg\" alt=\"Drawing\" style=\"width: 400px;\"/> -->\n",
    "<img src=\"../Cad/Series_Section_Match_1.svg\" alt=\"Drawing\" />\n"
   ]
  },
  {
   "cell_type": "markdown",
   "metadata": {},
   "source": [
    "\n",
    "![Graph](../Cad/Series_Section_Match_1.png)"
   ]
  },
  {
   "cell_type": "code",
   "execution_count": null,
   "metadata": {},
   "outputs": [],
   "source": [
    "\n"
   ]
  }
 ],
 "metadata": {
  "kernelspec": {
   "display_name": "may_2023",
   "language": "python",
   "name": "python3"
  },
  "language_info": {
   "codemirror_mode": {
    "name": "ipython",
    "version": 3
   },
   "file_extension": ".py",
   "mimetype": "text/x-python",
   "name": "python",
   "nbconvert_exporter": "python",
   "pygments_lexer": "ipython3",
   "version": "3.10.10"
  }
 },
 "nbformat": 4,
 "nbformat_minor": 2
}
