{
 "cells": [
  {
   "cell_type": "code",
   "execution_count": null,
   "metadata": {},
   "outputs": [],
   "source": [
    "# coding=utf-8\n",
    "# Copyright 2023 Frank Latos AC8P\n",
    "#\n",
    "# Licensed under the Apache License, Version 2.0 (the \"License\");\n",
    "# you may not use this file except in compliance with the License.\n",
    "# You may obtain a copy of the License at\n",
    "#\n",
    "#     http://www.apache.org/licenses/LICENSE-2.0\n",
    "#\n",
    "# Unless required by applicable law or agreed to in writing, software\n",
    "# distributed under the License is distributed on an \"AS IS\" BASIS,\n",
    "# WITHOUT WARRANTIES OR CONDITIONS OF ANY KIND, either express or implied.\n",
    "# See the License for the specific language governing permissions and\n",
    "# limitations under the License.\n",
    "\n",
    "#\n",
    "# Much appreciation to the Pymoo project for providing the optimization framework used herein:\n",
    "#\n",
    "# pymoo: Multi-objective Optimization in Python\n",
    "# https://github.com/anyoptimization/pymoo\n",
    "# https://pymoo.org/index.html\n",
    "#\n"
   ]
  },
  {
   "cell_type": "markdown",
   "metadata": {},
   "source": [
    "\n",
    "# Broadband 80 Meter Antenna Ideas (Continued)\n",
    "\n",
    "In the previous notebook we got surprisingly close to achieving coverage of the entire 80m band with a simple dipole and a properly-selected matching network: the best example provided VSWR < 2.3 across the band.\n",
    "\n",
    "Earlier notebooks provide examples of designing cage dipoles to increase bandwidth, and in particular using a 'cage' for only a portion of the antenna's length (the remainder being a single wire) to effect a tradeoff between bandwidth and the amount of wire used.\n",
    "* 020_Intro_to_Optimization.ipynb\n",
    "* 030_Optimization_With_Constraints.ipynb\n",
    "\n",
    "Based on previous results I'm going to choose a 'cage' consisting of two wires (so really just a pair of parallel wires) as being the most wire-efficient design.\n",
    "\n",
    "The problem will be set up as a multi-objective optimization problem, which should provide us with a range of tradeoffs between our two objectives, **minimize maximum VSWR within the band** and **minimize total wire used**.\n",
    "\n",
    "Saving a bit of wire might not be at the head of anyone's list of concerns...anyway, it provides an example of a simulation that requires the user to choose a trade-off between two objectives...\n",
    "\n",
    "Thanks to the folks at the Pymoo project (\"Python Multi-objective Optimization\") for the underlying optimization code.\n",
    "\n",
    "<img src=\"../Cad/Series_Section_Match_4.svg\" alt=\"Drawing\" style=\"width: 600px;\"/>\n"
   ]
  },
  {
   "cell_type": "code",
   "execution_count": 1,
   "metadata": {},
   "outputs": [],
   "source": [
    "\n",
    "#\n",
    "# A reusable base class for problems similar to this one\n",
    "#\n",
    "# For each design it searches for the optimum series-section matching network to minimize max VSWR in the band of interest\n",
    "# This is slow-ish but not a problem for a simple scenario like this one...\n",
    "# The notebook '041_Series_Match_Ludicrous_Mode.ipynb' shows how to do the scanning on a GPU if you're so inclined.\n",
    "#\n",
    "# You'll need to define the function _make_design() to 'draw' the geometry of your antenna based on the parameters\n",
    "#  that the optimizer gives you.\n",
    "#\n",
    "# Also provide the function _compute_results() to specify the objectives, constraints, and other data to be saved\n",
    "#  for each design\n",
    "#\n",
    "\n",
    "\n",
    "\n",
    "\n",
    "import numpy as np\n",
    "from pymoo.core.problem import Problem\n",
    "from necutil import nec5_sim_stdio3, make_linear_element, gen_nec5_str, plot_vswr_2\n",
    "from necutil import wire_ant_visualize, rot_x, rot_y, translate, make_cage_element, total_wire_len\n",
    "from necutil import series_match_precompute, series_match_scan\n",
    "\n",
    "class DipoleSSMProblem(Problem):\n",
    "    # n_var, n_obj, n_ieq_constraints       #variables (design parameters), #objectives, #inequality constraints\n",
    "    # segs_per_m                            segments per meter when generating NEC cards\n",
    "    # radius, z                             wire radius (m), height above ground (m)\n",
    "    # f_min, f_max, f_num                   freq band of interest, #freq points within band\n",
    "    # z0a, z0b                              impedances of series-section-matching TLs\n",
    "    def __init__(self, n_var, n_obj, n_ieq_constr, segs_per_m, radius, f_min, f_max, z, f_num=9, z0a=50, z0b=75, **kwargs):\n",
    "        super().__init__(n_var=n_var,\n",
    "                         n_obj=n_obj,\n",
    "                         n_ieq_constr=n_ieq_constr,\n",
    "                         **kwargs)\n",
    "\n",
    "        # Save some problem characteristics\n",
    "        self.f_min = f_min              # Frequency band of interest: min, max, # of points\n",
    "        self.f_max = f_max\n",
    "        self.f_num = f_num        \n",
    "        self.freqs = np.linspace(f_min, f_max, num=f_num)       # Freqs of interest as an array\n",
    "        self.f_center = np.mean([f_min,f_max])                  # Center freq\n",
    "        self.z0 = 50                    # TL impedance\n",
    "        self.z = z                      # z dimension (height of antenna)\n",
    "        self.segs_per_m = segs_per_m    # NEC segments per meter \n",
    "        self.radius = radius            # Wire radius (m)\n",
    "\n",
    "        # Precompute some arrays (speeds process of scanning for optimum matching network)\n",
    "        self.A,self.B,self.C,self.D = series_match_precompute(zoa=z0a,zob=z0b,nfreq=f_num,flow=f_min,fhigh=f_max)\n",
    "        \n",
    "        # NEC5 design deck template\n",
    "        # GX: mirror across xz plane\n",
    "        # EX: feedpoint specified as tag=1, segment=1, near end (1)\n",
    "        # GD: Some typical MININEC ground parameters\n",
    "        self.necpre = 'CE Dipole\\n'             # Obligatory comment line\n",
    "        self.necpost = f\"\"\"GX 100 010\n",
    "GE 1 0\n",
    "GD 0 0 0 0 13 0.005 0 0\n",
    "EX 4 1 1 1 1.0 0.0\n",
    "FR 0 {f_num} 0 0 {f_min} {(f_max-f_min)/(f_num-1)}\n",
    "XQ 0\n",
    "EN\n",
    "\"\"\"\n",
    " \n",
    "\n",
    "    # Optimization algorithms call this entry point with a population of designs\n",
    "    #   X       an array of design parameters of shape (population_size, number_of_variables)\n",
    "    #   out     dictionary where we'll return our results\n",
    "    def _evaluate(self, X, out, *args, **kwargs):\n",
    "\n",
    "        # Write a custom _make_design() for your problem\n",
    "        # Use the params in x to create the design as a list of numpy arrays (see details in '010_Wire_Antennas.ipynb')\n",
    "        designs = [self._make_design(x) for x in X]                 # Make antenna designs based on params in X\n",
    "\n",
    "        # Turns your design into an NEC deck using the template\n",
    "        necdecks = [self.necpre + gen_nec5_str(d, self.segs_per_m, self.radius) + self.necpost for d in designs]     # Convert to NEC decks (strings)\n",
    "\n",
    "        res = nec5_sim_stdio3(necdecks, timelimit=10000.0)          # Run the simulations\n",
    "\n",
    "        # Extracts feedpoint complex z for each design --> complex array of shape (#designs, #freqs)\n",
    "        zs = np.array([[freq[1] for freq in des[0][0]] for des in res])\n",
    "\n",
    "        # Scan for optimum series matching segment lengths (degrees) for each design\n",
    "        # We're checking all lengths of [0, 180] degrees for both z0a, z0b segments\n",
    "        a_b = np.empty((zs.shape[0],2))\n",
    "        vswr_curves = np.empty(zs.shape)\n",
    "        max_vswr = np.empty((zs.shape[0],1))\n",
    "        for idx in range(zs.shape[0]):\n",
    "            aopt,bopt,vswr_curve_opt,vswr_max_opt = series_match_scan(zs[idx:idx+1], self.A,self.B,self.C,self.D, z0=self.z0)\n",
    "            a_b[idx,:] = (aopt,bopt)\n",
    "            vswr_curves[idx,:] = vswr_curve_opt\n",
    "            max_vswr[idx,:] = vswr_max_opt\n",
    "\n",
    "        \n",
    "        # Write a custom function to return objectives, constraints, other values\n",
    "        self._compute_results(X, out, designs, zs, a_b, vswr_curves, max_vswr)\n",
    "\n",
    "\n"
   ]
  },
  {
   "cell_type": "code",
   "execution_count": 2,
   "metadata": {},
   "outputs": [
    {
     "name": "stdout",
     "output_type": "stream",
     "text": [
      "==========================================================================================\n",
      "n_gen  |  n_eval  | n_nds  |     cv_min    |     cv_avg    |      eps      |   indicator  \n",
      "==========================================================================================\n",
      "     1 |      200 |      8 |  0.000000E+00 |  4.5653021484 |             - |             -\n",
      "     2 |      300 |     12 |  0.000000E+00 |  0.9587283224 |  0.0293239689 |             f\n",
      "     3 |      400 |     10 |  0.000000E+00 |  0.3131845042 |  0.0479278864 |             f\n",
      "     4 |      500 |     13 |  0.000000E+00 |  0.0998754240 |  0.0431377270 |             f\n",
      "     5 |      600 |     18 |  0.000000E+00 |  0.0051773550 |  0.0052204957 |         ideal\n",
      "     6 |      700 |     16 |  0.000000E+00 |  0.000000E+00 |  0.0041918283 |         ideal\n",
      "     7 |      800 |     19 |  0.000000E+00 |  0.000000E+00 |  0.0255826437 |         nadir\n",
      "     8 |      900 |     22 |  0.000000E+00 |  0.000000E+00 |  0.0219319099 |             f\n",
      "     9 |     1000 |     24 |  0.000000E+00 |  0.000000E+00 |  0.0018452997 |             f\n",
      "    10 |     1100 |     30 |  0.000000E+00 |  0.000000E+00 |  0.0110788108 |             f\n",
      "    11 |     1200 |     28 |  0.000000E+00 |  0.000000E+00 |  0.0100628441 |             f\n",
      "    12 |     1300 |     32 |  0.000000E+00 |  0.000000E+00 |  0.0057558953 |             f\n",
      "    13 |     1400 |     35 |  0.000000E+00 |  0.000000E+00 |  0.0058387522 |             f\n",
      "    14 |     1500 |     43 |  0.000000E+00 |  0.000000E+00 |  0.0072940956 |             f\n",
      "    15 |     1600 |     47 |  0.000000E+00 |  0.000000E+00 |  0.0027771060 |             f\n",
      "    16 |     1700 |     49 |  0.000000E+00 |  0.000000E+00 |  0.0009939409 |             f\n",
      "    17 |     1800 |     53 |  0.000000E+00 |  0.000000E+00 |  0.0017929117 |             f\n",
      "    18 |     1900 |     56 |  0.000000E+00 |  0.000000E+00 |  0.0031311325 |             f\n",
      "    19 |     2000 |     66 |  0.000000E+00 |  0.000000E+00 |  0.0014524712 |             f\n",
      "    20 |     2100 |     70 |  0.000000E+00 |  0.000000E+00 |  0.0037585813 |             f\n",
      "    21 |     2200 |     80 |  0.000000E+00 |  0.000000E+00 |  0.0743400452 |         nadir\n",
      "    22 |     2300 |     80 |  0.000000E+00 |  0.000000E+00 |  0.000000E+00 |             f\n",
      "    23 |     2400 |     86 |  0.000000E+00 |  0.000000E+00 |  0.0020126750 |             f\n",
      "    24 |     2500 |     87 |  0.000000E+00 |  0.000000E+00 |  0.0021367806 |             f\n",
      "    25 |     2600 |     93 |  0.000000E+00 |  0.000000E+00 |  0.0019570501 |             f\n",
      "    26 |     2700 |     96 |  0.000000E+00 |  0.000000E+00 |  0.0023514295 |             f\n",
      "    27 |     2800 |    101 |  0.000000E+00 |  0.000000E+00 |  0.0026449496 |             f\n",
      "    28 |     2900 |    108 |  0.000000E+00 |  0.000000E+00 |  0.0192929925 |         ideal\n",
      "    29 |     3000 |    114 |  0.000000E+00 |  0.000000E+00 |  0.0004955665 |             f\n",
      "    30 |     3100 |    119 |  0.000000E+00 |  0.000000E+00 |  0.0011123431 |             f\n",
      "    31 |     3200 |    121 |  0.000000E+00 |  0.000000E+00 |  0.0025692712 |             f\n",
      "    32 |     3300 |    118 |  0.000000E+00 |  0.000000E+00 |  0.0004234521 |             f\n",
      "    33 |     3400 |    129 |  0.000000E+00 |  0.000000E+00 |  0.0011004270 |             f\n",
      "    34 |     3500 |    135 |  0.000000E+00 |  0.000000E+00 |  0.0016225315 |             f\n",
      "    35 |     3600 |    142 |  0.000000E+00 |  0.000000E+00 |  0.0022766092 |             f\n",
      "    36 |     3700 |    149 |  0.000000E+00 |  0.000000E+00 |  0.0024531141 |             f\n",
      "    37 |     3800 |    158 |  0.000000E+00 |  0.000000E+00 |  0.0028125031 |             f\n",
      "    38 |     3900 |    161 |  0.000000E+00 |  0.000000E+00 |  0.0002717818 |             f\n",
      "    39 |     4000 |    165 |  0.000000E+00 |  0.000000E+00 |  0.0004667492 |             f\n",
      "    40 |     4100 |    167 |  0.000000E+00 |  0.000000E+00 |  0.0006689577 |             f\n",
      "    41 |     4200 |    176 |  0.000000E+00 |  0.000000E+00 |  0.0008194080 |             f\n",
      "    42 |     4300 |    174 |  0.000000E+00 |  0.000000E+00 |  0.0037351719 |         ideal\n",
      "    43 |     4400 |    178 |  0.000000E+00 |  0.000000E+00 |  0.0001790842 |             f\n",
      "    44 |     4500 |    177 |  0.000000E+00 |  0.000000E+00 |  0.0004462435 |             f\n",
      "    45 |     4600 |    180 |  0.000000E+00 |  0.000000E+00 |  0.0005657565 |             f\n",
      "    46 |     4700 |    190 |  0.000000E+00 |  0.000000E+00 |  0.0008948371 |             f\n",
      "    47 |     4800 |    196 |  0.000000E+00 |  0.000000E+00 |  0.0011556502 |             f\n",
      "    48 |     4900 |    200 |  0.000000E+00 |  0.000000E+00 |  0.0013537655 |             f\n",
      "    49 |     5000 |    200 |  0.000000E+00 |  0.000000E+00 |  0.0015930089 |             f\n",
      "    50 |     5100 |    200 |  0.000000E+00 |  0.000000E+00 |  0.0017104063 |             f\n"
     ]
    }
   ],
   "source": [
    "from pymoo.algorithms.moo.nsga2 import NSGA2\n",
    "from pymoo.termination import get_termination\n",
    "from pymoo.optimize import minimize\n",
    "\n",
    "\n",
    "# A simple linear scaling class:\n",
    "#  We want to scale our objectives to be of similar sizes\n",
    "class ObjectiveScaler:\n",
    "    def __init__(self,xl,xh,scaledl,scaledh):\n",
    "        self.m = (scaledh-scaledl)/(xh-xl)\n",
    "        self.b = scaledl - self.m*xl\n",
    "    def scale(self, X):\n",
    "        return self.m*X + self.b\n",
    "    def unscale(self, X):\n",
    "        return (X - self.b) / self.m\n",
    "    \n",
    "\n",
    "#\n",
    "# The class representing our specific problem\n",
    "#\n",
    "class OptCageSSMProblem(DipoleSSMProblem):\n",
    "    # (2) variables:  overall length (of half-element), length of 'cage' portion (as fraction of element length)\n",
    "    # (2) objectives to minimize: max VSWR within band, total wire length used\n",
    "    # (1) constraint: max vswr <= 2.0\n",
    "    def __init__(self, **kwargs):\n",
    "        super().__init__(n_var=2, n_obj=2, n_ieq_constr=1, **kwargs)\n",
    "\n",
    "        # Create scaler objs to scale our objectives to approx [0.0, 1.0] ranges\n",
    "        self.vswr_scaler = ObjectiveScaler(1.0, 2.0, 0.0, 1.0)          # VSWRs from 1.0 - 2.0\n",
    "        self.wlen_scaler = ObjectiveScaler(20.0, 40.0, 0.0, 1.0)        # Range of wire lengths 20 - 40m (?)\n",
    "\n",
    "\n",
    "    # Your custom function to construct the antenna\n",
    "    # See '010_Wire_Antennas.ipynb' for more details\n",
    "    # Design params: \n",
    "    #   x[0]    overall length\n",
    "    #   x[1]    length of 'cage' portion as fraction of overall length\n",
    "    def _make_design(self, x):\n",
    "        half_el = make_linear_element((0,0,0),(0,0.5,0))                        # Initial 0.5m straight wire section\n",
    "        half_el.extend( make_cage_element(0.5, x[0]*x[1]+0.5, .2, .5, 2) )      # 2 wires, 1m apart\n",
    "        half_el.extend( make_linear_element((0,x[0]*x[1]+0.5,0),(0,x[0],0)) )   # Straight wire for remainder of element\n",
    "        half_el = rot_y(half_el, np.pi/2)               # Rotate 90deg so wires are in horizontal plane\n",
    "        half_el = translate(half_el, (0,0,self.z))      # Move to 'z' meters above ground\n",
    "        return half_el\n",
    "\n",
    "\n",
    "    # Your custom function to return objectives, constraints, other values\n",
    "    def _compute_results(self, X, out, designs, zs, a_b, vswr_curves, max_vswr):\n",
    "\n",
    "        #\n",
    "        # Our objectives to minimize are:  max vswr in band, total wire length used\n",
    "        #\n",
    "        total_wl =  np.array([total_wire_len(des) for des in designs])[:,None]      # Wire lengths as column vector\n",
    "        out['F'] = [self.vswr_scaler.scale(max_vswr), self.wlen_scaler.scale(total_wl)]         # Return objs as a list of column vectors\n",
    "\n",
    "        # Constraint: max vswr must be <= 2.0\n",
    "        out['G'] = max_vswr - 2.0               # Constraint satisfied if <= 0\n",
    "        \n",
    "        # Can attach any other data to population of designs\n",
    "        #  Not used in optimization, but can be examined later...\n",
    "        out['VSWR'] = vswr_curves               # VSWR values across freq band\n",
    "        out['AB'] = a_b                         # Lengths (degrees) of 'z0a' and 'z0b' matching sections\n",
    "        \n",
    "\n",
    "\n",
    "AWG14RADIUS = 1.628/1000/2              # 1.628mm dia\n",
    "SEGS_PER_M = 10/20.0                    # NEC segments: around 10 for the half-element\n",
    "ocproblem = OptCageSSMProblem(f_min=3.5, f_max=4.0, z=30,\n",
    "                                segs_per_m=SEGS_PER_M, radius=AWG14RADIUS,\n",
    "                                xl=np.array([17.0, 0.1]),                   # Lower, upper limits of parameters:\n",
    "                                xu=np.array([23.0, 1.0]))                   # Overall len [17.0, 23.0], cage fraction [0.1, 1.0]\n",
    "# Pymoo provides a variety of termination conditions\n",
    "# For simplicity's sake we will just run for 50 generations\n",
    "termination = get_termination(\"n_gen\", 50)  \n",
    "\n",
    "# Algorithm: Multi-objective genetic algorithm\n",
    "algorithm = NSGA2(pop_size=200, n_offsprings=100)\n",
    "# Run\n",
    "res = minimize(ocproblem, algorithm, termination, save_history=False, verbose=True)\n",
    "\n",
    "\n",
    "\n"
   ]
  },
  {
   "cell_type": "code",
   "execution_count": 3,
   "metadata": {},
   "outputs": [
    {
     "data": {
      "image/png": "[encoded data removed]",
      "text/plain": [
       "<Figure size 500x500 with 2 Axes>"
      ]
     },
     "metadata": {},
     "output_type": "display_data"
    }
   ],
   "source": [
    "\n",
    "#\n",
    "# Create a plot showing max-vswr vs. total-wire-length tradeoff\n",
    "# Color scale = total loss in matching lines (dB)\n",
    "#\n",
    "\n",
    "# Un-scale the objective values\n",
    "max_vswr = ocproblem.vswr_scaler.unscale(res.F[:,0:1])\n",
    "total_wl = ocproblem.wlen_scaler.unscale(res.F[:,1:2])\n",
    "\n",
    "# Compute total matching network loss (dB) (although it doesn't vary much in this problem...)\n",
    "tl_loss = np.sum(res.pop.get('AB') * (299.792458 / 3.75 / 360.0) * np.array([[0.66, 0.82]]) * np.array([[1.233/100, 0.737/100]]), axis=1)[:,None]\n",
    "import matplotlib.pyplot as plt\n",
    "fig, ax = plt.subplots(figsize=(5, 5))\n",
    "pts = ax.scatter(max_vswr, total_wl, c=tl_loss, s=20, cmap='plasma')\n",
    "\n",
    "ax.set_xlabel('Max VSWR')\n",
    "ax.set_ylabel('Wire len (m)')\n",
    "fig.colorbar(pts)\n",
    "plt.show()\n"
   ]
  },
  {
   "cell_type": "code",
   "execution_count": 4,
   "metadata": {},
   "outputs": [
    {
     "data": {
      "text/html": [
       "<div>\n",
       "<style scoped>\n",
       "    .dataframe tbody tr th:only-of-type {\n",
       "        vertical-align: middle;\n",
       "    }\n",
       "\n",
       "    .dataframe tbody tr th {\n",
       "        vertical-align: top;\n",
       "    }\n",
       "\n",
       "    .dataframe thead th {\n",
       "        text-align: right;\n",
       "    }\n",
       "</style>\n",
       "<table border=\"1\" class=\"dataframe\">\n",
       "  <thead>\n",
       "    <tr style=\"text-align: right;\">\n",
       "      <th></th>\n",
       "      <th>Overall len (m)</th>\n",
       "      <th>Cage fraction</th>\n",
       "      <th>Max VSWR</th>\n",
       "      <th>Wire Len (m)</th>\n",
       "      <th>Loss (dB)</th>\n",
       "      <th>A (deg)</th>\n",
       "      <th>B (deg)</th>\n",
       "    </tr>\n",
       "  </thead>\n",
       "  <tbody>\n",
       "    <tr>\n",
       "      <th>0</th>\n",
       "      <td>20.764816</td>\n",
       "      <td>0.167766</td>\n",
       "      <td>1.995432</td>\n",
       "      <td>25.602507</td>\n",
       "      <td>0.437554</td>\n",
       "      <td>179.0</td>\n",
       "      <td>85.0</td>\n",
       "    </tr>\n",
       "    <tr>\n",
       "      <th>1</th>\n",
       "      <td>19.979669</td>\n",
       "      <td>0.844769</td>\n",
       "      <td>1.373778</td>\n",
       "      <td>38.211940</td>\n",
       "      <td>0.440650</td>\n",
       "      <td>177.0</td>\n",
       "      <td>90.0</td>\n",
       "    </tr>\n",
       "    <tr>\n",
       "      <th>2</th>\n",
       "      <td>21.033181</td>\n",
       "      <td>0.213080</td>\n",
       "      <td>1.881721</td>\n",
       "      <td>26.869007</td>\n",
       "      <td>0.437554</td>\n",
       "      <td>179.0</td>\n",
       "      <td>85.0</td>\n",
       "    </tr>\n",
       "    <tr>\n",
       "      <th>3</th>\n",
       "      <td>20.814565</td>\n",
       "      <td>0.180581</td>\n",
       "      <td>1.926366</td>\n",
       "      <td>25.927351</td>\n",
       "      <td>0.438896</td>\n",
       "      <td>179.0</td>\n",
       "      <td>86.0</td>\n",
       "    </tr>\n",
       "    <tr>\n",
       "      <th>4</th>\n",
       "      <td>20.753277</td>\n",
       "      <td>0.176483</td>\n",
       "      <td>1.962435</td>\n",
       "      <td>25.769938</td>\n",
       "      <td>0.444623</td>\n",
       "      <td>174.0</td>\n",
       "      <td>97.0</td>\n",
       "    </tr>\n",
       "    <tr>\n",
       "      <th>...</th>\n",
       "      <td>...</td>\n",
       "      <td>...</td>\n",
       "      <td>...</td>\n",
       "      <td>...</td>\n",
       "      <td>...</td>\n",
       "      <td>...</td>\n",
       "      <td>...</td>\n",
       "    </tr>\n",
       "    <tr>\n",
       "      <th>195</th>\n",
       "      <td>21.824770</td>\n",
       "      <td>0.377483</td>\n",
       "      <td>1.623457</td>\n",
       "      <td>31.417305</td>\n",
       "      <td>0.441062</td>\n",
       "      <td>175.0</td>\n",
       "      <td>93.0</td>\n",
       "    </tr>\n",
       "    <tr>\n",
       "      <th>196</th>\n",
       "      <td>21.885976</td>\n",
       "      <td>0.392940</td>\n",
       "      <td>1.599236</td>\n",
       "      <td>31.839912</td>\n",
       "      <td>0.440185</td>\n",
       "      <td>176.0</td>\n",
       "      <td>91.0</td>\n",
       "    </tr>\n",
       "    <tr>\n",
       "      <th>197</th>\n",
       "      <td>21.921504</td>\n",
       "      <td>0.412364</td>\n",
       "      <td>1.576250</td>\n",
       "      <td>32.315203</td>\n",
       "      <td>0.441062</td>\n",
       "      <td>175.0</td>\n",
       "      <td>93.0</td>\n",
       "    </tr>\n",
       "    <tr>\n",
       "      <th>198</th>\n",
       "      <td>21.925614</td>\n",
       "      <td>0.404883</td>\n",
       "      <td>1.585807</td>\n",
       "      <td>32.156986</td>\n",
       "      <td>0.437089</td>\n",
       "      <td>178.0</td>\n",
       "      <td>86.0</td>\n",
       "    </tr>\n",
       "    <tr>\n",
       "      <th>199</th>\n",
       "      <td>21.924455</td>\n",
       "      <td>0.519019</td>\n",
       "      <td>1.464685</td>\n",
       "      <td>34.657736</td>\n",
       "      <td>0.438843</td>\n",
       "      <td>176.0</td>\n",
       "      <td>90.0</td>\n",
       "    </tr>\n",
       "  </tbody>\n",
       "</table>\n",
       "<p>200 rows × 7 columns</p>\n",
       "</div>"
      ],
      "text/plain": [
       "     Overall len (m)  Cage fraction  Max VSWR  Wire Len (m)  Loss (dB)   \n",
       "0          20.764816       0.167766  1.995432     25.602507   0.437554  \\\n",
       "1          19.979669       0.844769  1.373778     38.211940   0.440650   \n",
       "2          21.033181       0.213080  1.881721     26.869007   0.437554   \n",
       "3          20.814565       0.180581  1.926366     25.927351   0.438896   \n",
       "4          20.753277       0.176483  1.962435     25.769938   0.444623   \n",
       "..               ...            ...       ...           ...        ...   \n",
       "195        21.824770       0.377483  1.623457     31.417305   0.441062   \n",
       "196        21.885976       0.392940  1.599236     31.839912   0.440185   \n",
       "197        21.921504       0.412364  1.576250     32.315203   0.441062   \n",
       "198        21.925614       0.404883  1.585807     32.156986   0.437089   \n",
       "199        21.924455       0.519019  1.464685     34.657736   0.438843   \n",
       "\n",
       "     A (deg)  B (deg)  \n",
       "0      179.0     85.0  \n",
       "1      177.0     90.0  \n",
       "2      179.0     85.0  \n",
       "3      179.0     86.0  \n",
       "4      174.0     97.0  \n",
       "..       ...      ...  \n",
       "195    175.0     93.0  \n",
       "196    176.0     91.0  \n",
       "197    175.0     93.0  \n",
       "198    178.0     86.0  \n",
       "199    176.0     90.0  \n",
       "\n",
       "[200 rows x 7 columns]"
      ]
     },
     "execution_count": 4,
     "metadata": {},
     "output_type": "execute_result"
    }
   ],
   "source": [
    "#\n",
    "# Look at detailed results as a data frame\n",
    "#\n",
    "import pandas as pd\n",
    "df = pd.DataFrame(np.hstack([res.X, max_vswr, total_wl, tl_loss, res.pop.get('AB')]),\n",
    "                   columns=['Overall len (m)', 'Cage fraction', 'Max VSWR','Wire Len (m)', 'Loss (dB)', 'A (deg)', 'B (deg)'])\n",
    "df\n"
   ]
  },
  {
   "cell_type": "code",
   "execution_count": 9,
   "metadata": {},
   "outputs": [
    {
     "data": {
      "text/plain": [
       "Overall len (m)     21.885976\n",
       "Cage fraction        0.392940\n",
       "Max VSWR             1.599236\n",
       "Wire Len (m)        31.839912\n",
       "Loss (dB)            0.440185\n",
       "A (deg)            176.000000\n",
       "B (deg)             91.000000\n",
       "Name: 196, dtype: float64"
      ]
     },
     "execution_count": 9,
     "metadata": {},
     "output_type": "execute_result"
    }
   ],
   "source": [
    "#\n",
    "# Let's look at designs with max VSWR near 1.60:\n",
    "#\n",
    "# df[ (df['Max VSWR'] > 1.58) & (df['Max VSWR'] < 1.62) ].sort_values('Wire Len (m)')\n",
    "\n",
    "# Find design with max vswr closest to 1.60\n",
    "row = np.argmin(np.abs(df['Max VSWR'] - 1.60))\n",
    "df.iloc[row]"
   ]
  },
  {
   "cell_type": "code",
   "execution_count": 11,
   "metadata": {},
   "outputs": [
    {
     "data": {
      "image/png": "[encoded data removed]",
      "text/plain": [
       "<Figure size 500x270 with 1 Axes>"
      ]
     },
     "metadata": {},
     "output_type": "display_data"
    }
   ],
   "source": [
    "fvpairs = list(zip(ocproblem.freqs, res.pop.get('VSWR')[row]))   # Combine frequencies and VSWR values\n",
    "plot_vswr_2([fvpairs], tags=[f'Row {row}'])"
   ]
  },
  {
   "cell_type": "code",
   "execution_count": 12,
   "metadata": {},
   "outputs": [
    {
     "data": {
      "application/vnd.plotly.v1+json": {
       "config": {
        "plotlyServerURL": "https://plot.ly"
       },
       "data": [
        {
         "cmax": 1,
         "cmin": 0,
         "colorscale": [
          [
           0,
           "rgb(247,252,245)"
          ],
          [
           0.125,
           "rgb(229,245,224)"
          ],
          [
           0.25,
           "rgb(199,233,192)"
          ],
          [
           0.375,
           "rgb(161,217,155)"
          ],
          [
           0.5,
           "rgb(116,196,118)"
          ],
          [
           0.625,
           "rgb(65,171,93)"
          ],
          [
           0.75,
           "rgb(35,139,69)"
          ],
          [
           0.875,
           "rgb(0,109,44)"
          ],
          [
           1,
           "rgb(0,68,27)"
          ]
         ],
         "showscale": false,
         "surfacecolor": [
          [
           0.69,
           0.69
          ],
          [
           0.69,
           0.69
          ]
         ],
         "type": "surface",
         "x": [
          -22,
          22
         ],
         "y": [
          -22,
          22
         ],
         "z": [
          [
           0,
           0
          ],
          [
           0,
           0
          ]
         ]
        },
        {
         "color": "lightpink",
         "hoverinfo": "skip",
         "i": [
          0,
          0
         ],
         "j": [
          1,
          2
         ],
         "k": [
          2,
          3
         ],
         "opacity": 0.1,
         "type": "mesh3d",
         "x": [
          -22,
          -22,
          22,
          22
         ],
         "y": [
          0,
          0,
          0,
          0
         ],
         "z": [
          0,
          45,
          45,
          0
         ]
        },
        {
         "line": {
          "color": "darkblue",
          "width": 2
         },
         "marker": {
          "color": "red",
          "size": 2
         },
         "name": "",
         "showlegend": false,
         "type": "scatter3d",
         "x": [
          0,
          0
         ],
         "y": [
          0,
          0.5
         ],
         "z": [
          30,
          30
         ]
        },
        {
         "line": {
          "color": "darkblue",
          "width": 2
         },
         "marker": {
          "color": "red",
          "size": 2
         },
         "name": "",
         "showlegend": false,
         "type": "scatter3d",
         "x": [
          0,
          0.5,
          0.5,
          0
         ],
         "y": [
          0.5,
          0.7,
          8.89986995952253,
          9.099869959522529
         ],
         "z": [
          30,
          30,
          30,
          30
         ]
        },
        {
         "line": {
          "color": "darkblue",
          "width": 2
         },
         "marker": {
          "color": "red",
          "size": 2
         },
         "name": "",
         "showlegend": false,
         "type": "scatter3d",
         "x": [
          0,
          -0.5,
          -0.5,
          0
         ],
         "y": [
          0.5,
          0.7,
          8.89986995952253,
          9.099869959522529
         ],
         "z": [
          30,
          30,
          30,
          30
         ]
        },
        {
         "line": {
          "color": "darkblue",
          "width": 2
         },
         "marker": {
          "color": "red",
          "size": 2
         },
         "name": "",
         "showlegend": false,
         "type": "scatter3d",
         "x": [
          0,
          0
         ],
         "y": [
          9.099869959522529,
          21.885976055674274
         ],
         "z": [
          30,
          30
         ]
        },
        {
         "line": {
          "color": "darkblue",
          "width": 2
         },
         "marker": {
          "color": "red",
          "size": 2
         },
         "name": "",
         "showlegend": false,
         "type": "scatter3d",
         "x": [
          0,
          0
         ],
         "y": [
          0,
          -0.5
         ],
         "z": [
          30,
          30
         ]
        },
        {
         "line": {
          "color": "darkblue",
          "width": 2
         },
         "marker": {
          "color": "red",
          "size": 2
         },
         "name": "",
         "showlegend": false,
         "type": "scatter3d",
         "x": [
          0,
          -0.5,
          -0.5,
          0
         ],
         "y": [
          -0.5,
          -0.7,
          -8.89986995952253,
          -9.099869959522529
         ],
         "z": [
          30,
          30,
          30,
          30
         ]
        },
        {
         "line": {
          "color": "darkblue",
          "width": 2
         },
         "marker": {
          "color": "red",
          "size": 2
         },
         "name": "",
         "showlegend": false,
         "type": "scatter3d",
         "x": [
          0,
          0.5,
          0.5,
          0
         ],
         "y": [
          -0.5,
          -0.7,
          -8.89986995952253,
          -9.099869959522529
         ],
         "z": [
          30,
          30,
          30,
          30
         ]
        },
        {
         "line": {
          "color": "darkblue",
          "width": 2
         },
         "marker": {
          "color": "red",
          "size": 2
         },
         "name": "",
         "showlegend": false,
         "type": "scatter3d",
         "x": [
          0,
          0
         ],
         "y": [
          -9.099869959522529,
          -21.885976055674274
         ],
         "z": [
          30,
          30
         ]
        }
       ],
       "layout": {
        "autosize": false,
        "height": 700,
        "scene": {
         "aspectmode": "manual",
         "aspectratio": {
          "x": 1,
          "y": 1,
          "z": 1
         },
         "camera": {
          "eye": {
           "x": 1,
           "y": 0.3,
           "z": 0.3
          },
          "up": {
           "x": 0,
           "y": 0,
           "z": 1
          }
         },
         "xaxis": {
          "range": [
           -22,
           22
          ],
          "showbackground": false
         },
         "yaxis": {
          "range": [
           -22,
           22
          ],
          "showbackground": false
         },
         "zaxis": {
          "range": [
           0,
           45
          ],
          "showbackground": false
         }
        },
        "template": {
         "data": {
          "bar": [
           {
            "error_x": {
             "color": "#2a3f5f"
            },
            "error_y": {
             "color": "#2a3f5f"
            },
            "marker": {
             "line": {
              "color": "#E5ECF6",
              "width": 0.5
             },
             "pattern": {
              "fillmode": "overlay",
              "size": 10,
              "solidity": 0.2
             }
            },
            "type": "bar"
           }
          ],
          "barpolar": [
           {
            "marker": {
             "line": {
              "color": "#E5ECF6",
              "width": 0.5
             },
             "pattern": {
              "fillmode": "overlay",
              "size": 10,
              "solidity": 0.2
             }
            },
            "type": "barpolar"
           }
          ],
          "carpet": [
           {
            "aaxis": {
             "endlinecolor": "#2a3f5f",
             "gridcolor": "white",
             "linecolor": "white",
             "minorgridcolor": "white",
             "startlinecolor": "#2a3f5f"
            },
            "baxis": {
             "endlinecolor": "#2a3f5f",
             "gridcolor": "white",
             "linecolor": "white",
             "minorgridcolor": "white",
             "startlinecolor": "#2a3f5f"
            },
            "type": "carpet"
           }
          ],
          "choropleth": [
           {
            "colorbar": {
             "outlinewidth": 0,
             "ticks": ""
            },
            "type": "choropleth"
           }
          ],
          "contour": [
           {
            "colorbar": {
             "outlinewidth": 0,
             "ticks": ""
            },
            "colorscale": [
             [
              0,
              "#0d0887"
             ],
             [
              0.1111111111111111,
              "#46039f"
             ],
             [
              0.2222222222222222,
              "#7201a8"
             ],
             [
              0.3333333333333333,
              "#9c179e"
             ],
             [
              0.4444444444444444,
              "#bd3786"
             ],
             [
              0.5555555555555556,
              "#d8576b"
             ],
             [
              0.6666666666666666,
              "#ed7953"
             ],
             [
              0.7777777777777778,
              "#fb9f3a"
             ],
             [
              0.8888888888888888,
              "#fdca26"
             ],
             [
              1,
              "#f0f921"
             ]
            ],
            "type": "contour"
           }
          ],
          "contourcarpet": [
           {
            "colorbar": {
             "outlinewidth": 0,
             "ticks": ""
            },
            "type": "contourcarpet"
           }
          ],
          "heatmap": [
           {
            "colorbar": {
             "outlinewidth": 0,
             "ticks": ""
            },
            "colorscale": [
             [
              0,
              "#0d0887"
             ],
             [
              0.1111111111111111,
              "#46039f"
             ],
             [
              0.2222222222222222,
              "#7201a8"
             ],
             [
              0.3333333333333333,
              "#9c179e"
             ],
             [
              0.4444444444444444,
              "#bd3786"
             ],
             [
              0.5555555555555556,
              "#d8576b"
             ],
             [
              0.6666666666666666,
              "#ed7953"
             ],
             [
              0.7777777777777778,
              "#fb9f3a"
             ],
             [
              0.8888888888888888,
              "#fdca26"
             ],
             [
              1,
              "#f0f921"
             ]
            ],
            "type": "heatmap"
           }
          ],
          "heatmapgl": [
           {
            "colorbar": {
             "outlinewidth": 0,
             "ticks": ""
            },
            "colorscale": [
             [
              0,
              "#0d0887"
             ],
             [
              0.1111111111111111,
              "#46039f"
             ],
             [
              0.2222222222222222,
              "#7201a8"
             ],
             [
              0.3333333333333333,
              "#9c179e"
             ],
             [
              0.4444444444444444,
              "#bd3786"
             ],
             [
              0.5555555555555556,
              "#d8576b"
             ],
             [
              0.6666666666666666,
              "#ed7953"
             ],
             [
              0.7777777777777778,
              "#fb9f3a"
             ],
             [
              0.8888888888888888,
              "#fdca26"
             ],
             [
              1,
              "#f0f921"
             ]
            ],
            "type": "heatmapgl"
           }
          ],
          "histogram": [
           {
            "marker": {
             "pattern": {
              "fillmode": "overlay",
              "size": 10,
              "solidity": 0.2
             }
            },
            "type": "histogram"
           }
          ],
          "histogram2d": [
           {
            "colorbar": {
             "outlinewidth": 0,
             "ticks": ""
            },
            "colorscale": [
             [
              0,
              "#0d0887"
             ],
             [
              0.1111111111111111,
              "#46039f"
             ],
             [
              0.2222222222222222,
              "#7201a8"
             ],
             [
              0.3333333333333333,
              "#9c179e"
             ],
             [
              0.4444444444444444,
              "#bd3786"
             ],
             [
              0.5555555555555556,
              "#d8576b"
             ],
             [
              0.6666666666666666,
              "#ed7953"
             ],
             [
              0.7777777777777778,
              "#fb9f3a"
             ],
             [
              0.8888888888888888,
              "#fdca26"
             ],
             [
              1,
              "#f0f921"
             ]
            ],
            "type": "histogram2d"
           }
          ],
          "histogram2dcontour": [
           {
            "colorbar": {
             "outlinewidth": 0,
             "ticks": ""
            },
            "colorscale": [
             [
              0,
              "#0d0887"
             ],
             [
              0.1111111111111111,
              "#46039f"
             ],
             [
              0.2222222222222222,
              "#7201a8"
             ],
             [
              0.3333333333333333,
              "#9c179e"
             ],
             [
              0.4444444444444444,
              "#bd3786"
             ],
             [
              0.5555555555555556,
              "#d8576b"
             ],
             [
              0.6666666666666666,
              "#ed7953"
             ],
             [
              0.7777777777777778,
              "#fb9f3a"
             ],
             [
              0.8888888888888888,
              "#fdca26"
             ],
             [
              1,
              "#f0f921"
             ]
            ],
            "type": "histogram2dcontour"
           }
          ],
          "mesh3d": [
           {
            "colorbar": {
             "outlinewidth": 0,
             "ticks": ""
            },
            "type": "mesh3d"
           }
          ],
          "parcoords": [
           {
            "line": {
             "colorbar": {
              "outlinewidth": 0,
              "ticks": ""
             }
            },
            "type": "parcoords"
           }
          ],
          "pie": [
           {
            "automargin": true,
            "type": "pie"
           }
          ],
          "scatter": [
           {
            "fillpattern": {
             "fillmode": "overlay",
             "size": 10,
             "solidity": 0.2
            },
            "type": "scatter"
           }
          ],
          "scatter3d": [
           {
            "line": {
             "colorbar": {
              "outlinewidth": 0,
              "ticks": ""
             }
            },
            "marker": {
             "colorbar": {
              "outlinewidth": 0,
              "ticks": ""
             }
            },
            "type": "scatter3d"
           }
          ],
          "scattercarpet": [
           {
            "marker": {
             "colorbar": {
              "outlinewidth": 0,
              "ticks": ""
             }
            },
            "type": "scattercarpet"
           }
          ],
          "scattergeo": [
           {
            "marker": {
             "colorbar": {
              "outlinewidth": 0,
              "ticks": ""
             }
            },
            "type": "scattergeo"
           }
          ],
          "scattergl": [
           {
            "marker": {
             "colorbar": {
              "outlinewidth": 0,
              "ticks": ""
             }
            },
            "type": "scattergl"
           }
          ],
          "scattermapbox": [
           {
            "marker": {
             "colorbar": {
              "outlinewidth": 0,
              "ticks": ""
             }
            },
            "type": "scattermapbox"
           }
          ],
          "scatterpolar": [
           {
            "marker": {
             "colorbar": {
              "outlinewidth": 0,
              "ticks": ""
             }
            },
            "type": "scatterpolar"
           }
          ],
          "scatterpolargl": [
           {
            "marker": {
             "colorbar": {
              "outlinewidth": 0,
              "ticks": ""
             }
            },
            "type": "scatterpolargl"
           }
          ],
          "scatterternary": [
           {
            "marker": {
             "colorbar": {
              "outlinewidth": 0,
              "ticks": ""
             }
            },
            "type": "scatterternary"
           }
          ],
          "surface": [
           {
            "colorbar": {
             "outlinewidth": 0,
             "ticks": ""
            },
            "colorscale": [
             [
              0,
              "#0d0887"
             ],
             [
              0.1111111111111111,
              "#46039f"
             ],
             [
              0.2222222222222222,
              "#7201a8"
             ],
             [
              0.3333333333333333,
              "#9c179e"
             ],
             [
              0.4444444444444444,
              "#bd3786"
             ],
             [
              0.5555555555555556,
              "#d8576b"
             ],
             [
              0.6666666666666666,
              "#ed7953"
             ],
             [
              0.7777777777777778,
              "#fb9f3a"
             ],
             [
              0.8888888888888888,
              "#fdca26"
             ],
             [
              1,
              "#f0f921"
             ]
            ],
            "type": "surface"
           }
          ],
          "table": [
           {
            "cells": {
             "fill": {
              "color": "#EBF0F8"
             },
             "line": {
              "color": "white"
             }
            },
            "header": {
             "fill": {
              "color": "#C8D4E3"
             },
             "line": {
              "color": "white"
             }
            },
            "type": "table"
           }
          ]
         },
         "layout": {
          "annotationdefaults": {
           "arrowcolor": "#2a3f5f",
           "arrowhead": 0,
           "arrowwidth": 1
          },
          "autotypenumbers": "strict",
          "coloraxis": {
           "colorbar": {
            "outlinewidth": 0,
            "ticks": ""
           }
          },
          "colorscale": {
           "diverging": [
            [
             0,
             "#8e0152"
            ],
            [
             0.1,
             "#c51b7d"
            ],
            [
             0.2,
             "#de77ae"
            ],
            [
             0.3,
             "#f1b6da"
            ],
            [
             0.4,
             "#fde0ef"
            ],
            [
             0.5,
             "#f7f7f7"
            ],
            [
             0.6,
             "#e6f5d0"
            ],
            [
             0.7,
             "#b8e186"
            ],
            [
             0.8,
             "#7fbc41"
            ],
            [
             0.9,
             "#4d9221"
            ],
            [
             1,
             "#276419"
            ]
           ],
           "sequential": [
            [
             0,
             "#0d0887"
            ],
            [
             0.1111111111111111,
             "#46039f"
            ],
            [
             0.2222222222222222,
             "#7201a8"
            ],
            [
             0.3333333333333333,
             "#9c179e"
            ],
            [
             0.4444444444444444,
             "#bd3786"
            ],
            [
             0.5555555555555556,
             "#d8576b"
            ],
            [
             0.6666666666666666,
             "#ed7953"
            ],
            [
             0.7777777777777778,
             "#fb9f3a"
            ],
            [
             0.8888888888888888,
             "#fdca26"
            ],
            [
             1,
             "#f0f921"
            ]
           ],
           "sequentialminus": [
            [
             0,
             "#0d0887"
            ],
            [
             0.1111111111111111,
             "#46039f"
            ],
            [
             0.2222222222222222,
             "#7201a8"
            ],
            [
             0.3333333333333333,
             "#9c179e"
            ],
            [
             0.4444444444444444,
             "#bd3786"
            ],
            [
             0.5555555555555556,
             "#d8576b"
            ],
            [
             0.6666666666666666,
             "#ed7953"
            ],
            [
             0.7777777777777778,
             "#fb9f3a"
            ],
            [
             0.8888888888888888,
             "#fdca26"
            ],
            [
             1,
             "#f0f921"
            ]
           ]
          },
          "colorway": [
           "#636efa",
           "#EF553B",
           "#00cc96",
           "#ab63fa",
           "#FFA15A",
           "#19d3f3",
           "#FF6692",
           "#B6E880",
           "#FF97FF",
           "#FECB52"
          ],
          "font": {
           "color": "#2a3f5f"
          },
          "geo": {
           "bgcolor": "white",
           "lakecolor": "white",
           "landcolor": "#E5ECF6",
           "showlakes": true,
           "showland": true,
           "subunitcolor": "white"
          },
          "hoverlabel": {
           "align": "left"
          },
          "hovermode": "closest",
          "mapbox": {
           "style": "light"
          },
          "paper_bgcolor": "white",
          "plot_bgcolor": "#E5ECF6",
          "polar": {
           "angularaxis": {
            "gridcolor": "white",
            "linecolor": "white",
            "ticks": ""
           },
           "bgcolor": "#E5ECF6",
           "radialaxis": {
            "gridcolor": "white",
            "linecolor": "white",
            "ticks": ""
           }
          },
          "scene": {
           "xaxis": {
            "backgroundcolor": "#E5ECF6",
            "gridcolor": "white",
            "gridwidth": 2,
            "linecolor": "white",
            "showbackground": true,
            "ticks": "",
            "zerolinecolor": "white"
           },
           "yaxis": {
            "backgroundcolor": "#E5ECF6",
            "gridcolor": "white",
            "gridwidth": 2,
            "linecolor": "white",
            "showbackground": true,
            "ticks": "",
            "zerolinecolor": "white"
           },
           "zaxis": {
            "backgroundcolor": "#E5ECF6",
            "gridcolor": "white",
            "gridwidth": 2,
            "linecolor": "white",
            "showbackground": true,
            "ticks": "",
            "zerolinecolor": "white"
           }
          },
          "shapedefaults": {
           "line": {
            "color": "#2a3f5f"
           }
          },
          "ternary": {
           "aaxis": {
            "gridcolor": "white",
            "linecolor": "white",
            "ticks": ""
           },
           "baxis": {
            "gridcolor": "white",
            "linecolor": "white",
            "ticks": ""
           },
           "bgcolor": "#E5ECF6",
           "caxis": {
            "gridcolor": "white",
            "linecolor": "white",
            "ticks": ""
           }
          },
          "title": {
           "x": 0.05
          },
          "xaxis": {
           "automargin": true,
           "gridcolor": "white",
           "linecolor": "white",
           "ticks": "",
           "title": {
            "standoff": 15
           },
           "zerolinecolor": "white",
           "zerolinewidth": 2
          },
          "yaxis": {
           "automargin": true,
           "gridcolor": "white",
           "linecolor": "white",
           "ticks": "",
           "title": {
            "standoff": 15
           },
           "zerolinecolor": "white",
           "zerolinewidth": 2
          }
         }
        },
        "width": 800
       }
      }
     },
     "metadata": {},
     "output_type": "display_data"
    }
   ],
   "source": [
    "design = ocproblem._make_design(res.X[row])\n",
    "wire_ant_visualize(design,(-22,22),(-22,22),(0,45))"
   ]
  },
  {
   "cell_type": "markdown",
   "metadata": {},
   "source": [
    "\n",
    "Result:  Overall element length 21.9m, cage section 8.6m\n",
    "\n",
    "If you're running this notebook locally the viewer in the previous cell will allow you to rotate, zoom, etc.\n",
    "Here's a static image if you're viewing on github:\n",
    "\n",
    "![Graph](img/Cage_051.png)"
   ]
  },
  {
   "cell_type": "code",
   "execution_count": 13,
   "metadata": {},
   "outputs": [
    {
     "data": {
      "image/png": "[encoded data removed]",
      "text/plain": [
       "<Figure size 500x500 with 1 Axes>"
      ]
     },
     "metadata": {},
     "output_type": "display_data"
    }
   ],
   "source": [
    "\n",
    "#\n",
    "# Relationship between cage fraction and overall length seems a little funny, no?\n",
    "# Something to do with current distribution along element, I guess?\n",
    "#\n",
    "fig, ax = plt.subplots(figsize=(5, 5))\n",
    "pts = ax.scatter(df['Cage fraction'], df['Overall len (m)'])\n",
    "\n",
    "ax.set_xlabel('Cage fraction')\n",
    "ax.set_ylabel('Overall len (m)')\n",
    "plt.show()\n"
   ]
  },
  {
   "cell_type": "code",
   "execution_count": 25,
   "metadata": {},
   "outputs": [
    {
     "data": {
      "image/png": "[encoded data removed]",
      "text/plain": [
       "<Figure size 500x270 with 1 Axes>"
      ]
     },
     "metadata": {},
     "output_type": "display_data"
    }
   ],
   "source": [
    "\n",
    "#\n",
    "# Do a sanity check by hand-coding an NEC5 deck for the preferred solution (max vswr = 1.60)\n",
    "#  using substantially more NEC segments and a finer-grain VSWR plot...\n",
    "#\n",
    "\n",
    "# Overall len (m)     21.885976\n",
    "# Cage fraction        0.392940     --> 8.6m\n",
    "# Max VSWR             1.599236\n",
    "# A (deg)            176.000000     --> 39.084m @ 3.75 MHz (VF not considered)\n",
    "# B (deg)             91.000000     --> 20.21m\n",
    "\n",
    "necstr_tl = \"\"\"CE Dipole\n",
    "GW 1 1 0 0 30 0 0.5 30 0.000814\n",
    "GW 2 1 0 0.5 30 -0.5 0.7 30 0.000814\n",
    "GW 3 1 0 0.5 30 0.5 0.7 30 0.000814\n",
    "GW 4 20 -0.5 0.7 30 -0.5 8.9 30 0.000814\n",
    "GW 5 20 0.5 0.7 30 0.5 8.9 30 0.000814\n",
    "GW 6 1 -0.5 8.9 30 0 9.1 30 0.000814\n",
    "GW 7 1 0.5 8.9 30 0 9.1 30 0.000814\n",
    "GW 8 20 0 9.1 30 0 21.89 30 0.000814\n",
    "GW 20 1 0 0 2 0 0.001 2 0.001\n",
    "GW 30 1 0 0 1 0 0.001 1 0.001\n",
    "GX 100 010\n",
    "GE 1 0\n",
    "GD 0 0 0 0 13 0.005 0 0\n",
    "TL 1 -1 20 -1 50 39.084 0 0 0 0\n",
    "TL 20 -1 30 -1 75 20.21 0 0 0 0\n",
    "EX 4 30 1 1 1.0 0.0\n",
    "FR 0 {fnum} 0 0 {flow} {fstep}\n",
    "XQ 0\n",
    "EN\n",
    "\"\"\"\n",
    "\n",
    "from necutil import plot_vswr,find_vswr_bw\n",
    "res = nec5_sim_stdio3([necstr_tl.format(fnum=101, flow=3.5, fstep=0.005)])\n",
    "zs = res[0][0][0]         # freqs, zs\n",
    "plot_vswr([zs], tags=[''])\n",
    "\n",
    "#\n",
    "# -->  Confirms the earlier result...increasing segments caused a slight downward frequency shift...\n",
    "#\n"
   ]
  },
  {
   "cell_type": "code",
   "execution_count": 26,
   "metadata": {},
   "outputs": [
    {
     "name": "stdout",
     "output_type": "stream",
     "text": [
      "Bandwidth for VSWR <= 2.0 (MHz): 0.621\n"
     ]
    }
   ],
   "source": [
    "\n",
    "\n",
    "bw = find_vswr_bw(necstr_tl, 2.0, 3.0, 4.5, fnum=11, tol=0.001)\n",
    "print(f'Bandwidth for VSWR <= 2.0 (MHz): {bw:.3f}')\n"
   ]
  },
  {
   "cell_type": "code",
   "execution_count": null,
   "metadata": {},
   "outputs": [],
   "source": []
  }
 ],
 "metadata": {
  "kernelspec": {
   "display_name": "may_2023",
   "language": "python",
   "name": "python3"
  },
  "language_info": {
   "codemirror_mode": {
    "name": "ipython",
    "version": 3
   },
   "file_extension": ".py",
   "mimetype": "text/x-python",
   "name": "python",
   "nbconvert_exporter": "python",
   "pygments_lexer": "ipython3",
   "version": "3.10.10"
  }
 },
 "nbformat": 4,
 "nbformat_minor": 2
}
