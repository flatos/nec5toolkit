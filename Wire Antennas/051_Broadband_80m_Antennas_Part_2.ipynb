{
 "cells": [
  {
   "cell_type": "code",
   "execution_count": null,
   "metadata": {},
   "outputs": [],
   "source": [
    "# coding=utf-8\n",
    "# Copyright 2023 Frank Latos AC8P\n",
    "#\n",
    "# Licensed under the Apache License, Version 2.0 (the \"License\");\n",
    "# you may not use this file except in compliance with the License.\n",
    "# You may obtain a copy of the License at\n",
    "#\n",
    "#     http://www.apache.org/licenses/LICENSE-2.0\n",
    "#\n",
    "# Unless required by applicable law or agreed to in writing, software\n",
    "# distributed under the License is distributed on an \"AS IS\" BASIS,\n",
    "# WITHOUT WARRANTIES OR CONDITIONS OF ANY KIND, either express or implied.\n",
    "# See the License for the specific language governing permissions and\n",
    "# limitations under the License.\n",
    "\n",
    "#\n",
    "# Much appreciation to the Pymoo project for providing the optimization framework used herein:\n",
    "#\n",
    "# pymoo: Multi-objective Optimization in Python\n",
    "# https://github.com/anyoptimization/pymoo\n",
    "# https://pymoo.org/index.html\n",
    "#\n"
   ]
  },
  {
   "cell_type": "markdown",
   "metadata": {},
   "source": [
    "\n",
    "# Broadband 80 Meter Antenna Ideas (Continued)\n",
    "\n",
    "In the previous notebook we got surprisingly close to achieving coverage of the entire 80m band with a simple dipole and a properly-selected matching network: the best example provided VSWR < 2.3 across the band.\n",
    "\n",
    "Earlier notebooks provide examples of designing cage dipoles to increase bandwidth, and in particular using a 'cage' for only a portion of the antenna's length (the remainder being a single wire) to effect a tradeoff between bandwidth and the amount of wire used.\n",
    "* 020_Intro_to_Optimization.ipynb\n",
    "* 030_Optimization_With_Constraints.ipynb\n",
    "\n",
    "Based on previous results I'm going to choose a 'cage' consisting of two wires (so really just a pair of parallel wires) as being the most wire-efficient design.\n",
    "\n",
    "The problem will be set up as a multi-objective optimization problem, which should provide us with a range of tradeoffs between our two objectives, **maximum VSWR within the band** and **total wire used**.\n",
    "\n",
    "Thanks to the folks at the Pymoo project (\"Python Multi-objective Optimization\") for the underlying optimization code.\n"
   ]
  },
  {
   "cell_type": "code",
   "execution_count": null,
   "metadata": {},
   "outputs": [],
   "source": []
  }
 ],
 "metadata": {
  "language_info": {
   "name": "python"
  }
 },
 "nbformat": 4,
 "nbformat_minor": 2
}
