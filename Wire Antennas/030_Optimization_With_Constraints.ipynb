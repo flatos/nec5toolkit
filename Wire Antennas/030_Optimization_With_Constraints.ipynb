{
 "cells": [
  {
   "cell_type": "code",
   "execution_count": 2,
   "metadata": {},
   "outputs": [],
   "source": [
    "# coding=utf-8\n",
    "# Copyright 2023 Frank Latos AC8P\n",
    "#\n",
    "# Licensed under the Apache License, Version 2.0 (the \"License\");\n",
    "# you may not use this file except in compliance with the License.\n",
    "# You may obtain a copy of the License at\n",
    "#\n",
    "#     http://www.apache.org/licenses/LICENSE-2.0\n",
    "#\n",
    "# Unless required by applicable law or agreed to in writing, software\n",
    "# distributed under the License is distributed on an \"AS IS\" BASIS,\n",
    "# WITHOUT WARRANTIES OR CONDITIONS OF ANY KIND, either express or implied.\n",
    "# See the License for the specific language governing permissions and\n",
    "# limitations under the License.\n",
    "\n",
    "#\n",
    "# Much appreciation to the Pymoo project for providing the optimization framework used herein:\n",
    "#\n",
    "# pymoo: Multi-objective Optimization in Python\n",
    "# https://github.com/anyoptimization/pymoo\n",
    "# https://pymoo.org/index.html\n",
    "#\n"
   ]
  },
  {
   "cell_type": "markdown",
   "metadata": {},
   "source": [
    "# Design Optimization with Constraints\n",
    "\n",
    "\n",
    "In the previous notebook we looked at various dipole variations, optimizing their design parameters to produce the lowest peak VSWR within our frequency range of interest.  In the final iteration (the \"cage vee\") we achieved a VSWR of less than 1.48 over the frequency range 3.5 - 3.7 MHz.\n",
    "The total length of wire used was 79.71 meters (that's just for the half-dipole element we modeled).\n",
    "\n",
    "Now we've become belatedly concerned with the cost of all that wire...\n",
    "\n",
    "A simple single-wire inverted vee achieved a VSWR of 2.33 or less over the same band. If we can live with a VSWR of 2.0 or less over the band, we should be able to produce a design that uses a cage element for part of its length and a single wire for the remainder.\n",
    "\n",
    "See below for our redefined Problem:  the objective we're minimizing is now total wire length, and \"maximum VSWR less than 2.0\" is now a constraint that a valid design must meet:\n"
   ]
  },
  {
   "cell_type": "code",
   "execution_count": 3,
   "metadata": {},
   "outputs": [],
   "source": [
    "\n",
    "import numpy as np\n",
    "from pymoo.core.problem import Problem\n",
    "from necutil import nec5_sim_stdio3, make_linear_element, gen_nec5_str, plot_vswr_2\n",
    "from necutil import wire_ant_visualize, rot_x, translate, make_cage_element, total_wire_len\n",
    "\n",
    "#\n",
    "# A new version of our base class that introduces constraints\n",
    "#\n",
    "class DipoleConstrainedSingleOptProblem(Problem):\n",
    "    \n",
    "    # Added 'n_ieq_constr' parameter: number of inequality constraints\n",
    "    def __init__(self, n_var, n_ieq_constr, segs_per_m, radius, f_min, f_max, z, f_num=9, **kwargs):\n",
    "        super().__init__(n_var=n_var,\n",
    "                         n_obj=1,\n",
    "                         n_ieq_constr=n_ieq_constr,\n",
    "                         **kwargs)\n",
    "\n",
    "\n",
    "        self.f_min = f_min              # Frequency band of interest: min, max, # of points\n",
    "        self.f_max = f_max\n",
    "        self.f_num = f_num        \n",
    "        self.freqs = np.linspace(f_min, f_max, num=f_num)       # Freqs of interest as an array\n",
    "        self.f_center = np.mean([f_min,f_max])                  # Center freq\n",
    "        self.z0 = 50                    # TL impedance\n",
    "        self.z = z                      # z dimension (height of antenna)\n",
    "        self.segs_per_m = segs_per_m    # NEC secgents per meter \n",
    "        self.radius = radius            # Wire radius (m)\n",
    "        \n",
    "        # NEC5 design deck template\n",
    "        # GX: mirror across xz plane\n",
    "        # EX: feedpoint specified as tag=1, segment=1, near end (1)\n",
    "        # GD: Some typical MININEC ground parameters\n",
    "        self.necpre = 'CE Dipole\\n'             # Obligatory comment line\n",
    "        self.necpost = f\"\"\"GX 100 010\n",
    "GE 1 0\n",
    "GD 0 0 0 0 13 0.005 0 0\n",
    "EX 4 1 1 1 1.0 0.0\n",
    "FR 0 {f_num} 0 0 {f_min} {(f_max-f_min)/(f_num-1)}\n",
    "XQ 0\n",
    "EN\n",
    "\"\"\"\n",
    " \n",
    "    def _make_nec5_design(self, design):\n",
    "        nec_str = gen_nec5_str(design, self.segs_per_m, self.radius)        # Convert to a string of NEC cards\n",
    "        return self.necpre + nec_str + self.necpost                         # Return as complete NEC deck\n",
    "\n",
    "\n",
    "    # Evaluate the designs in X, an array of shape (population_size, number_of_variables)\n",
    "    def _evaluate(self, X, out, *args, **kwargs):\n",
    "\n",
    "        designs = [self._make_design(x) for x in X]                 # Make antenna designs based on params in X\n",
    "        necdecks = [self._make_nec5_design(d) for d in designs]     # Convert to NEC decks (strings)\n",
    "\n",
    "        res = nec5_sim_stdio3(necdecks, timelimit=10000.0)          # Run the simulations\n",
    "\n",
    "        # Extracts feedpoint complex z for each design --> complex array of shape (#designs, #freqs)\n",
    "        zs = np.array([[freq[1] for freq in des[0][0]] for des in res])\n",
    "\n",
    "        # Each row in 'vswr_curves' is the vswr curve across the band for one of the designs\n",
    "        abs_refl_coef = np.abs((zs - self.z0) / (zs + self.z0))         # Reflection coefs\n",
    "        vswr_curves = (1 + abs_refl_coef) / (1 - abs_refl_coef)         # Vswr\n",
    "        max_vswr = np.max(vswr_curves, axis=1)[:,None]                  # Max vswr within band for each design (as column vector)\n",
    "\n",
    "        # Provide _compute_objective() to calculate single objective to be minimize\n",
    "        out[\"F\"] = self._compute_objective(X, designs, zs, vswr_curves, max_vswr)\n",
    "\n",
    "        # Provide _compute_constraints() to calculate one or more constraints (must be < 0 to meet constraint)\n",
    "        out[\"G\"] = self._compute_constraints(X, designs, zs, vswr_curves, max_vswr)\n",
    "\n",
    "        # You can also attach other data to the population of designs\n",
    "        # We'll save the vswr curves for each\n",
    "        out[\"VSWR\"] = vswr_curves\n",
    "\n",
    "\n",
    "\n"
   ]
  },
  {
   "cell_type": "code",
   "execution_count": 5,
   "metadata": {},
   "outputs": [
    {
     "name": "stdout",
     "output_type": "stream",
     "text": [
      "=================================================================================\n",
      "n_gen  |  n_eval  |     cv_min    |     cv_avg    |     f_avg     |     f_min    \n",
      "=================================================================================\n",
      "     1 |      200 |  0.000000E+00 |  4.1918151037 |  7.273057E+01 |  5.958577E+01\n",
      "     2 |      300 |  0.000000E+00 |  1.2487094412 |  7.116102E+01 |  5.925496E+01\n",
      "     3 |      400 |  0.000000E+00 |  0.5322960071 |  7.096532E+01 |  5.829460E+01\n",
      "     4 |      500 |  0.000000E+00 |  0.2021414157 |  7.141774E+01 |  5.829460E+01\n",
      "     5 |      600 |  0.000000E+00 |  0.0684365360 |  7.105555E+01 |  5.829460E+01\n",
      "     6 |      700 |  0.000000E+00 |  0.0090404983 |  7.071129E+01 |  5.829460E+01\n",
      "     7 |      800 |  0.000000E+00 |  0.000000E+00 |  6.973708E+01 |  5.786503E+01\n",
      "     8 |      900 |  0.000000E+00 |  0.000000E+00 |  6.752252E+01 |  5.714669E+01\n",
      "     9 |     1000 |  0.000000E+00 |  0.000000E+00 |  6.554091E+01 |  5.714669E+01\n",
      "    10 |     1100 |  0.000000E+00 |  0.000000E+00 |  6.432488E+01 |  5.687871E+01\n",
      "    11 |     1200 |  0.000000E+00 |  0.000000E+00 |  6.305426E+01 |  5.687871E+01\n",
      "    12 |     1300 |  0.000000E+00 |  0.000000E+00 |  6.207119E+01 |  5.685611E+01\n",
      "    13 |     1400 |  0.000000E+00 |  0.000000E+00 |  6.087992E+01 |  5.373631E+01\n",
      "    14 |     1500 |  0.000000E+00 |  0.000000E+00 |  6.003929E+01 |  5.373631E+01\n",
      "    15 |     1600 |  0.000000E+00 |  0.000000E+00 |  5.925570E+01 |  5.373631E+01\n",
      "    16 |     1700 |  0.000000E+00 |  0.000000E+00 |  5.837371E+01 |  5.328894E+01\n",
      "    17 |     1800 |  0.000000E+00 |  0.000000E+00 |  5.791496E+01 |  5.328894E+01\n",
      "    18 |     1900 |  0.000000E+00 |  0.000000E+00 |  5.746029E+01 |  5.328894E+01\n",
      "    19 |     2000 |  0.000000E+00 |  0.000000E+00 |  5.702490E+01 |  5.308143E+01\n",
      "    20 |     2100 |  0.000000E+00 |  0.000000E+00 |  5.660018E+01 |  5.308143E+01\n",
      "    21 |     2200 |  0.000000E+00 |  0.000000E+00 |  5.619556E+01 |  5.308143E+01\n",
      "    22 |     2300 |  0.000000E+00 |  0.000000E+00 |  5.583671E+01 |  5.305602E+01\n",
      "    23 |     2400 |  0.000000E+00 |  0.000000E+00 |  5.544383E+01 |  5.213668E+01\n",
      "    24 |     2500 |  0.000000E+00 |  0.000000E+00 |  5.495673E+01 |  5.213072E+01\n",
      "    25 |     2600 |  0.000000E+00 |  0.000000E+00 |  5.452661E+01 |  5.190428E+01\n",
      "    26 |     2700 |  0.000000E+00 |  0.000000E+00 |  5.411072E+01 |  5.190428E+01\n",
      "    27 |     2800 |  0.000000E+00 |  0.000000E+00 |  5.379466E+01 |  5.111347E+01\n",
      "    28 |     2900 |  0.000000E+00 |  0.000000E+00 |  5.359608E+01 |  5.111347E+01\n",
      "    29 |     3000 |  0.000000E+00 |  0.000000E+00 |  5.338453E+01 |  4.929002E+01\n",
      "    30 |     3100 |  0.000000E+00 |  0.000000E+00 |  5.317109E+01 |  4.929002E+01\n",
      "    31 |     3200 |  0.000000E+00 |  0.000000E+00 |  5.301785E+01 |  4.929002E+01\n",
      "    32 |     3300 |  0.000000E+00 |  0.000000E+00 |  5.288250E+01 |  4.929002E+01\n",
      "    33 |     3400 |  0.000000E+00 |  0.000000E+00 |  5.272550E+01 |  4.929002E+01\n",
      "    34 |     3500 |  0.000000E+00 |  0.000000E+00 |  5.256739E+01 |  4.929002E+01\n",
      "    35 |     3600 |  0.000000E+00 |  0.000000E+00 |  5.240540E+01 |  4.929002E+01\n",
      "    36 |     3700 |  0.000000E+00 |  0.000000E+00 |  5.219313E+01 |  4.929002E+01\n",
      "    37 |     3800 |  0.000000E+00 |  0.000000E+00 |  5.197424E+01 |  4.929002E+01\n",
      "    38 |     3900 |  0.000000E+00 |  0.000000E+00 |  5.178860E+01 |  4.929002E+01\n",
      "    39 |     4000 |  0.000000E+00 |  0.000000E+00 |  5.166751E+01 |  4.929002E+01\n",
      "    40 |     4100 |  0.000000E+00 |  0.000000E+00 |  5.152564E+01 |  4.929002E+01\n",
      "    41 |     4200 |  0.000000E+00 |  0.000000E+00 |  5.133349E+01 |  4.929002E+01\n",
      "    42 |     4300 |  0.000000E+00 |  0.000000E+00 |  5.112543E+01 |  4.926653E+01\n",
      "    43 |     4400 |  0.000000E+00 |  0.000000E+00 |  5.085287E+01 |  4.922577E+01\n",
      "    44 |     4500 |  0.000000E+00 |  0.000000E+00 |  5.048792E+01 |  4.919148E+01\n",
      "    45 |     4600 |  0.000000E+00 |  0.000000E+00 |  5.009408E+01 |  4.919148E+01\n",
      "    46 |     4700 |  0.000000E+00 |  0.000000E+00 |  4.969652E+01 |  4.909306E+01\n",
      "    47 |     4800 |  0.000000E+00 |  0.000000E+00 |  4.936233E+01 |  4.909043E+01\n",
      "    48 |     4900 |  0.000000E+00 |  0.000000E+00 |  4.930612E+01 |  4.647894E+01\n",
      "    49 |     5000 |  0.000000E+00 |  0.000000E+00 |  4.927437E+01 |  4.647894E+01\n",
      "    50 |     5100 |  0.000000E+00 |  0.000000E+00 |  4.923673E+01 |  4.644306E+01\n",
      "Optimum length 24.0m, angle -43.2deg, cage fraction 0.27, wire length 46.44\n"
     ]
    },
    {
     "data": {
      "application/vnd.plotly.v1+json": {
       "config": {
        "plotlyServerURL": "https://plot.ly"
       },
       "data": [
        {
         "cmax": 1,
         "cmin": 0,
         "colorscale": [
          [
           0,
           "rgb(247,252,245)"
          ],
          [
           0.125,
           "rgb(229,245,224)"
          ],
          [
           0.25,
           "rgb(199,233,192)"
          ],
          [
           0.375,
           "rgb(161,217,155)"
          ],
          [
           0.5,
           "rgb(116,196,118)"
          ],
          [
           0.625,
           "rgb(65,171,93)"
          ],
          [
           0.75,
           "rgb(35,139,69)"
          ],
          [
           0.875,
           "rgb(0,109,44)"
          ],
          [
           1,
           "rgb(0,68,27)"
          ]
         ],
         "showscale": false,
         "surfacecolor": [
          [
           0.69,
           0.69
          ],
          [
           0.69,
           0.69
          ]
         ],
         "type": "surface",
         "x": [
          -22,
          22
         ],
         "y": [
          -22,
          22
         ],
         "z": [
          [
           0,
           0
          ],
          [
           0,
           0
          ]
         ]
        },
        {
         "color": "lightpink",
         "hoverinfo": "skip",
         "i": [
          0,
          0
         ],
         "j": [
          1,
          2
         ],
         "k": [
          2,
          3
         ],
         "opacity": 0.1,
         "type": "mesh3d",
         "x": [
          -22,
          -22,
          22,
          22
         ],
         "y": [
          0,
          0,
          0,
          0
         ],
         "z": [
          0,
          45,
          45,
          0
         ]
        },
        {
         "line": {
          "color": "darkblue",
          "width": 2
         },
         "marker": {
          "color": "red",
          "size": 2
         },
         "name": "",
         "showlegend": false,
         "type": "scatter3d",
         "x": [
          0,
          0
         ],
         "y": [
          0,
          0.3643170135186684
         ],
         "z": [
          40,
          39.65754837763439
         ]
        },
        {
         "line": {
          "color": "darkblue",
          "width": 2
         },
         "marker": {
          "color": "red",
          "size": 2
         },
         "name": "",
         "showlegend": false,
         "type": "scatter3d",
         "x": [
          0,
          0,
          0,
          0
         ],
         "y": [
          0.3643170135186684,
          0.8524954412917457,
          5.35954709156406,
          5.162822274605918
         ],
         "z": [
          39.65754837763439,
          39.884884742206815,
          35.64833499995256,
          35.147037337487646
         ]
        },
        {
         "line": {
          "color": "darkblue",
          "width": 2
         },
         "marker": {
          "color": "red",
          "size": 2
         },
         "name": "",
         "showlegend": false,
         "type": "scatter3d",
         "x": [
          0,
          0.5,
          0.5,
          0
         ],
         "y": [
          0.3643170135186684,
          0.5100438189261357,
          5.01709546919845,
          5.162822274605918
         ],
         "z": [
          39.65754837763439,
          39.52056772868815,
          35.284017986433895,
          35.147037337487646
         ]
        },
        {
         "line": {
          "color": "darkblue",
          "width": 2
         },
         "marker": {
          "color": "red",
          "size": 2
         },
         "name": "",
         "showlegend": false,
         "type": "scatter3d",
         "x": [
          0,
          6.123233995736766e-17,
          6.123233995736766e-17,
          0
         ],
         "y": [
          0.3643170135186684,
          0.1675921965605257,
          4.67464384683284,
          5.162822274605918
         ],
         "z": [
          39.65754837763439,
          39.15625071516948,
          34.91970097291522,
          35.147037337487646
         ]
        },
        {
         "line": {
          "color": "darkblue",
          "width": 2
         },
         "marker": {
          "color": "red",
          "size": 2
         },
         "name": "",
         "showlegend": false,
         "type": "scatter3d",
         "x": [
          0,
          -0.5,
          -0.5,
          0
         ],
         "y": [
          0.3643170135186684,
          0.5100438189261356,
          5.01709546919845,
          5.162822274605918
         ],
         "z": [
          39.65754837763439,
          39.52056772868814,
          35.284017986433895,
          35.147037337487646
         ]
        },
        {
         "line": {
          "color": "darkblue",
          "width": 2
         },
         "marker": {
          "color": "red",
          "size": 2
         },
         "name": "",
         "showlegend": false,
         "type": "scatter3d",
         "x": [
          0,
          0
         ],
         "y": [
          5.162822274605918,
          17.471243945952246
         ],
         "z": [
          35.147037337487646,
          23.577336187923862
         ]
        },
        {
         "line": {
          "color": "darkblue",
          "width": 2
         },
         "marker": {
          "color": "red",
          "size": 2
         },
         "name": "",
         "showlegend": false,
         "type": "scatter3d",
         "x": [
          0,
          0
         ],
         "y": [
          0,
          -0.3643170135186684
         ],
         "z": [
          40,
          39.65754837763439
         ]
        },
        {
         "line": {
          "color": "darkblue",
          "width": 2
         },
         "marker": {
          "color": "red",
          "size": 2
         },
         "name": "",
         "showlegend": false,
         "type": "scatter3d",
         "x": [
          0,
          0,
          0,
          0
         ],
         "y": [
          -0.3643170135186684,
          -0.8524954412917457,
          -5.35954709156406,
          -5.162822274605918
         ],
         "z": [
          39.65754837763439,
          39.884884742206815,
          35.64833499995256,
          35.147037337487646
         ]
        },
        {
         "line": {
          "color": "darkblue",
          "width": 2
         },
         "marker": {
          "color": "red",
          "size": 2
         },
         "name": "",
         "showlegend": false,
         "type": "scatter3d",
         "x": [
          0,
          -0.5,
          -0.5,
          0
         ],
         "y": [
          -0.3643170135186684,
          -0.5100438189261357,
          -5.01709546919845,
          -5.162822274605918
         ],
         "z": [
          39.65754837763439,
          39.52056772868815,
          35.284017986433895,
          35.147037337487646
         ]
        },
        {
         "line": {
          "color": "darkblue",
          "width": 2
         },
         "marker": {
          "color": "red",
          "size": 2
         },
         "name": "",
         "showlegend": false,
         "type": "scatter3d",
         "x": [
          0,
          -6.123233995736766e-17,
          -6.123233995736766e-17,
          0
         ],
         "y": [
          -0.3643170135186684,
          -0.1675921965605257,
          -4.67464384683284,
          -5.162822274605918
         ],
         "z": [
          39.65754837763439,
          39.15625071516948,
          34.91970097291522,
          35.147037337487646
         ]
        },
        {
         "line": {
          "color": "darkblue",
          "width": 2
         },
         "marker": {
          "color": "red",
          "size": 2
         },
         "name": "",
         "showlegend": false,
         "type": "scatter3d",
         "x": [
          0,
          0.5,
          0.5,
          0
         ],
         "y": [
          -0.3643170135186684,
          -0.5100438189261356,
          -5.01709546919845,
          -5.162822274605918
         ],
         "z": [
          39.65754837763439,
          39.52056772868814,
          35.284017986433895,
          35.147037337487646
         ]
        },
        {
         "line": {
          "color": "darkblue",
          "width": 2
         },
         "marker": {
          "color": "red",
          "size": 2
         },
         "name": "",
         "showlegend": false,
         "type": "scatter3d",
         "x": [
          0,
          0
         ],
         "y": [
          -5.162822274605918,
          -17.471243945952246
         ],
         "z": [
          35.147037337487646,
          23.577336187923862
         ]
        }
       ],
       "layout": {
        "autosize": false,
        "height": 700,
        "scene": {
         "aspectmode": "manual",
         "aspectratio": {
          "x": 1,
          "y": 1,
          "z": 1
         },
         "camera": {
          "eye": {
           "x": 1,
           "y": 0.3,
           "z": 0.3
          },
          "up": {
           "x": 0,
           "y": 0,
           "z": 1
          }
         },
         "xaxis": {
          "range": [
           -22,
           22
          ],
          "showbackground": false
         },
         "yaxis": {
          "range": [
           -22,
           22
          ],
          "showbackground": false
         },
         "zaxis": {
          "range": [
           0,
           45
          ],
          "showbackground": false
         }
        },
        "template": {
         "data": {
          "bar": [
           {
            "error_x": {
             "color": "#2a3f5f"
            },
            "error_y": {
             "color": "#2a3f5f"
            },
            "marker": {
             "line": {
              "color": "#E5ECF6",
              "width": 0.5
             },
             "pattern": {
              "fillmode": "overlay",
              "size": 10,
              "solidity": 0.2
             }
            },
            "type": "bar"
           }
          ],
          "barpolar": [
           {
            "marker": {
             "line": {
              "color": "#E5ECF6",
              "width": 0.5
             },
             "pattern": {
              "fillmode": "overlay",
              "size": 10,
              "solidity": 0.2
             }
            },
            "type": "barpolar"
           }
          ],
          "carpet": [
           {
            "aaxis": {
             "endlinecolor": "#2a3f5f",
             "gridcolor": "white",
             "linecolor": "white",
             "minorgridcolor": "white",
             "startlinecolor": "#2a3f5f"
            },
            "baxis": {
             "endlinecolor": "#2a3f5f",
             "gridcolor": "white",
             "linecolor": "white",
             "minorgridcolor": "white",
             "startlinecolor": "#2a3f5f"
            },
            "type": "carpet"
           }
          ],
          "choropleth": [
           {
            "colorbar": {
             "outlinewidth": 0,
             "ticks": ""
            },
            "type": "choropleth"
           }
          ],
          "contour": [
           {
            "colorbar": {
             "outlinewidth": 0,
             "ticks": ""
            },
            "colorscale": [
             [
              0,
              "#0d0887"
             ],
             [
              0.1111111111111111,
              "#46039f"
             ],
             [
              0.2222222222222222,
              "#7201a8"
             ],
             [
              0.3333333333333333,
              "#9c179e"
             ],
             [
              0.4444444444444444,
              "#bd3786"
             ],
             [
              0.5555555555555556,
              "#d8576b"
             ],
             [
              0.6666666666666666,
              "#ed7953"
             ],
             [
              0.7777777777777778,
              "#fb9f3a"
             ],
             [
              0.8888888888888888,
              "#fdca26"
             ],
             [
              1,
              "#f0f921"
             ]
            ],
            "type": "contour"
           }
          ],
          "contourcarpet": [
           {
            "colorbar": {
             "outlinewidth": 0,
             "ticks": ""
            },
            "type": "contourcarpet"
           }
          ],
          "heatmap": [
           {
            "colorbar": {
             "outlinewidth": 0,
             "ticks": ""
            },
            "colorscale": [
             [
              0,
              "#0d0887"
             ],
             [
              0.1111111111111111,
              "#46039f"
             ],
             [
              0.2222222222222222,
              "#7201a8"
             ],
             [
              0.3333333333333333,
              "#9c179e"
             ],
             [
              0.4444444444444444,
              "#bd3786"
             ],
             [
              0.5555555555555556,
              "#d8576b"
             ],
             [
              0.6666666666666666,
              "#ed7953"
             ],
             [
              0.7777777777777778,
              "#fb9f3a"
             ],
             [
              0.8888888888888888,
              "#fdca26"
             ],
             [
              1,
              "#f0f921"
             ]
            ],
            "type": "heatmap"
           }
          ],
          "heatmapgl": [
           {
            "colorbar": {
             "outlinewidth": 0,
             "ticks": ""
            },
            "colorscale": [
             [
              0,
              "#0d0887"
             ],
             [
              0.1111111111111111,
              "#46039f"
             ],
             [
              0.2222222222222222,
              "#7201a8"
             ],
             [
              0.3333333333333333,
              "#9c179e"
             ],
             [
              0.4444444444444444,
              "#bd3786"
             ],
             [
              0.5555555555555556,
              "#d8576b"
             ],
             [
              0.6666666666666666,
              "#ed7953"
             ],
             [
              0.7777777777777778,
              "#fb9f3a"
             ],
             [
              0.8888888888888888,
              "#fdca26"
             ],
             [
              1,
              "#f0f921"
             ]
            ],
            "type": "heatmapgl"
           }
          ],
          "histogram": [
           {
            "marker": {
             "pattern": {
              "fillmode": "overlay",
              "size": 10,
              "solidity": 0.2
             }
            },
            "type": "histogram"
           }
          ],
          "histogram2d": [
           {
            "colorbar": {
             "outlinewidth": 0,
             "ticks": ""
            },
            "colorscale": [
             [
              0,
              "#0d0887"
             ],
             [
              0.1111111111111111,
              "#46039f"
             ],
             [
              0.2222222222222222,
              "#7201a8"
             ],
             [
              0.3333333333333333,
              "#9c179e"
             ],
             [
              0.4444444444444444,
              "#bd3786"
             ],
             [
              0.5555555555555556,
              "#d8576b"
             ],
             [
              0.6666666666666666,
              "#ed7953"
             ],
             [
              0.7777777777777778,
              "#fb9f3a"
             ],
             [
              0.8888888888888888,
              "#fdca26"
             ],
             [
              1,
              "#f0f921"
             ]
            ],
            "type": "histogram2d"
           }
          ],
          "histogram2dcontour": [
           {
            "colorbar": {
             "outlinewidth": 0,
             "ticks": ""
            },
            "colorscale": [
             [
              0,
              "#0d0887"
             ],
             [
              0.1111111111111111,
              "#46039f"
             ],
             [
              0.2222222222222222,
              "#7201a8"
             ],
             [
              0.3333333333333333,
              "#9c179e"
             ],
             [
              0.4444444444444444,
              "#bd3786"
             ],
             [
              0.5555555555555556,
              "#d8576b"
             ],
             [
              0.6666666666666666,
              "#ed7953"
             ],
             [
              0.7777777777777778,
              "#fb9f3a"
             ],
             [
              0.8888888888888888,
              "#fdca26"
             ],
             [
              1,
              "#f0f921"
             ]
            ],
            "type": "histogram2dcontour"
           }
          ],
          "mesh3d": [
           {
            "colorbar": {
             "outlinewidth": 0,
             "ticks": ""
            },
            "type": "mesh3d"
           }
          ],
          "parcoords": [
           {
            "line": {
             "colorbar": {
              "outlinewidth": 0,
              "ticks": ""
             }
            },
            "type": "parcoords"
           }
          ],
          "pie": [
           {
            "automargin": true,
            "type": "pie"
           }
          ],
          "scatter": [
           {
            "fillpattern": {
             "fillmode": "overlay",
             "size": 10,
             "solidity": 0.2
            },
            "type": "scatter"
           }
          ],
          "scatter3d": [
           {
            "line": {
             "colorbar": {
              "outlinewidth": 0,
              "ticks": ""
             }
            },
            "marker": {
             "colorbar": {
              "outlinewidth": 0,
              "ticks": ""
             }
            },
            "type": "scatter3d"
           }
          ],
          "scattercarpet": [
           {
            "marker": {
             "colorbar": {
              "outlinewidth": 0,
              "ticks": ""
             }
            },
            "type": "scattercarpet"
           }
          ],
          "scattergeo": [
           {
            "marker": {
             "colorbar": {
              "outlinewidth": 0,
              "ticks": ""
             }
            },
            "type": "scattergeo"
           }
          ],
          "scattergl": [
           {
            "marker": {
             "colorbar": {
              "outlinewidth": 0,
              "ticks": ""
             }
            },
            "type": "scattergl"
           }
          ],
          "scattermapbox": [
           {
            "marker": {
             "colorbar": {
              "outlinewidth": 0,
              "ticks": ""
             }
            },
            "type": "scattermapbox"
           }
          ],
          "scatterpolar": [
           {
            "marker": {
             "colorbar": {
              "outlinewidth": 0,
              "ticks": ""
             }
            },
            "type": "scatterpolar"
           }
          ],
          "scatterpolargl": [
           {
            "marker": {
             "colorbar": {
              "outlinewidth": 0,
              "ticks": ""
             }
            },
            "type": "scatterpolargl"
           }
          ],
          "scatterternary": [
           {
            "marker": {
             "colorbar": {
              "outlinewidth": 0,
              "ticks": ""
             }
            },
            "type": "scatterternary"
           }
          ],
          "surface": [
           {
            "colorbar": {
             "outlinewidth": 0,
             "ticks": ""
            },
            "colorscale": [
             [
              0,
              "#0d0887"
             ],
             [
              0.1111111111111111,
              "#46039f"
             ],
             [
              0.2222222222222222,
              "#7201a8"
             ],
             [
              0.3333333333333333,
              "#9c179e"
             ],
             [
              0.4444444444444444,
              "#bd3786"
             ],
             [
              0.5555555555555556,
              "#d8576b"
             ],
             [
              0.6666666666666666,
              "#ed7953"
             ],
             [
              0.7777777777777778,
              "#fb9f3a"
             ],
             [
              0.8888888888888888,
              "#fdca26"
             ],
             [
              1,
              "#f0f921"
             ]
            ],
            "type": "surface"
           }
          ],
          "table": [
           {
            "cells": {
             "fill": {
              "color": "#EBF0F8"
             },
             "line": {
              "color": "white"
             }
            },
            "header": {
             "fill": {
              "color": "#C8D4E3"
             },
             "line": {
              "color": "white"
             }
            },
            "type": "table"
           }
          ]
         },
         "layout": {
          "annotationdefaults": {
           "arrowcolor": "#2a3f5f",
           "arrowhead": 0,
           "arrowwidth": 1
          },
          "autotypenumbers": "strict",
          "coloraxis": {
           "colorbar": {
            "outlinewidth": 0,
            "ticks": ""
           }
          },
          "colorscale": {
           "diverging": [
            [
             0,
             "#8e0152"
            ],
            [
             0.1,
             "#c51b7d"
            ],
            [
             0.2,
             "#de77ae"
            ],
            [
             0.3,
             "#f1b6da"
            ],
            [
             0.4,
             "#fde0ef"
            ],
            [
             0.5,
             "#f7f7f7"
            ],
            [
             0.6,
             "#e6f5d0"
            ],
            [
             0.7,
             "#b8e186"
            ],
            [
             0.8,
             "#7fbc41"
            ],
            [
             0.9,
             "#4d9221"
            ],
            [
             1,
             "#276419"
            ]
           ],
           "sequential": [
            [
             0,
             "#0d0887"
            ],
            [
             0.1111111111111111,
             "#46039f"
            ],
            [
             0.2222222222222222,
             "#7201a8"
            ],
            [
             0.3333333333333333,
             "#9c179e"
            ],
            [
             0.4444444444444444,
             "#bd3786"
            ],
            [
             0.5555555555555556,
             "#d8576b"
            ],
            [
             0.6666666666666666,
             "#ed7953"
            ],
            [
             0.7777777777777778,
             "#fb9f3a"
            ],
            [
             0.8888888888888888,
             "#fdca26"
            ],
            [
             1,
             "#f0f921"
            ]
           ],
           "sequentialminus": [
            [
             0,
             "#0d0887"
            ],
            [
             0.1111111111111111,
             "#46039f"
            ],
            [
             0.2222222222222222,
             "#7201a8"
            ],
            [
             0.3333333333333333,
             "#9c179e"
            ],
            [
             0.4444444444444444,
             "#bd3786"
            ],
            [
             0.5555555555555556,
             "#d8576b"
            ],
            [
             0.6666666666666666,
             "#ed7953"
            ],
            [
             0.7777777777777778,
             "#fb9f3a"
            ],
            [
             0.8888888888888888,
             "#fdca26"
            ],
            [
             1,
             "#f0f921"
            ]
           ]
          },
          "colorway": [
           "#636efa",
           "#EF553B",
           "#00cc96",
           "#ab63fa",
           "#FFA15A",
           "#19d3f3",
           "#FF6692",
           "#B6E880",
           "#FF97FF",
           "#FECB52"
          ],
          "font": {
           "color": "#2a3f5f"
          },
          "geo": {
           "bgcolor": "white",
           "lakecolor": "white",
           "landcolor": "#E5ECF6",
           "showlakes": true,
           "showland": true,
           "subunitcolor": "white"
          },
          "hoverlabel": {
           "align": "left"
          },
          "hovermode": "closest",
          "mapbox": {
           "style": "light"
          },
          "paper_bgcolor": "white",
          "plot_bgcolor": "#E5ECF6",
          "polar": {
           "angularaxis": {
            "gridcolor": "white",
            "linecolor": "white",
            "ticks": ""
           },
           "bgcolor": "#E5ECF6",
           "radialaxis": {
            "gridcolor": "white",
            "linecolor": "white",
            "ticks": ""
           }
          },
          "scene": {
           "xaxis": {
            "backgroundcolor": "#E5ECF6",
            "gridcolor": "white",
            "gridwidth": 2,
            "linecolor": "white",
            "showbackground": true,
            "ticks": "",
            "zerolinecolor": "white"
           },
           "yaxis": {
            "backgroundcolor": "#E5ECF6",
            "gridcolor": "white",
            "gridwidth": 2,
            "linecolor": "white",
            "showbackground": true,
            "ticks": "",
            "zerolinecolor": "white"
           },
           "zaxis": {
            "backgroundcolor": "#E5ECF6",
            "gridcolor": "white",
            "gridwidth": 2,
            "linecolor": "white",
            "showbackground": true,
            "ticks": "",
            "zerolinecolor": "white"
           }
          },
          "shapedefaults": {
           "line": {
            "color": "#2a3f5f"
           }
          },
          "ternary": {
           "aaxis": {
            "gridcolor": "white",
            "linecolor": "white",
            "ticks": ""
           },
           "baxis": {
            "gridcolor": "white",
            "linecolor": "white",
            "ticks": ""
           },
           "bgcolor": "#E5ECF6",
           "caxis": {
            "gridcolor": "white",
            "linecolor": "white",
            "ticks": ""
           }
          },
          "title": {
           "x": 0.05
          },
          "xaxis": {
           "automargin": true,
           "gridcolor": "white",
           "linecolor": "white",
           "ticks": "",
           "title": {
            "standoff": 15
           },
           "zerolinecolor": "white",
           "zerolinewidth": 2
          },
          "yaxis": {
           "automargin": true,
           "gridcolor": "white",
           "linecolor": "white",
           "ticks": "",
           "title": {
            "standoff": 15
           },
           "zerolinecolor": "white",
           "zerolinewidth": 2
          }
         }
        },
        "width": 800
       }
      }
     },
     "metadata": {},
     "output_type": "display_data"
    },
    {
     "data": {
      "image/png": "[encoded data removed]",
      "text/plain": [
       "<Figure size 500x270 with 1 Axes>"
      ]
     },
     "metadata": {},
     "output_type": "display_data"
    }
   ],
   "source": [
    "from pymoo.termination import get_termination\n",
    "from pymoo.optimize import minimize\n",
    "from pymoo.algorithms.soo.nonconvex.ga import GA\n",
    "\n",
    "\n",
    "#\n",
    "# As before, you need to write your own _make_design() method to implement your design's geometry\n",
    "#\n",
    "# Also moved computation of objective (minimize wire length) and constraint (VSWR < 2.0)\n",
    "#  into their own methods _compute_objective() and _compute_constraints()\n",
    "#\n",
    "AWG14RADIUS = 1.628/1000/2              # 1.628mm dia\n",
    "SEGS_PER_M = 10/20.0                    # NEC segments: around 10 for the half-element\n",
    "\n",
    "class MinWireCageVeeProblem(DipoleConstrainedSingleOptProblem):\n",
    "    \n",
    "    # Design params: \n",
    "    #   x[0]    overall length\n",
    "    #   x[1]    vee angle\n",
    "    #   x[2]    length of 'cage' portion as fraction of overall length\n",
    "    def _make_design(self, x):\n",
    "        half_el = make_linear_element((0,0,0),(0,0.5,0))\n",
    "        half_el.extend( make_cage_element(0.5, x[0]*x[2]+0.5, .2, .5, 4) )\n",
    "        half_el.extend( make_linear_element((0,x[0]*x[2]+0.5,0),(0,x[0],0)) )\n",
    "        half_el = rot_x(half_el, np.deg2rad(x[1]))\n",
    "        half_el = translate(half_el, (0,0,self.z))\n",
    "        return half_el\n",
    "\n",
    "    # Objective to minimize: total wire length\n",
    "    # Sum total wire length for each design, return as column vector\n",
    "    def _compute_objective(self, X, designs, zs, vswr_curves, max_vswr):\n",
    "        return np.array([ total_wire_len(design) for design in designs ])[:,None]\n",
    "        \n",
    "    # Constraint: max VSWR must be < 2.0 across freq range\n",
    "    #  (constraint val must be < 0)\n",
    "    def _compute_constraints(self, X, designs, zs, vswr_curves, max_vswr):\n",
    "        return (max_vswr - 2.0)\n",
    "\n",
    "\n",
    "mwcvproblem = MinWireCageVeeProblem(n_var=3, n_ieq_constr=1, f_min=3.5, f_max=3.7, z=40,\n",
    "                                segs_per_m=SEGS_PER_M, radius=AWG14RADIUS,\n",
    "                                xl=np.array([20.0, -45, 0.1]),\n",
    "                                xu=np.array([26.0, 0, 1.0]))\n",
    "termination = get_termination(\"n_gen\", 50)\n",
    "algorithm = GA(pop_size=200, n_offsprings=100)\n",
    "\n",
    "res = minimize(mwcvproblem, algorithm, termination, save_history=False, verbose=True)\n",
    "\n",
    "print(f'Optimum length {res.X[0]:.1f}m, angle {res.X[1]:.1f}deg, cage fraction {res.X[2]:.2f}, wire length {res.F[0]:.2f}')\n",
    "vswr_curve = res.pop.get('VSWR')[0]\n",
    "plot_vswr_2([zip(mwcvproblem.freqs, vswr_curve)], tags=['80m Cage Vee'])\n",
    "\n",
    "design = mwcvproblem._make_design(res.X)\n",
    "wire_ant_visualize(design,(-22,22),(-22,22),(0,45))"
   ]
  },
  {
   "cell_type": "markdown",
   "metadata": {},
   "source": [
    "\n",
    "Result:  total wire length 46.44m versus 79.71m for original design.\n",
    "![Graph](img/CageVee2_opt.png)"
   ]
  },
  {
   "cell_type": "code",
   "execution_count": null,
   "metadata": {},
   "outputs": [],
   "source": []
  }
 ],
 "metadata": {
  "kernelspec": {
   "display_name": "may_2023",
   "language": "python",
   "name": "python3"
  },
  "language_info": {
   "codemirror_mode": {
    "name": "ipython",
    "version": 3
   },
   "file_extension": ".py",
   "mimetype": "text/x-python",
   "name": "python",
   "nbconvert_exporter": "python",
   "pygments_lexer": "ipython3",
   "version": "3.10.10"
  }
 },
 "nbformat": 4,
 "nbformat_minor": 2
}
