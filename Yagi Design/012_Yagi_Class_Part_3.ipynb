{
 "cells": [
  {
   "cell_type": "code",
   "execution_count": null,
   "metadata": {},
   "outputs": [],
   "source": [
    "# coding=utf-8\n",
    "# Copyright 2023 Frank Latos AC8P\n",
    "#\n",
    "# Licensed under the Apache License, Version 2.0 (the \"License\");\n",
    "# you may not use this file except in compliance with the License.\n",
    "# You may obtain a copy of the License at\n",
    "#\n",
    "#     http://www.apache.org/licenses/LICENSE-2.0\n",
    "#\n",
    "# Unless required by applicable law or agreed to in writing, software\n",
    "# distributed under the License is distributed on an \"AS IS\" BASIS,\n",
    "# WITHOUT WARRANTIES OR CONDITIONS OF ANY KIND, either express or implied.\n",
    "# See the License for the specific language governing permissions and\n",
    "# limitations under the License.\n",
    "\n",
    "#\n",
    "# Much appreciation to the Pymoo project for providing the optimization framework used herein:\n",
    "#\n",
    "# pymoo: Multi-objective Optimization in Python\n",
    "# https://github.com/anyoptimization/pymoo\n",
    "# https://pymoo.org/index.html\n",
    "#\n"
   ]
  },
  {
   "cell_type": "markdown",
   "metadata": {},
   "source": [
    "# A Class for Representing Yagis and Other Antennas:<br>Part 3, Setting Properties\n",
    "\n",
    "You can define the geometry of your antenna by setting properties; here's a fuller discussion of the details.\n",
    "\n",
    "\n",
    "The ```SolidAntenna``` class that you base your design on already has some default properties set; these are global properties that affect the overall antenna and all of its elements. As of this writing they look someting like:\n",
    "```python\n",
    "self.properties = {'tubing_dia':in2m([3/4, 5/8, 1/2]), 'section_lens':in2m([24,18]), \n",
    "                    'color':['lightblue','lightsteelblue','lightgray','whitesmoke'], 'nsides':9,\n",
    "                    'boom':True, 'boomcolor':'steelblue', 'boomext':in2m(4), 'boomy':in2m(3), 'boomz':in2m(2),\n",
    "                    'rotate':[], 'translate':(0,0,0)}\n",
    "```\n",
    "You can add or modify these when you create a new object:\n",
    "```python\n",
    "my_antenna = SolidAntenna(properties={'translate':(0,0,20), 'display_mirror':True, 'seg_per_m':5}, n_elem=3)\n",
    "```\n",
    "or at any later time like this:\n",
    "```python\n",
    "my_antenna.properties={'translate':(0,0,20), 'display_mirror':True, 'seg_per_m':5}, n_elem=3)\n",
    "```\n",
    "\n",
    "\n"
   ]
  },
  {
   "cell_type": "code",
   "execution_count": null,
   "metadata": {},
   "outputs": [],
   "source": []
  }
 ],
 "metadata": {
  "language_info": {
   "name": "python"
  }
 },
 "nbformat": 4,
 "nbformat_minor": 2
}
