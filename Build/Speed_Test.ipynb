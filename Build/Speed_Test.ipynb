{
 "cells": [
  {
   "cell_type": "markdown",
   "metadata": {},
   "source": [
    "# Some Speed Comparisons \n",
    "\n",
    "The file [Compile_NEC5.ipynb](Compile_NEC5.ipynb) contains descriptions of building the NEC5 command-line executable using various compilers and math libraries:\n",
    "\n",
    "* nec5      Intel FORTRAN compiler, Intel Math Kernel Library (MKL)\n",
    "* nec5      Intel FORTRAN compiler, Intel Math Kernel Library (MKL)\n",
    "* nec5      Intel FORTRAN compiler, Intel Math Kernel Library (MKL)\n",
    "\n",
    "| Syntax | Description |\n",
    "| ----------- | ----------- |\n",
    "| Header | Title |\n",
    "| Paragraph | Text |"
   ]
  },
  {
   "cell_type": "code",
   "execution_count": null,
   "metadata": {},
   "outputs": [],
   "source": []
  }
 ],
 "metadata": {
  "language_info": {
   "name": "python"
  },
  "orig_nbformat": 4
 },
 "nbformat": 4,
 "nbformat_minor": 2
}
