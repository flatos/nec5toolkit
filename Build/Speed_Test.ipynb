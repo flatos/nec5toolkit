{
 "cells": [
  {
   "cell_type": "markdown",
   "metadata": {},
   "source": [
    "# Some Speed Comparisons \n",
    "\n",
    "The file [Compile_NEC5.ipynb](Compile_NEC5.ipynb) contains descriptions of building the NEC5 command-line executable using various compilers and math libraries:\n",
    "\n",
    "\n",
    "| Executable | Description |\n",
    "| ----------- | ----------- |\n",
    "| nec5 | Intel FORTRAN compiler, Intel Math Kernel Library (MKL) (link with shared libraries)|\n",
    "| nec5s | Intel FORTRAN compiler, Intel Math Kernel Library (MKL)  (link with static libraries)|\n",
    "| nec5amd | AMD Optimizing Fortran Compiler (AOCC), AMD Optimizing CPU Libraries (AOCL)  (link with shared libraries)|\n",
    "| nec5amds | AMD Optimizing Fortran Compiler (AOCC), AMD Optimizing CPU Libraries (AOCL)  (link with static libraries)|\n",
    "\n",
    "\n",
    "\n"
   ]
  },
  {
   "cell_type": "code",
   "execution_count": null,
   "metadata": {},
   "outputs": [],
   "source": []
  }
 ],
 "metadata": {
  "language_info": {
   "name": "python"
  },
  "orig_nbformat": 4
 },
 "nbformat": 4,
 "nbformat_minor": 2
}
