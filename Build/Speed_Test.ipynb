{
 "cells": [
  {
   "cell_type": "markdown",
   "metadata": {},
   "source": [
    "# Some Speed Comparisons \n",
    "\n",
    "The file [Compile_NEC5.ipynb](Compile_NEC5.ipynb) contains descriptions of building the NEC5 command-line executable using various compilers and math libraries:\n",
    "\n",
    "\n",
    "| Executable | Description |\n",
    "| ----------- | ----------- |\n",
    "| nec5 | Intel FORTRAN compiler, Intel Math Kernel Library (MKL) (link with shared libraries)|\n",
    "| nec5s | Intel FORTRAN compiler, Intel Math Kernel Library (MKL)  (link with static libraries)|\n",
    "| nec5amd | AMD Optimizing Fortran Compiler (AOCC), AMD Optimizing CPU Libraries (AOCL)  (link with shared libraries)|\n",
    "| nec5amds | AMD Optimizing Fortran Compiler (AOCC), AMD Optimizing CPU Libraries (AOCL)  (link with static libraries)|\n",
    "\n",
    "\n",
    "\n",
    "\n",
    "The following graphs show the execution times for various executables and hardware types. Specifically, these are the execution times in seconds to run the optimization task in [optimize.py](optimize.py), which entails running 10,100 NEC5 simulation jobs in the course of optimizing a Yagi antenna design using a genetic algorithm provided by the `pymoo` package.\n",
    "\n",
    "\n",
    "\n",
    "\n",
    "### Intel E5-2680 Xeon workstation, 16 cores\n",
    "\n",
    "Ten-year-old Intel server platform; AMD executables won't run on older Intel hardware.\n",
    "Version with static Intel libraries executes in 76% of time needed by dynamic/shared version.\n",
    "\n",
    "![Graph](2680.png)\n",
    "\n",
    "\n",
    "\n",
    "### AMD FX-8320 workstation, 8 cores\n",
    "\n",
    "Older (pre-Ryzen) AMD hardware; AMD executables won't run on pre-Ryzen AMD workstations either.\n",
    "Performance of Intel MKL is (I presume) intentionally impaired (but only with dynamic linking?)\n",
    "\n",
    "![Graph](8320.png)\n",
    "\n",
    "\n",
    "\n",
    "## Google Cloud Platform N2D VM (AMD Epyx, 4 cores)\n",
    "\n",
    "![Graph](n2d.png)\n",
    "\n",
    "\n",
    "\n",
    "## Google Cloud Platform N2 VM (Intel Xeon, 4 cores)\n",
    "\n",
    "![Graph](n2.png)\n",
    "\n",
    "\n"
   ]
  },
  {
   "cell_type": "code",
   "execution_count": null,
   "metadata": {},
   "outputs": [],
   "source": []
  }
 ],
 "metadata": {
  "language_info": {
   "name": "python"
  },
  "orig_nbformat": 4
 },
 "nbformat": 4,
 "nbformat_minor": 2
}
