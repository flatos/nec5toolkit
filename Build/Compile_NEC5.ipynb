{
 "cells": [
  {
   "cell_type": "markdown",
   "metadata": {},
   "source": [
    "# Title\n",
    "\n",
    "~~~python\n",
    "df = pd.DataFrame()\n",
    "x = res.X                           # The designs (7 parameters each, as described earlier)\n",
    "xa = design_rat_to_abs(x)           # Convert elem lengths to absolute lengths (from ratios)\n",
    "df[['Rlen','DElen','D1len','D2len', 'Spc1','Spc2','Spc3']] = xa     # Lengths, spacings\n",
    "df['Boom'] = np.sum(x[:,4:], axis=1) / 12                           # Boom length (ft)\n",
    "~~~\n",
    "\n",
    "Some other comment."
   ]
  },
  {
   "cell_type": "code",
   "execution_count": null,
   "metadata": {},
   "outputs": [],
   "source": []
  },
  {
   "cell_type": "markdown",
   "metadata": {},
   "source": [
    "`ax.set_ylabel('F/B dbi')`"
   ]
  }
 ],
 "metadata": {
  "kernelspec": {
   "display_name": "may_2023",
   "language": "python",
   "name": "python3"
  },
  "language_info": {
   "name": "python",
   "version": "3.10.10"
  },
  "orig_nbformat": 4
 },
 "nbformat": 4,
 "nbformat_minor": 2
}
