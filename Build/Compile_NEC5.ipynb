{
 "cells": [
  {
   "cell_type": "markdown",
   "metadata": {},
   "source": [
    "# Compiling on a Linux System\n",
    "\n",
    "\n",
    "## Compiling with the Intel Fortran Compiler and Intel Math Kernel Library (MKL)\n",
    "\n",
    "\n",
    "Install the Intel Fortran Compiler and Intel Math Kernel Library available [here](https://www.intel.com/content/www/us/en/developer/tools/oneapi/fortran-compiler.html).\n",
    "\n",
    "For setting command line options correctly, the [oneAPI Math Kernel Library Link Line Advisor](https://www.intel.com/content/www/us/en/developer/tools/oneapi/onemkl-link-line-advisor.html) is extremely useful.\n",
    "\n",
    "\n",
    "\n",
    "\n",
    "### Building NEC5 with the dynamic MKL library\n",
    "\n",
    "Compile:\n",
    "~~~\n",
    "    ifx -c -I${MKLROOT}/include/intel64/lp64 -I\"${MKLROOT}/include\" NECMP_MOD.f NECSEH_MOD.f NECSP_MOD.f\n",
    "    ifx -c -I${MKLROOT}/include/intel64/lp64 -I\"${MKLROOT}/include\" Datagn.f GASYEH.F GASYP.F NecMPCL.f NECMPFLD.f SOMGEH.f SOMGP.f SOMLIB_PEH.F\n",
    "~~~\n",
    "Link:\n",
    "~~~\n",
    "    ifx -o nec5   ${MKLROOT}/lib/intel64/libmkl_lapack95_lp64.a -L${MKLROOT}/lib/intel64 -lmkl_intel_lp64 -lmkl_intel_thread -lmkl_core -liomp5 -lpthread -lm -ldl Datagn.o  GASYEH.o  GASYP.o  NecMPCL.o  NECMPFLD.o  NECMP_MOD.o  NECSEH_MOD.o  NECSP_MOD.o  SOMGEH.o  SOMGP.o  SOMLIB_PEH.o\n",
    "~~~\n",
    "\n",
    "As of this writing, the file NECMP_MOD.f contains an extraneous parenthesis on the line starting with `SUBROUTINE ALLOC_PARAM_TAB(MXPARAM)` which needs to be edited out.\n",
    "\n",
    "\n",
    "## Building NEC5 with the static MKL library\n",
    "\n",
    "Compile:\n",
    "~~~\n",
    "    ifx -c -I${MKLROOT}/include/intel64/lp64 -I\"${MKLROOT}/include\" NECMP_MOD.f NECSEH_MOD.f NECSP_MOD.f\n",
    "    ifx -c -I${MKLROOT}/include/intel64/lp64 -I\"${MKLROOT}/include\" Datagn.f GASYEH.F GASYP.F NecMPCL.f NECMPFLD.f SOMGEH.f SOMGP.f SOMLIB_PEH.F\n",
    "~~~\n",
    "Link:   Options:  Linux/Intel Fortran Compiler/Intel 64/Static/32-bit integers/Threading=Sequential/LAPACK 95\n",
    "~~~\n",
    "    ifx -o nec5s -static ${MKLROOT}/lib/intel64/libmkl_lapack95_lp64.a -Wl,--start-group ${MKLROOT}/lib/intel64/libmkl_intel_lp64.a ${MKLROOT}/lib/intel64/libmkl_sequential.a ${MKLROOT}/lib/intel64/libmkl_core.a  Datagn.o GASYEH.o GASYP.o NecMPCL.o NECMPFLD.o NECMP_MOD.o NECSEH_MOD.o NECSP_MOD.o SOMGEH.o SOMGP.o SOMLIB_PEH.o -Wl,--end-group -liomp5 -lpthread -lm -ldl\n",
    "~~~\n"
   ]
  },
  {
   "cell_type": "code",
   "execution_count": null,
   "metadata": {},
   "outputs": [],
   "source": []
  },
  {
   "cell_type": "markdown",
   "metadata": {},
   "source": [
    "`ax.set_ylabel('F/B dbi')`"
   ]
  }
 ],
 "metadata": {
  "kernelspec": {
   "display_name": "may_2023",
   "language": "python",
   "name": "python3"
  },
  "language_info": {
   "name": "python",
   "version": "3.10.10"
  },
  "orig_nbformat": 4
 },
 "nbformat": 4,
 "nbformat_minor": 2
}
