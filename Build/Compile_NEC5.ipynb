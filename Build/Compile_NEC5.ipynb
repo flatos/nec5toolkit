{
 "cells": [
  {
   "cell_type": "markdown",
   "metadata": {},
   "source": [
    "# Compiling on a Linux System\n",
    "\n",
    "\n",
    "## Compiling with the Intel Fortran Compiler and Intel Math Kernel Library (MKL)\n",
    "\n",
    "\n",
    "Install the Intel Fortran Compiler and Intel Math Kernel Library available [here](https://www.intel.com/content/www/us/en/developer/tools/oneapi/fortran-compiler.html).\n",
    "\n",
    "For setting command line options correctly, the [oneAPI Math Kernel Library Link Line Advisor](https://www.intel.com/content/www/us/en/developer/tools/oneapi/onemkl-link-line-advisor.html) is extremely useful.\n",
    "\n",
    "\n",
    "\n",
    "\n",
    "### Building NEC5 with the dynamic MKL library\n"
   ]
  },
  {
   "cell_type": "code",
   "execution_count": null,
   "metadata": {},
   "outputs": [],
   "source": []
  },
  {
   "cell_type": "markdown",
   "metadata": {},
   "source": [
    "`ax.set_ylabel('F/B dbi')`"
   ]
  }
 ],
 "metadata": {
  "kernelspec": {
   "display_name": "may_2023",
   "language": "python",
   "name": "python3"
  },
  "language_info": {
   "name": "python",
   "version": "3.10.10"
  },
  "orig_nbformat": 4
 },
 "nbformat": 4,
 "nbformat_minor": 2
}
