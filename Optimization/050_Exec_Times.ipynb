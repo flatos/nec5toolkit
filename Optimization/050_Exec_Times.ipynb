{
 "cells": [
  {
   "cell_type": "code",
   "execution_count": null,
   "metadata": {},
   "outputs": [],
   "source": [
    "# coding=utf-8\n",
    "# Copyright 2023 Frank Latos AC8P\n",
    "#\n",
    "# Licensed under the Apache License, Version 2.0 (the \"License\");\n",
    "# you may not use this file except in compliance with the License.\n",
    "# You may obtain a copy of the License at\n",
    "#\n",
    "#     http://www.apache.org/licenses/LICENSE-2.0\n",
    "#\n",
    "# Unless required by applicable law or agreed to in writing, software\n",
    "# distributed under the License is distributed on an \"AS IS\" BASIS,\n",
    "# WITHOUT WARRANTIES OR CONDITIONS OF ANY KIND, either express or implied.\n",
    "# See the License for the specific language governing permissions and\n",
    "# limitations under the License."
   ]
  },
  {
   "cell_type": "code",
   "execution_count": 1,
   "metadata": {},
   "outputs": [],
   "source": [
    "from necutil import nec5_sim_stdio3, plot_complex_z, plot_azimuth2, plot_elevation, plot_vswr, in2m, plot_azimuth_thumb\n",
    "from necutil import gen_tapered_el2\n",
    "\n",
    "import numpy as np, time\n",
    "\n",
    "# A simple 3-el Yagi with uniform 0.5\" elements\n",
    "yagi = '\\n'.join(\n",
    "    ['CE 3-el Yagi',               \n",
    "     'GW 1 20 -0.91 -2.79 0 -0.91 2.79 0 0.00635',          # R\n",
    "     'GW 2 20 0 -2.56 0 0 2.56 0 0.00635',                  # DE\n",
    "     'GW 3 20 1.37 -2.44 0 1.37 2.44 0 0.00635',            # D\n",
    "     'GE 0 0',                                              # End of geometry; no ground plane specified\n",
    "     'EX 4 2 10 2 1.0 0.0',                                 # Excitation: current source (1A), tag=2, segment=10, far end=2\n",
    "     'FR 0 9 0 0 28.0 0.125',                               # Frequencies for XQ card: 28.0 - 29.0 MHz\n",
    "     'XQ 0',                                                # Simulate feedpoint impedance\n",
    "     'FR 0 1 0 0 28.5 0',                                   # Frequency for RP card: 28.5 MHz\n",
    "     'RP 0 19 37 0000 0 0 5 5',                             # theta: 0-90, phi: 0-180 (5 deg grid)\n",
    "     'EN\\n'                                                 # End\n",
    "    ])\n",
    "\n"
   ]
  },
  {
   "cell_type": "code",
   "execution_count": 2,
   "metadata": {},
   "outputs": [
    {
     "name": "stdout",
     "output_type": "stream",
     "text": [
      "2.53 s ± 60.1 ms per loop (mean ± std. dev. of 7 runs, 1 loop each)\n"
     ]
    }
   ],
   "source": [
    "%%timeit\n",
    "result = nec5_sim_stdio3([yagi]*100)\n",
    "# My exec time = 2.56s --> 25.6 ms/simulation"
   ]
  },
  {
   "cell_type": "code",
   "execution_count": 8,
   "metadata": {},
   "outputs": [],
   "source": [
    "# A simple 3-el Yagi with uniform 0.5\" elements, MININEC ground, z=10m\n",
    "yagi_mininec_gnd = '\\n'.join(\n",
    "    ['CE 3-el Yagi',               \n",
    "     'GW 1 20 -0.91 -2.79 10 -0.91 2.79 10 0.00635',        # R\n",
    "     'GW 2 20 0 -2.56 10 0 2.56 10 0.00635',                # DE\n",
    "     'GW 3 20 1.37 -2.44 10 1.37 2.44 10 0.00635',          # D\n",
    "     'GE 1 0',                                              # End of geometry; ground plane specified\n",
    "     'GD 0 0 0 0 13 0.005 0 0',                             # Some typical MININEC ground parameters\n",
    "     'EX 4 2 10 2 1.0 0.0',                                 # Excitation: current source (1A), tag=2, segment=10, far end=2\n",
    "     'FR 0 9 0 0 28.0 0.125',                               # Frequencies for XQ card: 28.0 - 29.0 MHz\n",
    "     'XQ 0',                                                # Simulate feedpoint impedance\n",
    "     'FR 0 1 0 0 28.5 0',                                   # Frequency for RP card: 28.5 MHz\n",
    "     'RP 0 19 37 0000 0 0 5 5',                             # theta: 0-90, phi: 0-180 (5 deg grid)\n",
    "     'EN\\n'                                                 # End\n",
    "    ])\n"
   ]
  },
  {
   "cell_type": "code",
   "execution_count": 9,
   "metadata": {},
   "outputs": [
    {
     "name": "stdout",
     "output_type": "stream",
     "text": [
      "3.63 s ± 34.2 ms per loop (mean ± std. dev. of 7 runs, 1 loop each)\n"
     ]
    }
   ],
   "source": [
    "%%timeit\n",
    "result = nec5_sim_stdio3([yagi_mininec_gnd]*100)\n",
    "# My exec time = 3.6s --> 36.0 ms/simulation"
   ]
  },
  {
   "cell_type": "code",
   "execution_count": 10,
   "metadata": {},
   "outputs": [],
   "source": [
    "# A simple 3-el Yagi with uniform 0.5\" elements, Sommerfeld ground, z=10m\n",
    "yagi_somm_gnd = '\\n'.join(\n",
    "    ['CE 3-el Yagi',               \n",
    "     'GW 1 20 -0.91 -2.79 10 -0.91 2.79 10 0.00635',        # R\n",
    "     'GW 2 20 0 -2.56 10 0 2.56 10 0.00635',                # DE\n",
    "     'GW 3 20 1.37 -2.44 10 1.37 2.44 10 0.00635',          # D\n",
    "     'GE 1 0',                                              # End of geometry; ground plane specified\n",
    "     'GN 0 0 0 0 13 0.005 1 0 SOM_285_10.nex',              # Sommerfield ground\n",
    "     'EX 4 2 10 2 1.0 0.0',                                 # Excitation: current source (1A), tag=2, segment=10, far end=2\n",
    "     'FR 0 9 0 0 28.0 0.125',                               # Frequencies for XQ card: 28.0 - 29.0 MHz\n",
    "     'XQ 0',                                                # Simulate feedpoint impedance\n",
    "     'FR 0 1 0 0 28.5 0',                                   # Frequency for RP card: 28.5 MHz\n",
    "     'RP 0 19 37 0000 0 0 5 5',                             # theta: 0-90, phi: 0-180 (5 deg grid)\n",
    "     'EN\\n'                                                 # End\n",
    "    ])\n",
    "\n",
    "# Run one first to generate Sommerfeld ground tables to disk\n",
    "_ = nec5_sim_stdio3([yagi_somm_gnd])"
   ]
  },
  {
   "cell_type": "code",
   "execution_count": 11,
   "metadata": {},
   "outputs": [
    {
     "name": "stdout",
     "output_type": "stream",
     "text": [
      "10.1 s ± 895 ms per loop (mean ± std. dev. of 7 runs, 1 loop each)\n"
     ]
    }
   ],
   "source": [
    "%%timeit\n",
    "result = nec5_sim_stdio3([yagi_somm_gnd]*100)\n",
    "# My exec time = 10.3s --> 103.0 ms/simulation\n",
    "# Also tried 'GN 1' perfect ground:  My exec time = 2.34s --> 23.4 ms/simulation"
   ]
  },
  {
   "cell_type": "code",
   "execution_count": 12,
   "metadata": {},
   "outputs": [],
   "source": [
    "result = nec5_sim_stdio3([yagi]*100)\n",
    "\n",
    "xl_max = 200                    # Max inductive matching reactance considered (ohms)\n",
    "z0 = 50\n",
    "x_m = np.arange(1,xl_max+1,dtype=float)             # Matching reactance values considered, e.g. 1,2,3...200 ohms\n",
    "# Pre-calculate 1/Xl for range of matching inductive reactances considered\n",
    "freqs = np.linspace(28.0, 29.0, num=9)        # Freqs used in feedpoint z simulation\n",
    "# Array of (1 / matching reactance) at each freq; shape = (len(x_m), len(freqs))\n",
    "Xlmr = np.reciprocal(((1.0j)*x_m)[:,None] @ (freqs[None,:] / 28.5))         # L\n",
    "\n",
    "def find_opt_match(x):    \n",
    "    rzs = np.reciprocal(x)                                          # 1/z\n",
    "    zmatch = np.reciprocal(Xlmr + rzs)                              # 1 / ( 1/z + 1/Xl )\n",
    "    abs_refl_coef = np.abs((zmatch-z0) / (zmatch+z0))               # Reflection coefs\n",
    "    vswr_curves = (1 + abs_refl_coef) / (1 - abs_refl_coef)         # vswr\n",
    "    max_vswr = np.max(vswr_curves, axis=1)                          # Max vswr for any row (reactance value)\n",
    "    idx = np.argmin(max_vswr)                                       # Index of min vswr value\n",
    "    # Returns:  [0]     optimum matching inductive reactance\n",
    "    #           [1]     max vswr within band of interest\n",
    "    #           [2:]    vswr at each freq in band (# of points = f_num = 9 in this example)\n",
    "    return np.hstack([x_m[idx], max_vswr[idx], vswr_curves[idx]])\n"
   ]
  },
  {
   "cell_type": "code",
   "execution_count": 13,
   "metadata": {},
   "outputs": [
    {
     "name": "stdout",
     "output_type": "stream",
     "text": [
      "20.8 ms ± 70.2 µs per loop (mean ± std. dev. of 7 runs, 10 loops each)\n"
     ]
    }
   ],
   "source": [
    "%%timeit\n",
    "# Extracts feedpoint complex z for each design --> complex array of shape (#designs, #freqs)\n",
    "zs = np.array([[freq[1] for freq in des[0][0]] for des in result])\n",
    "\n",
    "# Compute optimum matching reactance, max vswr within band for each design\n",
    "xl_mv = np.apply_along_axis(find_opt_match, 1, zs)\n",
    "vswr = xl_mv[:,1][:,None]                   # Max vswr for each design\n",
    "opt_xl = xl_mv[:,0][:,None]                 # Corresponding matching reactance\n",
    "vswr_curves = xl_mv[:,2:]                   # VSWR at each freq in band (f_num)\n",
    "\n",
    "# My exec time = 19.2ms --> 0.192 ms/simulation\n"
   ]
  },
  {
   "cell_type": "code",
   "execution_count": 2,
   "metadata": {},
   "outputs": [],
   "source": [
    "from necutil import convert_rp_array, convert_rp_array_0, integrate_power_density_3\n",
    "result = nec5_sim_stdio3([yagi]*100)"
   ]
  },
  {
   "cell_type": "code",
   "execution_count": 5,
   "metadata": {},
   "outputs": [],
   "source": [
    "from numba import jit,njit,float64\n",
    "import numba as nb\n",
    "\n",
    "# @njit\n",
    "# def get_angle_ranges(grid, startang, endang):\n",
    "#     ngrid = len(grid)\n",
    "#     halfgrid = (grid[1] - grid[0]) / 2\n",
    "#     angs = np.zeros((2,ngrid))\n",
    "#     angs[0,:] = grid-halfgrid\n",
    "#     angs[1,:] = grid+halfgrid\n",
    "#     angs = np.minimum(np.maximum(angs,startang), endang)\n",
    "#     return angs\n",
    "\n",
    "@njit\n",
    "def integrate_power_density_4(arr, thetal=0.0, thetah=90.0, phil=0.0, phih=180.0):\n",
    "\n",
    "    # Compute span of angles associated with each grid point of radiation pattern\n",
    "    #   grid    angles on the grid calculated by RP card, e.g. [0,10,20,...,180] or [0,10,20,...,90]\n",
    "    #   startang, endang    range of interest (any float value)\n",
    "    def get_angle_ranges(grid, startang, endang):\n",
    "        ngrid = len(grid)\n",
    "        halfgrid = (grid[1] - grid[0]) / 2\n",
    "        angs = np.zeros((2,ngrid))\n",
    "        angs[0,:] = grid-halfgrid\n",
    "        angs[1,:] = grid+halfgrid\n",
    "        angs = np.minimum(np.maximum(angs,startang), endang)\n",
    "        return angs\n",
    "\n",
    "    assert arr.shape[0] in [91, 46, 31, 19, 16, 11, 10, 7, 6, 4, 3]\n",
    "    assert arr.shape[1] in [181, 91, 61, 46, 37, 31, 21, 19, 16, 13, 11, 10, 7, 5, 3]\n",
    "    thinc = 90 // (arr.shape[0] - 1)            # Grid increment (theta)\n",
    "    phinc = 180 // (arr.shape[1] - 1)           # Grid increment (phi)\n",
    "    thgrid = np.arange(0,91,thinc)        # e.g. [0, 10, ..., 90] for grid = 10\n",
    "    phgrid = np.arange(0,181,phinc)       #      [0, 10, ..., 180]\n",
    "\n",
    "    # 'tweight' = areas of horizontal strips associated with each grid point (within thetal,thetah limits)\n",
    "    thlimits = np.cos(np.deg2rad(get_angle_ranges(thgrid, thetal, thetah)))         # Angle range to integrate for each grid point\n",
    "    tweight = np.pi * (thlimits[0,:] - thlimits[1,:])\n",
    "\n",
    "    # 'pweight' = frac of total area represented by vertical strips associated with each grid point (within phil,phih limits)\n",
    "    phlimits = get_angle_ranges(phgrid, phil, phih)         # Angle range to integrate for each grid point\n",
    "    pweight = (phlimits[1,:] - phlimits[0,:]) / 180\n",
    "    \n",
    "    # Sum area and power weighted by area\n",
    "    #   Convert dB power array to ratio, mult by corresponding area \n",
    "    #    -> pweight broadcast along cols, weight[:,None] is a column vec, broadcast along rows\n",
    "    weighted_pwr = tweight[:,None] * (pweight * np.power(10, arr / 10))      # Mult by weight (as col vec)\n",
    "    # Total relative power\n",
    "    pwr = np.sum(weighted_pwr)\n",
    "    # Area of selected region\n",
    "    area = np.sum(tweight) * np.sum(pweight)\n",
    "\n",
    "    return pwr, area\n"
   ]
  },
  {
   "cell_type": "code",
   "execution_count": 7,
   "metadata": {},
   "outputs": [],
   "source": [
    "# %%timeit\n",
    "# Create list of rad pat arrays suitable for integrate_power_density_3()\n",
    "\n",
    "# Original: convert_rp_array_0() (non-numba)\n",
    "# My exec time = 4.98 ms --> 0.049 ms/simulation\n",
    "\n",
    "# New numba version: convert_rp_array()\n",
    "# My exec time = 3.37 ms --> 0.033 ms/simulation\n",
    "\n",
    "rps = [convert_rp_array(res[1][0][0][1]) for res in result]           "
   ]
  },
  {
   "cell_type": "code",
   "execution_count": 10,
   "metadata": {},
   "outputs": [
    {
     "name": "stdout",
     "output_type": "stream",
     "text": [
      "2.89 ms ± 282 µs per loop (mean ± std. dev. of 7 runs, 100 loops each)\n"
     ]
    }
   ],
   "source": [
    "%%timeit\n",
    "from necutil import integrate_power_density_4\n",
    "# Integrate response over some range of theta, phi\n",
    "\n",
    "# Original version integrate_power_density_3()   (non-numba)\n",
    "# My exec time = 369 ms --> 3.69 ms/simulation\n",
    "# pwr = [integrate_power_density_3(arr, thetal=0.0, thetah=90.0, phil=90.0, phih=180.0) for arr in rps]\n",
    "\n",
    "# Rewritten using numba: integrate_power_density_4()\n",
    "# My exec time = 3 ms --> 30 us/simulation (!!)\n",
    "pwr = [integrate_power_density_4(arr, thetal=0.0, thetah=90.0, phil=90.0, phih=180.0) for arr in rps]"
   ]
  },
  {
   "cell_type": "code",
   "execution_count": 30,
   "metadata": {},
   "outputs": [
    {
     "data": {
      "text/plain": [
       "(0.00011074625880102366, 0.005969377609175829)"
      ]
     },
     "execution_count": 30,
     "metadata": {},
     "output_type": "execute_result"
    }
   ],
   "source": [
    "from necutil import integrate_power_density_4\n",
    "integrate_power_density_4(rps[0], thetal=70.0, thetah=90.0, phil=90.0, phih=91.0)\n"
   ]
  },
  {
   "cell_type": "code",
   "execution_count": 3,
   "metadata": {},
   "outputs": [],
   "source": [
    "from numba import jit,njit,float64\n",
    "import numba as nb\n",
    "\n",
    "# Generate some results to use for testing\n",
    "from necutil import nec5_sim_stdio3, convert_rp_array\n",
    "yagi = '\\n'.join(\n",
    "    ['CE 3-el Yagi',               \n",
    "     'GW 1 20 -0.91 -2.79 0 -0.91 2.79 0 0.00635',          # R\n",
    "     'GW 2 20 0 -2.56 0 0 2.56 0 0.00635',                  # DE\n",
    "     'GW 3 20 1.37 -2.44 0 1.37 2.44 0 0.00635',            # D\n",
    "     'GE 0 0',                                              # End of geometry; no ground plane specified\n",
    "     'EX 4 2 10 2 1.0 0.0',                                 # Excitation: current source (1A), tag=2, segment=10, far end=2\n",
    "     'FR 0 9 0 0 28.0 0.125',                               # Frequencies for XQ card: 28.0 - 29.0 MHz\n",
    "     'XQ 0',                                                # Simulate feedpoint impedance\n",
    "     'FR 0 1 0 0 28.5 0',                                   # Frequency for RP card: 28.5 MHz\n",
    "     'RP 0 19 37 0000 0 0 5 5',                             # theta: 0-90, phi: 0-180 (5 deg grid)\n",
    "     'EN\\n'                                                 # End\n",
    "    ])\n",
    "result = nec5_sim_stdio3([yagi]*100)\n",
    "arr180 = convert_rp_array(result[0][1][0][0][1])\n",
    "\n",
    "yagi = '\\n'.join(\n",
    "    ['CE 3-el Yagi',               \n",
    "     'GW 1 20 -0.91 -2.79 0 -0.91 2.79 0 0.00635',          # R\n",
    "     'GW 2 20 0 -2.56 0 0 2.56 0 0.00635',                  # DE\n",
    "     'GW 3 20 1.37 -2.44 0 1.37 2.44 0 0.00635',            # D\n",
    "     'GE 0 0',                                              # End of geometry; no ground plane specified\n",
    "     'EX 4 2 10 2 1.0 0.0',                                 # Excitation: current source (1A), tag=2, segment=10, far end=2\n",
    "     'FR 0 9 0 0 28.0 0.125',                               # Frequencies for XQ card: 28.0 - 29.0 MHz\n",
    "     'XQ 0',                                                # Simulate feedpoint impedance\n",
    "     'FR 0 1 0 0 28.5 0',                                   # Frequency for RP card: 28.5 MHz\n",
    "     'RP 0 19 72 0000 0 0 5 5',                             # theta: 0-90, phi: 0-355 (5 deg grid)\n",
    "     'EN\\n'                                                 # End\n",
    "    ])\n",
    "result = nec5_sim_stdio3([yagi]*100)\n",
    "arr360 = convert_rp_array(result[0][1][0][0][1])\n",
    "\n",
    "# Compute span of angles associated with each grid point of radiation pattern\n",
    "#   grid    angles on the grid calculated by RP card, e.g. [0,10,20,...,180] or [0,10,20,...,90]\n",
    "#   startang, endang    range of interest (any float value)\n",
    "@njit\n",
    "def get_angle_ranges(grid, startang, endang):\n",
    "    ngrid = len(grid)\n",
    "    halfgrid = (grid[1] - grid[0]) / 2\n",
    "    angs = np.zeros((2,ngrid))\n",
    "    angs[0,:] = grid-halfgrid\n",
    "    angs[1,:] = grid+halfgrid\n",
    "    angs = np.minimum(np.maximum(angs,startang), endang)\n",
    "    return angs\n",
    "@njit\n",
    "def integrate_power_density_4(arr, thetal=0.0, thetah=90.0, phil=0.0, phih=180.0):\n",
    "    assert arr.shape[0] in [91, 46, 31, 19, 16, 11, 10, 7, 6, 4, 3, 2]\n",
    "    assert arr.shape[1] in [181, 91, 61, 46, 37, 31, 21, 19, 16, 13, 11, 10, 7, 6, 5, 4, 3, 2]\n",
    "    thinc = 90 // (arr.shape[0] - 1)            # Grid increment (theta)\n",
    "    phinc = 180 // (arr.shape[1] - 1)           # Grid increment (phi)\n",
    "    thgrid = np.arange(0,91,thinc)        # e.g. [0, 10, ..., 90] for grid = 10\n",
    "    phgrid = np.arange(0,181,phinc)       #      [0, 10, ..., 180]\n",
    "\n",
    "    # 'tweight' = areas of horizontal strips associated with each grid point (within thetal,thetah limits)\n",
    "    thlimits = np.cos(np.deg2rad(get_angle_ranges(thgrid, thetal, thetah)))         # Angle range to integrate for each grid point\n",
    "    tweight = np.pi * (thlimits[0,:] - thlimits[1,:])\n",
    "\n",
    "    # 'pweight' = frac of total area represented by vertical strips associated with each grid point (within phil,phih limits)\n",
    "    phlimits = get_angle_ranges(phgrid, phil, phih)         # Angle range to integrate for each grid point\n",
    "    pweight = (phlimits[1,:] - phlimits[0,:]) / 180\n",
    "    \n",
    "    # Sum area and power weighted by area\n",
    "    #   Convert dB power array to ratio, mult by corresponding area \n",
    "    #    -> pweight broadcast along cols, weight[:,None] is a column vec, broadcast along rows\n",
    "    weighted_pwr = tweight[:,None] * (pweight * np.power(10, arr / 10))      # Mult by weight (as col vec)\n",
    "    # Total relative power\n",
    "    pwr = np.sum(weighted_pwr)\n",
    "    # Area of selected region\n",
    "    area = np.sum(tweight) * np.sum(pweight)\n",
    "\n",
    "    return pwr, area\n",
    "\n",
    "\n",
    "# Same as above, for RP data that covers full 360 degrees of azimuth\n",
    "# Phi (azimuth) values:   0 <= phi < 360\n",
    "@njit\n",
    "def integrate_power_density_360(arr, thetal=0.0, thetah=90.0, philow=0.0, phihigh=360.0):\n",
    "    assert arr.shape[0] in [91, 46, 31, 19, 16, 11, 10, 7, 6, 4, 3, 2]\n",
    "    assert arr.shape[1] in [360,180,120,90,72,60,45,40,36,30,24,20,18,15,12,10,9,8,6,5,4]\n",
    "    thinc = 90 // (arr.shape[0] - 1)            # Grid increment (theta)\n",
    "    phinc = 360 // (arr.shape[1])               # Grid increment (phi)\n",
    "    thgrid = np.arange(0,91,thinc)              # e.g. [0, 10, ..., 90] for grid = 10\n",
    "    phgrid = np.arange(0,360,phinc)             #      [0, 10, ..., 350]\n",
    "\n",
    "    # Map angles into [-wrap,+wrap) interval ('wrap' is where RP data wraps around)\n",
    "    phwrapneg = - phinc / 2                     # Phi 'wrap' angle (in neg degrees)\n",
    "    phwrap = 360 + phwrapneg                    # Phi 'wrap' angle (in pos degrees)\n",
    "    phil = philow if philow >= phwrapneg else philow + 360\n",
    "    phih = phihigh if phihigh >= phwrapneg else phihigh + 360\n",
    "    phil = phil if phil < phwrap else phil - 360\n",
    "    phih = phih if phih < phwrap else phih - 360\n",
    "\n",
    "    # 'pweight' = frac of total area represented by vertical strips associated with each grid point (within phil,phih limits)\n",
    "    if np.abs(phihigh-philow-360.0) < 0.0001:\n",
    "        pweight = np.full_like(phgrid,phinc) / 360.0            # Special case: range 0.0 - 360.0\n",
    "    elif phil > phih:\n",
    "        # Phi range crosses over end of RP data\n",
    "        phlimits = get_angle_ranges(phgrid, phil, phwrap)         # Angle range to integrate for each grid point\n",
    "        pweight = (phlimits[1,:] - phlimits[0,:]) / 360\n",
    "        phlimits = get_angle_ranges(phgrid, phwrapneg, phih)\n",
    "        pweight += (phlimits[1,:] - phlimits[0,:]) / 360\n",
    "    else:\n",
    "        phlimits = get_angle_ranges(phgrid, phil, phih)           # Angle range to integrate for each grid point\n",
    "        pweight = (phlimits[1,:] - phlimits[0,:]) / 360\n",
    "\n",
    "    # 'tweight' = areas of horizontal strips associated with each grid point (within thetal,thetah limits)\n",
    "    thlimits = np.cos(np.deg2rad(get_angle_ranges(thgrid, thetal, thetah)))         # Angle range to integrate for each grid point\n",
    "    tweight = 2 * np.pi * (thlimits[0,:] - thlimits[1,:])\n",
    "\n",
    "    # Sum area and power weighted by area\n",
    "    #   Convert dB power array to ratio, mult by corresponding area \n",
    "    #    -> pweight broadcast along cols, weight[:,None] is a column vec, broadcast along rows\n",
    "    weighted_pwr = tweight[:,None] * (pweight * np.power(10, arr / 10))      # Mult by weight (as col vec)\n",
    "    # Total relative power\n",
    "    pwr = np.sum(weighted_pwr)\n",
    "    # Area of selected region\n",
    "    area = np.sum(tweight) * np.sum(pweight)\n",
    "\n",
    "    return pwr, area\n",
    "\n",
    "\n"
   ]
  },
  {
   "cell_type": "code",
   "execution_count": 6,
   "metadata": {},
   "outputs": [
    {
     "name": "stdout",
     "output_type": "stream",
     "text": [
      "55.1 µs ± 6.29 µs per loop (mean ± std. dev. of 7 runs, 10,000 loops each)\n"
     ]
    }
   ],
   "source": [
    "%%timeit\n",
    "integrate_power_density_360(arr360, thetal=12, thetah=90.0, philow=0.0, phihigh=20.0)\n",
    "# My exec time = 55 us/simulation"
   ]
  },
  {
   "cell_type": "code",
   "execution_count": 2,
   "metadata": {},
   "outputs": [],
   "source": [
    "# Test matching components - numpy matrix math vs numba\n",
    "from numba import njit\n",
    "\n",
    "xl_max = 200\n",
    "x_m = np.arange(1,xl_max+1,dtype=float)             # Matching reactance values considered, e.g. 1,2,3...200 ohms\n",
    "f_min = 28.0                # Band of interest\n",
    "f_max = 29.0\n",
    "f_center = np.mean([f_min,f_max])\n",
    "f_num = 9                   # Num of freqs evaluated within band\n",
    "z0 = 50          \n",
    "# Pre-calculate 1/Xl for range of matching inductive reactances considered\n",
    "freqs = np.linspace(f_min, f_max, num=f_num)        # Freqs used in feedpoint z simulation\n",
    "# Array of (1 / matching reactance) at each freq; shape = (len(x_m), len(freqs))\n",
    "Xlmr = np.reciprocal(((1.0j)*x_m)[:,None] @ (freqs[None,:] / f_center ))         # L\n",
    "\n",
    "yagi = '\\n'.join(\n",
    "    ['CE 3-el Yagi',               \n",
    "     'GW 1 20 -0.91 -2.79 0 -0.91 2.79 0 0.00635',          # R\n",
    "     'GW 2 20 0 -2.56 0 0 2.56 0 0.00635',                  # DE\n",
    "     'GW 3 20 1.37 -2.44 0 1.37 2.44 0 0.00635',            # D\n",
    "     'GE 0 0',                                              # End of geometry; no ground plane specified\n",
    "     'EX 4 2 10 2 1.0 0.0',                                 # Excitation: current source (1A), tag=2, segment=10, far end=2\n",
    "     f'FR 0 {f_num} 0 0 {f_min} {(f_max-f_min)/(f_num-1)}',                               # Frequencies for XQ card: 28.0 - 29.0 MHz\n",
    "     'XQ 0',                                                # Simulate feedpoint impedance\n",
    "     'EN\\n'                                                 # End\n",
    "    ])\n",
    "res = nec5_sim_stdio3([yagi]*100)\n",
    "\n",
    "# This extracts the impedances at the 9 freqs we specified, for the 100 designs we simulated  -->  shape is (100,9)\n",
    "zarr = np.array([tuple(zip(*r[0][0]))[1] for r in res])\n",
    "\n",
    "\n",
    "# *** Using numpy matrix math:\n",
    "\n",
    "# \n",
    "# Find optimum matching reactance and resulting max VSWR within band of interest\n",
    "# \n",
    "#  Args:    x        complex z for each frequency in simulation (row vector)\n",
    "#\n",
    "#  Returns:     [matching inductive reactance, max vswr in band]  (row vector)\n",
    "#\n",
    "def find_opt_match(x):    \n",
    "    rzs = np.reciprocal(x)                              # 1/z\n",
    "    zmatch = np.reciprocal(Xlmr + rzs)                  # 1 / ( 1/z + 1/Xl ) Note: all rows of Xlmr \n",
    "    abs_refl_coef = np.abs((zmatch-z0) / (zmatch+z0))     # Reflection coefs\n",
    "    vswr_curves = (1 + abs_refl_coef) / (1 - abs_refl_coef)         # vswr\n",
    "    max_vswr = np.max(vswr_curves, axis=1)          # Max vswr for any row (reactance value)\n",
    "    idx = np.argmin(max_vswr)                       # Index of min vswr value\n",
    "    # Returns:  [0]     optimum matching inductive reactance\n",
    "    #           [1]     max vswr within band of interest\n",
    "    #           [2:]    vswr at each freq in band (# of points = f_num = 9 in this example)\n",
    "    return np.hstack([x_m[idx], max_vswr[idx], vswr_curves[idx]])\n",
    "\n",
    "\n",
    "rx_1 = 1 / ((1.0j) * (freqs / f_center ))       # Recip of +1j at each freq of interest\n",
    "@njit\n",
    "def find_opt_match_numba(z):    \n",
    "    xl_min = 0\n",
    "    vswr_min = 9999.0\n",
    "    for xl in range(1,xl_max+1):\n",
    "        zp = 1 / (rx_1 / xl + 1/z)              # Parallel z of feedpoint and matching Xl at each freq\n",
    "        abs_refl_coef = np.abs((zp-z0) / (zp+z0))     # Reflection coefs\n",
    "        vswr_curves = (1 + abs_refl_coef) / (1 - abs_refl_coef)         # vswr\n",
    "        max_vswr = np.max(vswr_curves) \n",
    "        if max_vswr < vswr_min:\n",
    "            vswr_min = max_vswr\n",
    "            xl_min = xl\n",
    "    ret = np.empty((len(z)+2))\n",
    "    ret[0] = xl_min\n",
    "    ret[1] = vswr_min\n",
    "    ret[2:] = vswr_curves\n",
    "    return ret\n",
    "\n",
    "\n",
    "def find_opt_match_null(x):    \n",
    "    return x\n"
   ]
  },
  {
   "cell_type": "code",
   "execution_count": 69,
   "metadata": {},
   "outputs": [],
   "source": [
    "# %%timeit\n",
    "# xl_mv = np.apply_along_axis(find_opt_match, 1, zarr)\n",
    "xl_mv = np.apply_along_axis(find_opt_match_numba, 1, zarr)\n",
    "# xl_mv = np.apply_along_axis(find_opt_match_null, 1, zarr)\n",
    "\n",
    "# Original (non-numba):\n",
    "# My exec time = 20 ms --> 0.2 ms/simulation\n",
    "\n",
    "# New numba version: convert_rp_array()\n",
    "# My exec time = 24.1 ms --> 0.241 ms/simulation\n"
   ]
  },
  {
   "cell_type": "code",
   "execution_count": 26,
   "metadata": {},
   "outputs": [],
   "source": [
    "\n",
    "# Perform impedance transformation using a 0-180 degree transmission line\n",
    "\n",
    "f_min = 28.0                                # Band of interest (MHz)\n",
    "f_max = 29.0\n",
    "f_center = np.mean([f_min,f_max])\n",
    "f_num = 9                                   # Num of freqs evaluated within band\n",
    "freqs = np.linspace(f_min, f_max, num=f_num)        # Freqs evaluated within band\n",
    "\n",
    "N_DEG = 180\n",
    "z0 = 50                                     # TL char impedance\n",
    "z0m = 300                                   # Matching section char impedance\n",
    "degs = np.linspace(0,np.pi,N_DEG)           # 0-179 degrees (in radians)\n",
    "# Precompute \n",
    "cosh = np.cosh((degs * 1.0j)[:,None] @ (freqs[None,:] / f_center ))         # (degs * 1.0j)[:,None] -->  (angle*j) as a column vector, \n",
    "sinh = np.sinh((degs * 1.0j)[:,None] @ (freqs[None,:] / f_center ))         #    freqs[None,:]  -->  frequencies as a row vector\n",
    "\n",
    "zl = zarr[0][None,:]                        # Feedpoint z at each freq as a row vector\n",
    "z50 = np.full((1,f_num), 50)"
   ]
  },
  {
   "cell_type": "code",
   "execution_count": 27,
   "metadata": {},
   "outputs": [],
   "source": [
    "# %%timeit\n",
    "# Results, shape = (#degree increments, #freqs)\n",
    "# zin = z0m * (cosh @ zl + sinh * z0m) / (sinh @ zl + cosh * z0m)        # Execution time approx 80us\n",
    "zin = z0m * (cosh * zl + sinh * z0m) / (sinh * zl + cosh * z0m)\n",
    "abs_refl_coef = np.absolute((zin-z0) / (zin+z0))                         # Reflection coefs\n",
    "vswr_curves = (1 + abs_refl_coef) / (1 - abs_refl_coef)             # vswr\n",
    "max_vswr = np.max(vswr_curves, axis=1)                              # Max vswr at each Tl length\n",
    "\n",
    "# My exec time = 175us"
   ]
  },
  {
   "cell_type": "code",
   "execution_count": null,
   "metadata": {},
   "outputs": [],
   "source": []
  },
  {
   "cell_type": "code",
   "execution_count": null,
   "metadata": {},
   "outputs": [],
   "source": []
  },
  {
   "cell_type": "code",
   "execution_count": null,
   "metadata": {},
   "outputs": [],
   "source": []
  },
  {
   "cell_type": "code",
   "execution_count": null,
   "metadata": {},
   "outputs": [],
   "source": []
  }
 ],
 "metadata": {
  "kernelspec": {
   "display_name": "may_2023",
   "language": "python",
   "name": "python3"
  },
  "language_info": {
   "codemirror_mode": {
    "name": "ipython",
    "version": 3
   },
   "file_extension": ".py",
   "mimetype": "text/x-python",
   "name": "python",
   "nbconvert_exporter": "python",
   "pygments_lexer": "ipython3",
   "version": "3.10.10"
  },
  "orig_nbformat": 4
 },
 "nbformat": 4,
 "nbformat_minor": 2
}
